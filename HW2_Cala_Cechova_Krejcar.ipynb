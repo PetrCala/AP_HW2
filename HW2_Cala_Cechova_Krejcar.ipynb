{
 "cells": [
  {
   "cell_type": "markdown",
   "metadata": {},
   "source": [
    "# JEM092 Asset Pricing - Homework 2\n",
    "### Summer Semester 2021/2022\n",
    "\n",
    "### Authors: *Petr Čala, Tereza Čechová, Vilém Krejcar*\n",
    "___\n",
    "\n",
    "First things first, we install and load the necessary packages. Then we arbitrarily set a seed for reproducibility."
   ]
  },
  {
   "cell_type": "code",
   "execution_count": 2,
   "metadata": {},
   "outputs": [],
   "source": [
    "# Required packages\n",
    "packages <- c(\"quantmod\", \"tseries\", \"dplyr\", \"xml2\", \"httr\", \"PortfolioAnalytics\")\n",
    "\n",
    "# Install packages not yet installed\n",
    "installed_packages <- packages %in% rownames(installed.packages())\n",
    "if (any(installed_packages == FALSE)) {\n",
    "  install.packages(packages[!installed_packages])\n",
    "  print(paste(\"Installing package \", packages[!installed_packages],\"...\", sep = \"\"))\n",
    "}\n",
    "\n",
    "# Packages loading\n",
    "invisible(lapply(packages, library, character.only = TRUE))\n",
    "rm(list = ls()) #Clean environment\n",
    "\n",
    "# Miscellaneous\n",
    "options(repr.plot.width = 6, repr.plot.height = 5)\n",
    "set.seed(420)"
   ]
  },
  {
   "cell_type": "markdown",
   "metadata": {},
   "source": [
    "### Groundwork\n",
    "\n",
    "Although we were able to obtain the data in the first homework, **we choose to use the provided dataset**, as this allows for easier and **more reliable reproducibility**. First we load the data, subset the necessary stocks, save these as new variables, and then discard the source data in order to alleviate some memory."
   ]
  },
  {
   "cell_type": "code",
   "execution_count": 3,
   "metadata": {},
   "outputs": [],
   "source": [
    "# Static variables\n",
    "group_id <- \"61505008\"\n",
    "required_file_names <- c(\"rand_download\")\n",
    "exp_len <- 20 #Number of stocks to be analyzed"
   ]
  },
  {
   "cell_type": "code",
   "execution_count": 4,
   "metadata": {},
   "outputs": [
    {
     "name": "stdout",
     "output_type": "stream",
     "text": [
      "[1] \"All required files were located successfully.\"\n"
     ]
    }
   ],
   "source": [
    "# Assert presence of necessary files\n",
    "missing = 0\n",
    "for (i in required_file_names) {\n",
    "    name <- paste(group_id, \"_\", i, \".csv\", sep = \"\")\n",
    "    if (!name %in% list.files()) {\n",
    "        print(paste(\"File \", name, \" is missing from the folder.\", sep = \"\"))\n",
    "        missing <- missing + 1\n",
    "    }\n",
    "}\n",
    "if (missing == 0) {\n",
    "    print('All required files were located successfully.')\n",
    "}"
   ]
  },
  {
   "cell_type": "code",
   "execution_count": 5,
   "metadata": {},
   "outputs": [],
   "source": [
    "# A function for loading the tickers from a file\n",
    "getTickers <- function(file_name) {\n",
    "    tickers <- as.character(read.csv(paste(group_id, \"_\", file_name, \".csv\", sep = \"\"))[,2]) # Load the tickers\n",
    "    if (length(tickers) != exp_len) {\n",
    "        print(paste(\"There seem to be some missing tickers. There should be \", exp_len, \" of them in total.\", sep = \"\"))\n",
    "    }\n",
    "    return(tickers)\n",
    "}\n",
    "tickers <- getTickers(\"rand_download\") # We of course load the tickers as so"
   ]
  },
  {
   "cell_type": "code",
   "execution_count": 22,
   "metadata": {
    "scrolled": true
   },
   "outputs": [],
   "source": [
    "# Load source data into the working directory\n",
    "source_data <- load('Asset_Pricing_HW_2_data.RData')\n",
    "\n",
    "# Subset only for the stocks we will need\n",
    "BV <- book_value_sap500[tickers]\n",
    "MKT <- MktCap_sap500[tickers]\n",
    "OHLCV <- OHLCV_sap500[tickers]\n",
    "\n",
    "# Remove source data from working directory for better memory management\n",
    "rm(list = source)"
   ]
  },
  {
   "cell_type": "markdown",
   "metadata": {},
   "source": [
    "### Portfolio analysis"
   ]
  }
 ],
 "metadata": {
  "kernelspec": {
   "display_name": "R",
   "language": "R",
   "name": "ir"
  },
  "language_info": {
   "codemirror_mode": "r",
   "file_extension": ".r",
   "mimetype": "text/x-r-source",
   "name": "R",
   "pygments_lexer": "r",
   "version": "3.6.1"
  }
 },
 "nbformat": 4,
 "nbformat_minor": 4
}
