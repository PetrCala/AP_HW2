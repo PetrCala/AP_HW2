{
 "cells": [
  {
   "cell_type": "markdown",
   "metadata": {},
   "source": [
    "# JEM092 Asset Pricing\n",
    "# Seminar 11\n",
    "## Lukáš Petrásek\n",
    "### Charles University\n",
    "### lukas.petrasek@fsv.cuni.cz\n",
    "## 28.4.2022"
   ]
  },
  {
   "cell_type": "code",
   "execution_count": 2,
   "metadata": {
    "vscode": {
     "languageId": "r"
    }
   },
   "outputs": [
    {
     "name": "stdout",
     "output_type": "stream",
     "text": [
      "[1] \"All packages loaded successfully...\"\n"
     ]
    }
   ],
   "source": [
    "# Required packages\n",
    "packages <- c(\"lubridate\", \"quantmod\", \"sandwich\", \"xts\")\n",
    "\n",
    "# Install packages not yet installed\n",
    "installed_packages <- packages %in% rownames(installed.packages())\n",
    "if (any(installed_packages == FALSE)) {\n",
    "  install.packages(packages[!installed_packages])\n",
    "  print(paste(\"Installing package \", packages[!installed_packages],\"...\", sep = \"\"))\n",
    "}\n",
    "\n",
    "# Packages loading\n",
    "invisible(lapply(packages, library, character.only = TRUE))\n",
    "rm(list = ls()) #Clean environment\n",
    "print('All packages loaded successfully...')\n",
    "\n",
    "# Miscellaneous\n",
    "options(repr.plot.width = 6, repr.plot.height = 5)\n",
    "set.seed(420)"
   ]
  },
  {
   "cell_type": "markdown",
   "metadata": {},
   "source": [
    "# Data preparation"
   ]
  },
  {
   "cell_type": "code",
   "execution_count": 3,
   "metadata": {
    "vscode": {
     "languageId": "r"
    }
   },
   "outputs": [
    {
     "name": "stderr",
     "output_type": "stream",
     "text": [
      "Warning message in readChar(con, 5L, useBytes = TRUE):\n",
      "\"cannot open compressed file 'Asset_Pricing_seminar_data.RData', probable reason 'No such file or directory'\""
     ]
    },
    {
     "ename": "ERROR",
     "evalue": "Error in readChar(con, 5L, useBytes = TRUE): cannot open the connection\n",
     "output_type": "error",
     "traceback": [
      "Error in readChar(con, 5L, useBytes = TRUE): cannot open the connection\nTraceback:\n",
      "1. load(\"Asset_Pricing_seminar_data.RData\")",
      "2. readChar(con, 5L, useBytes = TRUE)"
     ]
    }
   ],
   "source": [
    "load('Asset_Pricing_seminar_data.RData')\n",
    "ls() "
   ]
  },
  {
   "cell_type": "code",
   "execution_count": null,
   "metadata": {
    "vscode": {
     "languageId": "r"
    }
   },
   "outputs": [],
   "source": [
    "START_DATE <- '2005-01-01'\n",
    "END_DATE <- '2021-03-31'\n",
    "\n",
    "# Load stock specific data.\n",
    "prices <- c()\n",
    "bm_ratios <- c()\n",
    "market_caps <- c()\n",
    "for (i in 1:length(OHLCV_sap100)) {\n",
    "    ticker <- as.character(names(OHLCV_sap100)[i])\n",
    "    stock_data <- getSymbols(\n",
    "        ticker,\n",
    "        from = START_DATE,\n",
    "        to = END_DATE,\n",
    "        src = 'yahoo',\n",
    "        warnings = FALSE,\n",
    "        auto.assign = FALSE\n",
    "    )\n",
    "\n",
    "    stock_prices = stock_data[, 6]\n",
    "    stock_bm_ratios <- book_value_sap100[[i]][, 2] / book_value_sap100[[i]][, 1]\n",
    "    stock_market_caps <- MktCap_sap100[[i]]\n",
    "    colnames(stock_prices) <- ticker\n",
    "    colnames(stock_bm_ratios) <- ticker\n",
    "    colnames(stock_market_caps) <- ticker\n",
    "    prices <- cbind(prices, stock_prices)\n",
    "    bm_ratios <- cbind(bm_ratios, stock_bm_ratios)\n",
    "    market_caps <- cbind(market_caps, stock_market_caps)\n",
    "}\n",
    "\n",
    "# Forward-fill book-to-market ratios (observed quarterly) and drop the last row.\n",
    "bm_ratios <- na.locf(bm_ratios)\n",
    "bm_ratios <- head(bm_ratios, -1)\n",
    "\n",
    "# Load daily FF3 factors.\n",
    "download.file(\n",
    "    \"http://mba.tuck.dartmouth.edu/pages/faculty/ken.french/ftp/F-F_Research_Data_Factors_daily_TXT.zip\",\n",
    "    destfile = \"F-F_Research_Data_Factors_daily.zip\"\n",
    ")\n",
    "unzip(\"F-F_Research_Data_Factors_daily.zip\")\n",
    "ff3_factors <- read.delim(\n",
    "    'F-F_Research_Data_Factors_daily.txt',\n",
    "    col.names = c('t', 'mkt_rf', 'smb', 'hml', 'rf'),\n",
    "    sep = '',\n",
    "    nrows = 24957,\n",
    "    header = FALSE,\n",
    "    skip = 5,\n",
    "    stringsAsFactors = FALSE\n",
    ")\n",
    "ff3_factors[['t']] <- as.Date(as.character(ff3_factors[['t']]), '%Y%m%d')\n",
    "ff3_factors <- as.xts(ff3_factors[, 2:5], order.by = ff3_factors[['t']])\n",
    "ff3_factors <- ff3_factors / 100\n",
    "\n",
    "# Load monthly FF3 factors.\n",
    "download.file(\n",
    "    \"http://mba.tuck.dartmouth.edu/pages/faculty/ken.french/ftp/F-F_Research_Data_Factors_TXT.zip\",\n",
    "    destfile = \"F-F_Research_Data_Factors.zip\"\n",
    ")\n",
    "unzip(\"F-F_Research_Data_Factors.zip\")\n",
    "monthly_ff3_factors <- read.delim(\n",
    "    'F-F_Research_Data_Factors.txt',\n",
    "    col.names = c('t', 'mkt.rf', 'smb', 'hml', 'rf'),\n",
    "    sep = '',\n",
    "    nrows = 1137,\n",
    "    header = FALSE,\n",
    "    skip = 4,\n",
    "    stringsAsFactors = FALSE\n",
    ")\n",
    "monthly_ff3_factors[['t']] <- as.Date(paste0(as.character(monthly_ff3_factors[['t']]), '01'), '%Y%m%d')\n",
    "monthly_ff3_factors <- as.xts(monthly_ff3_factors[, 2:5], order.by = monthly_ff3_factors[['t']])\n",
    "monthly_ff3_factors <- monthly_ff3_factors / 100\n",
    "index(monthly_ff3_factors) <- as.Date(as.yearmon(index(monthly_ff3_factors)), frac = 1)"
   ]
  },
  {
   "cell_type": "code",
   "execution_count": null,
   "metadata": {
    "scrolled": false,
    "vscode": {
     "languageId": "r"
    }
   },
   "outputs": [],
   "source": [
    "prices[1:5, 1:3]\n",
    "market_caps[201:205, 1:3]\n",
    "bm_ratios[20:25, 1:3]\n",
    "ff3_factors[1:5,]\n",
    "monthly_ff3_factors[1:5,]"
   ]
  },
  {
   "cell_type": "code",
   "execution_count": null,
   "metadata": {
    "vscode": {
     "languageId": "r"
    }
   },
   "outputs": [],
   "source": [
    "# Compute daily and monthly excess returns.\n",
    "daily_returns <- lapply(prices, dailyReturn, USE.NAMES = TRUE)\n",
    "monthly_returns <- lapply(prices, monthlyReturn, USE.NAMES = TRUE)\n",
    "daily_returns <- do.call('cbind', daily_returns)\n",
    "monthly_returns <- do.call('cbind', monthly_returns)\n",
    "colnames(daily_returns) <- colnames(prices)\n",
    "colnames(monthly_returns) <- colnames(prices)\n",
    "index(monthly_returns) <- as.Date(as.yearmon(index(monthly_returns)), frac = 1)\n",
    "for (i in 1:ncol(monthly_returns)) {\n",
    "    daily_returns[, i] <- daily_returns[, i] - ff3_factors[, 4]\n",
    "    monthly_returns[, i] <- monthly_returns[, i] - monthly_ff3_factors[, 4]\n",
    "}\n",
    "\n",
    "# Comupte monthly market caps and sizes.\n",
    "sizes <- log(market_caps)\n",
    "monthly_market_caps <- apply.monthly(market_caps, tail, 1)\n",
    "monthly_sizes <- apply.monthly(sizes, tail, 1)\n",
    "index(monthly_market_caps) <- as.Date(as.yearmon(index(monthly_market_caps)), frac = 1)\n",
    "index(monthly_sizes) <- as.Date(as.yearmon(index(monthly_sizes)), frac = 1)\n",
    "# Replace -Inf and Inf in `monthly_sizes` with NAs.\n",
    "monthly_sizes <- as.xts(apply(monthly_sizes, 2, function(x) ifelse(is.finite(x), x, NA)))"
   ]
  },
  {
   "cell_type": "code",
   "execution_count": null,
   "metadata": {
    "vscode": {
     "languageId": "r"
    }
   },
   "outputs": [],
   "source": [
    "daily_returns[1:5, 1:3]\n",
    "monthly_returns[1:5, 1:3]\n",
    "monthly_market_caps[1:5, 1:3]\n",
    "monthly_sizes[1:5, 1:3]"
   ]
  },
  {
   "cell_type": "markdown",
   "metadata": {},
   "source": [
    "## Compute book-to-market ratios"
   ]
  },
  {
   "cell_type": "code",
   "execution_count": null,
   "metadata": {
    "vscode": {
     "languageId": "r"
    }
   },
   "outputs": [],
   "source": [
    "# Initialize an xts object for storing book-to-market ratios.\n",
    "monthly_bm_ratios <- as.xts(\n",
    "    matrix(\n",
    "        nrow = nrow(bm_ratios),\n",
    "        ncol = ncol(bm_ratios)\n",
    "    ),\n",
    "    order.by = index(bm_ratios)\n",
    ")\n",
    "names(monthly_bm_ratios) <- names(bm_ratios)\n",
    "\n",
    "start_year <- as.numeric(format(min(index(monthly_bm_ratios)), '%Y'))\n",
    "end_year <- as.numeric(format(max(index(monthly_bm_ratios)), '%Y'))\n",
    "\n",
    "# Iterate over rows and compute BM ratios.\n",
    "for (i in (start_year + 2):end_year) {\n",
    "    start_day <- as.Date(paste0(i - 1, '06', '30'), format = '%Y%m%d')\n",
    "    end_day <- as.Date(paste0(i, '05', '31'), format = '%Y%m%d')\n",
    "    dates <- paste0(start_day, '/', end_day)\n",
    "    end_of_previous_year <- as.Date(paste0(i - 2, '12', '31'), format = '%Y%m%d')\n",
    "    for (j in 1:ncol(bm_ratios)) {\n",
    "        monthly_bm_ratios[dates, j] <- as.numeric(bm_ratios[end_of_previous_year, j][[1]])\n",
    "    }\n",
    "}"
   ]
  },
  {
   "cell_type": "code",
   "execution_count": null,
   "metadata": {
    "vscode": {
     "languageId": "r"
    }
   },
   "outputs": [],
   "source": [
    "monthly_bm_ratios[41:55, 1:3]\n",
    "bm_ratios[41:55, 1:3]"
   ]
  },
  {
   "cell_type": "markdown",
   "metadata": {},
   "source": [
    "## Compute momentum"
   ]
  },
  {
   "cell_type": "code",
   "execution_count": null,
   "metadata": {
    "vscode": {
     "languageId": "r"
    }
   },
   "outputs": [],
   "source": [
    "# Initialize an xts object for storing momentum.\n",
    "monthly_momentum <- as.xts(\n",
    "    matrix(\n",
    "        nrow = nrow(monthly_returns),\n",
    "        ncol = ncol(monthly_returns)\n",
    "    ),\n",
    "    order.by = index(monthly_returns)\n",
    ")\n",
    "names(monthly_momentum) <- names(monthly_returns)\n",
    "\n",
    "# Iterate over rows and compute momentum.\n",
    "for (i in 2:nrow(monthly_momentum)) {\n",
    "    current_day <- index(monthly_momentum[i])\n",
    "    end_day <- index(monthly_momentum[i - 1])\n",
    "    start_day <- end_day %m-% months(10)\n",
    "    dates <- paste0(start_day, '/', end_day)\n",
    "    returns <- monthly_returns[dates]\n",
    "\n",
    "    if (nrow(returns) < 11) {\n",
    "        next\n",
    "    }\n",
    "\n",
    "    for (j in 1:ncol(monthly_momentum)) {\n",
    "        monthly_momentum[current_day, j] <- 100 * (prod(returns[, j] + 1) - 1)\n",
    "    }\n",
    "}"
   ]
  },
  {
   "cell_type": "code",
   "execution_count": null,
   "metadata": {
    "vscode": {
     "languageId": "r"
    }
   },
   "outputs": [],
   "source": [
    "monthly_momentum[11:15, 1:3]"
   ]
  },
  {
   "cell_type": "markdown",
   "metadata": {},
   "source": [
    "## Compute short-term reversal"
   ]
  },
  {
   "cell_type": "code",
   "execution_count": null,
   "metadata": {
    "vscode": {
     "languageId": "r"
    }
   },
   "outputs": [],
   "source": [
    "# Initialize an xts object for storing reversal\n",
    "monthly_reversal <- as.xts(\n",
    "    matrix(\n",
    "        nrow = nrow(monthly_returns),\n",
    "        ncol = ncol(monthly_returns)\n",
    "    ),\n",
    "    order.by = index(monthly_returns)\n",
    ")\n",
    "names(monthly_reversal) <- names(monthly_returns)\n",
    "\n",
    "# Iterate over rows and compute reversal.\n",
    "for (i in 1:nrow(monthly_reversal)) {\n",
    "    monthly_reversal[i,] <- monthly_returns[i] * 100\n",
    "}"
   ]
  },
  {
   "cell_type": "code",
   "execution_count": null,
   "metadata": {
    "vscode": {
     "languageId": "r"
    }
   },
   "outputs": [],
   "source": [
    "monthly_reversal[11:15, 1:3]"
   ]
  },
  {
   "cell_type": "markdown",
   "metadata": {},
   "source": [
    "## Estimate betas\n",
    "\n",
    "Use the following regression equation:\n",
    "\n",
    "$r_{i,t} = \\alpha_i + \\beta_i MKT_t + \\epsilon_{i,t}$\n",
    "\n",
    "- $i$ denotes stocks\n",
    "- $t$ denotes time\n",
    "- $r$ is the excess stock return\n",
    "- $MKT$ is the excess market return\n",
    "- $\\alpha$ is the intercept\n",
    "- $\\beta$ is the slope coefficient\n",
    "- $\\epsilon$ is the error term\n",
    "\n",
    "Let's illustrate the estimation on daily data for 5 different periods: 1, 3, 6, 12, and 24 months."
   ]
  },
  {
   "cell_type": "code",
   "execution_count": null,
   "metadata": {
    "vscode": {
     "languageId": "r"
    }
   },
   "outputs": [],
   "source": [
    "# Initialize an xts object for storing betas.\n",
    "betas_period <- as.xts(\n",
    "    matrix(\n",
    "        nrow = nrow(monthly_returns),\n",
    "        ncol = ncol(monthly_returns)\n",
    "    ),\n",
    "    order.by = index(monthly_returns)\n",
    ")\n",
    "names(betas_period) <- names(monthly_returns)\n",
    "betas <- list(betas_period, betas_period, betas_period, betas_period, betas_period)\n",
    "\n",
    "# Iterate over rows and compute betas.\n",
    "for (i in 1:nrow(betas_period)) {\n",
    "    end_day <- index(betas_period[i])\n",
    "\n",
    "    for (p_b in list(c(1, 1), c(3, 2), c(6, 3), c(12, 4), c(24, 5))) {\n",
    "        start_day <- end_day %m-% months(p_b[[1]])\n",
    "        dates <- paste0(start_day, '/', end_day)\n",
    "        returns <- daily_returns[dates]\n",
    "        market_returns <- ff3_factors[dates]\n",
    "\n",
    "        # Estimate betas for each stock.\n",
    "        for (j in 1:ncol(betas_period)) {\n",
    "            stock_returns <- returns[, j]\n",
    "            # Merge excess returns and market excess returns.\n",
    "            model_data <- cbind(stock_returns, market_returns[, 1])\n",
    "            model_data <- na.omit(model_data)\n",
    "            # Don't estimate betas if the number of observations is lower than 200.\n",
    "            if (nrow(model_data) < p_b[[1]] * 15) {\n",
    "                next\n",
    "            }\n",
    "            model_betas <- lm(model_data[, 1] ~ model_data[, 2])\n",
    "            # Save the given beta to `betas`.\n",
    "            betas[[p_b[[2]]]][i, j] <- model_betas$coefficients[[2]]\n",
    "        }\n",
    "    }\n",
    "}\n",
    "\n",
    "monthly_betas_1m <- betas[[1]]\n",
    "monthly_betas_3m <- betas[[2]]\n",
    "monthly_betas_6m <- betas[[3]]\n",
    "monthly_betas_12m <- betas[[4]]\n",
    "monthly_betas_24m <- betas[[5]]"
   ]
  },
  {
   "cell_type": "code",
   "execution_count": null,
   "metadata": {
    "vscode": {
     "languageId": "r"
    }
   },
   "outputs": [],
   "source": [
    "monthly_betas_1m[1:5, 1:3]\n",
    "monthly_betas_3m[1:5, 1:3]\n",
    "monthly_betas_6m[11:15, 1:3]\n",
    "monthly_betas_12m[21:25, 1:3]\n",
    "monthly_betas_24m[21:25, 1:3]"
   ]
  },
  {
   "cell_type": "markdown",
   "metadata": {},
   "source": [
    "# Value"
   ]
  },
  {
   "cell_type": "markdown",
   "metadata": {},
   "source": [
    "## Portfolio analysis using monthly univariate decile portfolios"
   ]
  },
  {
   "cell_type": "code",
   "execution_count": null,
   "metadata": {
    "vscode": {
     "languageId": "r"
    }
   },
   "outputs": [],
   "source": [
    "n_portfolios <- 10\n",
    "diff_portfolio <- paste(n_portfolios, '- 1')\n",
    "\n",
    "# Initialize an xts object for storing portfolio returns.\n",
    "returns <- as.xts(\n",
    "    matrix(\n",
    "        nrow = nrow(monthly_bm_ratios) - 1,\n",
    "        ncol = n_portfolios + 1\n",
    "    ),\n",
    "    order.by = index(monthly_bm_ratios[2:nrow(monthly_bm_ratios)])\n",
    ")\n",
    "names(returns) <- c(1:n_portfolios, diff_portfolio)\n",
    "\n",
    "# Iterate over rows, find breakpoints and compute monthly returns within the given value breakpoints.\n",
    "for (i in 1:nrow(returns)) {\n",
    "    current_month <- index(returns[i])\n",
    "    next_month <- as.Date(as.yearmon(current_month %m+% months(1)), frac = 1)\n",
    "\n",
    "    if (!next_month %in% index(monthly_returns)) {\n",
    "        next\n",
    "    }\n",
    "\n",
    "    # Avoid look-ahead bias by sorting the returns after the month used to compute breakpoints ends.\n",
    "    month_returns <- monthly_returns[next_month]\n",
    "    month_bm_ratios <- monthly_bm_ratios[current_month]\n",
    "    month_market_caps <- monthly_market_caps[next_month]\n",
    "    # Replace NA market caps with 0s so that such observations have no weights.\n",
    "    month_market_caps[is.na(month_market_caps)] <- 0\n",
    "\n",
    "    breakpoints <- quantile(month_bm_ratios, 0:n_portfolios/n_portfolios, na.rm = TRUE)\n",
    "    not_na <- !is.na(month_bm_ratios)\n",
    "\n",
    "    for (j in 1:n_portfolios) {\n",
    "        filter <- (breakpoints[[j]] < month_bm_ratios) & (month_bm_ratios < breakpoints[[j + 1]]) & not_na\n",
    "        # Compute weighted average portfolio returns.\n",
    "        returns[i, j] <- weighted.mean(t(month_returns[, filter]), t(month_market_caps[, filter]))\n",
    "    }\n",
    "    returns[i, diff_portfolio] <- returns[i, n_portfolios] - returns[i, 1]\n",
    "}\n",
    "\n",
    "# Compute overall average returns within portfolios and their standard errors.\n",
    "results_bm_ratios <- as.data.frame(matrix(nrow = 2, ncol = n_portfolios + 1))\n",
    "names(results_bm_ratios) <- c(1:n_portfolios, diff_portfolio)\n",
    "\n",
    "for (i in 1:ncol(results_bm_ratios)) {\n",
    "    model <- lm(na.omit(returns[, i]) ~ 1)\n",
    "    results_bm_ratios[1, i] <- model$coefficients[[1]]\n",
    "    results_bm_ratios[2, i] <- model$coefficients[[1]] / sqrt(NeweyWest(model, lag = 6))[[1]]\n",
    "}\n",
    "\n",
    "results_bm_ratios"
   ]
  },
  {
   "cell_type": "markdown",
   "metadata": {},
   "source": [
    "## Fama-MacBeth regression analysis"
   ]
  },
  {
   "cell_type": "code",
   "execution_count": null,
   "metadata": {
    "vscode": {
     "languageId": "r"
    }
   },
   "outputs": [],
   "source": [
    "# Initialize an xts object for storing regression results.\n",
    "fm_results <- as.xts(\n",
    "    matrix(\n",
    "        nrow = nrow(monthly_bm_ratios) - 1,\n",
    "        ncol = 5\n",
    "    ),\n",
    "    order.by = index(monthly_bm_ratios[2:nrow(monthly_bm_ratios)])\n",
    ")\n",
    "names(fm_results) <- c('Intercept', 'Value', 'R^2', 'Adjusted R^2', 'N')\n",
    "\n",
    "# Iterate over rows and perform cross-sectional regressions.\n",
    "for (i in 1:nrow(fm_results)) {\n",
    "    current_month <- index(fm_results[i])\n",
    "    next_month <- as.Date(as.yearmon(current_month %m+% months(1)), frac = 1)\n",
    "\n",
    "    if (!next_month %in% index(monthly_returns)) {\n",
    "        next\n",
    "    }\n",
    "\n",
    "    # Avoid look-ahead bias by sorting the returns after the quarter used to compute breakpoints ends.\n",
    "    month_returns <- monthly_returns[next_month]\n",
    "    month_bm_ratios <- monthly_bm_ratios[current_month]\n",
    "\n",
    "    if (ncol(month_bm_ratios) == sum(is.na(month_bm_ratios))) {\n",
    "        next\n",
    "    }\n",
    "\n",
    "    # Save regression coefficients and other statistics.\n",
    "    model <- lm(t(month_returns) ~ 1 + t(month_bm_ratios))\n",
    "    fm_results[i, 1] <- model$coefficients[[1]]\n",
    "    fm_results[i, 2] <- model$coefficients[[2]]\n",
    "    fm_results[i, 3] <- summary(model)$r.squared\n",
    "    fm_results[i, 4] <- summary(model)$adj.r.squared\n",
    "    fm_results[i, 5] <- nobs(model)\n",
    "}\n",
    "\n",
    "# Compute time series means, standard errors.\n",
    "final_fm_results <- as.data.frame(matrix(nrow = 2, ncol = 2))\n",
    "names(final_fm_results) <- c('Intercept', 'Value')\n",
    "\n",
    "for (i in 1:ncol(final_fm_results)) {\n",
    "    model <- lm(na.omit(fm_results[, i]) ~ 1)\n",
    "    final_fm_results[1, i] <- model$coefficients[[1]]\n",
    "    final_fm_results[2, i] <- model$coefficients[[1]] / sqrt(NeweyWest(model, lag = 4))[[1]]\n",
    "}\n",
    "\n",
    "final_fm_results"
   ]
  },
  {
   "cell_type": "markdown",
   "metadata": {},
   "source": [
    "## Fama-MacBeth regressions of returns on BM ratios, betas and sizes"
   ]
  },
  {
   "cell_type": "code",
   "execution_count": null,
   "metadata": {
    "vscode": {
     "languageId": "r"
    }
   },
   "outputs": [],
   "source": [
    "# Initialize an xts object for storing regression results.\n",
    "fm_results <- as.xts(\n",
    "    matrix(\n",
    "        nrow = nrow(monthly_betas_24m) - 1,\n",
    "        ncol = 7\n",
    "    ),\n",
    "    order.by = index(monthly_betas_24m[2:nrow(monthly_betas_24m)])\n",
    ")\n",
    "names(fm_results) <- c('Intercept', 'Value', 'Beta', 'Size', 'R^2', 'Adjusted R^2', 'N')\n",
    "\n",
    "# Iterate over rows and perform cross-sectional regressions.\n",
    "for (i in 1:nrow(fm_results)) {\n",
    "    current_month <- index(fm_results[i])\n",
    "    next_month <- as.Date(as.yearmon(current_month %m+% months(1)), frac = 1)\n",
    "\n",
    "    if (!next_month %in% index(monthly_returns)) {\n",
    "        next\n",
    "    }\n",
    "\n",
    "    # Avoid look-ahead bias by sorting the returns after the quarter used to compute breakpoints ends.\n",
    "    month_returns <- monthly_returns[next_month]\n",
    "    month_bm_ratios <- monthly_bm_ratios[current_month]\n",
    "    month_betas <- monthly_betas_24m[current_month]\n",
    "    month_sizes <- monthly_sizes[current_month]\n",
    "\n",
    "    if (ncol(month_bm_ratios) == sum(is.na(month_bm_ratios))) {\n",
    "        next\n",
    "    }\n",
    "    if (ncol(month_betas) == sum(is.na(month_betas))) {\n",
    "        next\n",
    "    }\n",
    "\n",
    "    # Save regression coefficients and other statistics.\n",
    "    model <- lm(t(month_returns) ~ 1 + t(month_bm_ratios) + t(month_betas) + t(month_sizes))\n",
    "    fm_results[i, 1] <- model$coefficients[[1]]\n",
    "    fm_results[i, 2] <- model$coefficients[[2]]\n",
    "    fm_results[i, 3] <- model$coefficients[[3]]\n",
    "    fm_results[i, 4] <- model$coefficients[[4]]\n",
    "    fm_results[i, 5] <- summary(model)$r.squared\n",
    "    fm_results[i, 6] <- summary(model)$adj.r.squared\n",
    "    fm_results[i, 7] <- nobs(model)\n",
    "}\n",
    "\n",
    "# Compute time series means, standard errors.\n",
    "final_fm_results <- as.data.frame(matrix(nrow = 2, ncol = 4))\n",
    "names(final_fm_results) <- c('Intercept', 'Value', 'Beta', 'Size')\n",
    "\n",
    "for (i in 1:ncol(final_fm_results)) {\n",
    "    model <- lm(na.omit(fm_results[, i]) ~ 1)\n",
    "    final_fm_results[1, i] <- model$coefficients[[1]]\n",
    "    final_fm_results[2, i] <- model$coefficients[[1]] / sqrt(NeweyWest(model, lag = 4))[[1]]\n",
    "}\n",
    "\n",
    "final_fm_results"
   ]
  },
  {
   "cell_type": "markdown",
   "metadata": {},
   "source": [
    "# Momentum"
   ]
  },
  {
   "cell_type": "markdown",
   "metadata": {},
   "source": [
    "## Portfolio analysis using monthly univariate decile portfolios"
   ]
  },
  {
   "cell_type": "code",
   "execution_count": null,
   "metadata": {
    "vscode": {
     "languageId": "r"
    }
   },
   "outputs": [],
   "source": [
    "n_portfolios <- 10\n",
    "diff_portfolio <- paste(n_portfolios, '- 1')\n",
    "\n",
    "# Initialize an xts object for storing portfolio returns.\n",
    "returns <- as.xts(\n",
    "    matrix(\n",
    "        nrow = nrow(monthly_momentum) - 1,\n",
    "        ncol = n_portfolios + 1\n",
    "    ),\n",
    "    order.by = index(monthly_momentum[2:nrow(monthly_momentum)])\n",
    ")\n",
    "names(returns) <- c(1:n_portfolios, diff_portfolio)\n",
    "\n",
    "# Iterate over rows, find breakpoints and compute monthly returns within the given momentum breakpoints.\n",
    "for (i in 1:nrow(returns)) {\n",
    "    current_month <- index(returns[i])\n",
    "    next_month <- as.Date(as.yearmon(current_month %m+% months(1)), frac = 1)\n",
    "\n",
    "    if (!next_month %in% index(monthly_returns)) {\n",
    "        next\n",
    "    }\n",
    "\n",
    "    # Avoid look-ahead bias by sorting the returns after the month used to compute breakpoints ends.\n",
    "    month_returns <- monthly_returns[next_month]\n",
    "    month_momentum <- monthly_momentum[current_month]\n",
    "    month_market_caps <- monthly_market_caps[next_month]\n",
    "    # Replace NA market caps with 0s so that such observations have no weights.\n",
    "    month_market_caps[is.na(month_market_caps)] <- 0\n",
    "\n",
    "    breakpoints <- quantile(month_momentum, 0:n_portfolios/n_portfolios, na.rm = TRUE)\n",
    "    not_na <- !is.na(month_momentum)\n",
    "\n",
    "    for (j in 1:n_portfolios) {\n",
    "        filter <- (breakpoints[[j]] < month_momentum) & (month_momentum < breakpoints[[j + 1]]) & not_na\n",
    "        # Compute weighted average portfolio returns.\n",
    "        returns[i, j] <- weighted.mean(t(month_returns[, filter]), t(month_market_caps[, filter]))\n",
    "    }\n",
    "    returns[i, diff_portfolio] <- returns[i, n_portfolios] - returns[i, 1]\n",
    "}\n",
    "\n",
    "# Compute overall average returns within portfolios and their standard errors.\n",
    "results_momentum <- as.data.frame(matrix(nrow = 2, ncol = n_portfolios + 1))\n",
    "names(results_momentum) <- c(1:n_portfolios, diff_portfolio)\n",
    "\n",
    "for (i in 1:ncol(results_momentum)) {\n",
    "    model <- lm(na.omit(returns[, i]) ~ 1)\n",
    "    results_momentum[1, i] <- model$coefficients[[1]]\n",
    "    results_momentum[2, i] <- model$coefficients[[1]] / sqrt(NeweyWest(model, lag = 6))[[1]]\n",
    "}\n",
    "\n",
    "results_momentum"
   ]
  },
  {
   "cell_type": "markdown",
   "metadata": {},
   "source": [
    "## Fama-MacBeth regression analysis"
   ]
  },
  {
   "cell_type": "code",
   "execution_count": null,
   "metadata": {
    "vscode": {
     "languageId": "r"
    }
   },
   "outputs": [],
   "source": [
    "# Initialize an xts object for storing regression results.\n",
    "fm_results <- as.xts(\n",
    "    matrix(\n",
    "        nrow = nrow(monthly_momentum) - 1,\n",
    "        ncol = 5\n",
    "    ),\n",
    "    order.by = index(monthly_momentum[2:nrow(monthly_momentum)])\n",
    ")\n",
    "names(fm_results) <- c('Intercept', 'Momentum', 'R^2', 'Adjusted R^2', 'N')\n",
    "\n",
    "# Iterate over rows and perform cross-sectional regressions.\n",
    "for (i in 1:nrow(fm_results)) {\n",
    "    current_month <- index(fm_results[i])\n",
    "    next_month <- as.Date(as.yearmon(current_month %m+% months(1)), frac = 1)\n",
    "\n",
    "    if (!next_month %in% index(monthly_returns)) {\n",
    "        next\n",
    "    }\n",
    "\n",
    "    # Avoid look-ahead bias by sorting the returns after the quarter used to compute breakpoints ends.\n",
    "    month_returns <- monthly_returns[next_month]\n",
    "    month_momentum <- monthly_momentum[current_month]\n",
    "\n",
    "    if (ncol(month_momentum) == sum(is.na(month_momentum))) {\n",
    "        next\n",
    "    }\n",
    "\n",
    "    # Save regression coefficients and other statistics.\n",
    "    model <- lm(t(month_returns) ~ 1 + t(month_momentum))\n",
    "    fm_results[i, 1] <- model$coefficients[[1]]\n",
    "    fm_results[i, 2] <- model$coefficients[[2]]\n",
    "    fm_results[i, 3] <- summary(model)$r.squared\n",
    "    fm_results[i, 4] <- summary(model)$adj.r.squared\n",
    "    fm_results[i, 5] <- nobs(model)\n",
    "}\n",
    "\n",
    "# Compute time series means, standard errors.\n",
    "final_fm_results <- as.data.frame(matrix(nrow = 2, ncol = 2))\n",
    "names(final_fm_results) <- c('Intercept', 'Momentum')\n",
    "\n",
    "for (i in 1:ncol(final_fm_results)) {\n",
    "    model <- lm(na.omit(fm_results[, i]) ~ 1)\n",
    "    final_fm_results[1, i] <- model$coefficients[[1]]\n",
    "    final_fm_results[2, i] <- model$coefficients[[1]] / sqrt(NeweyWest(model, lag = 4))[[1]]\n",
    "}\n",
    "\n",
    "final_fm_results"
   ]
  },
  {
   "cell_type": "markdown",
   "metadata": {},
   "source": [
    "## Fama-MacBeth regressions of returns on momentum, BM ratios, betas and sizes"
   ]
  },
  {
   "cell_type": "code",
   "execution_count": null,
   "metadata": {
    "vscode": {
     "languageId": "r"
    }
   },
   "outputs": [],
   "source": [
    "# Initialize an xts object for storing regression results.\n",
    "fm_results <- as.xts(\n",
    "    matrix(\n",
    "        nrow = nrow(monthly_betas_24m) - 1,\n",
    "        ncol = 8\n",
    "    ),\n",
    "    order.by = index(monthly_betas_24m[2:nrow(monthly_betas_24m)])\n",
    ")\n",
    "names(fm_results) <- c('Intercept', 'Momentum', 'Value', 'Beta', 'Size', 'R^2', 'Adjusted R^2', 'N')\n",
    "\n",
    "# Iterate over rows and perform cross-sectional regressions.\n",
    "for (i in 1:nrow(fm_results)) {\n",
    "    current_month <- index(fm_results[i])\n",
    "    next_month <- as.Date(as.yearmon(current_month %m+% months(1)), frac = 1)\n",
    "\n",
    "    if (!next_month %in% index(monthly_returns)) {\n",
    "        next\n",
    "    }\n",
    "\n",
    "    # Avoid look-ahead bias by sorting the returns after the quarter used to compute breakpoints ends.\n",
    "    month_returns <- monthly_returns[next_month]\n",
    "    month_momentum <- monthly_momentum[current_month]\n",
    "    month_bm_ratios <- monthly_bm_ratios[current_month]\n",
    "    month_betas <- monthly_betas_24m[current_month]\n",
    "    month_sizes <- monthly_sizes[current_month]\n",
    "\n",
    "    if (ncol(month_bm_ratios) == sum(is.na(month_bm_ratios))) {\n",
    "        next\n",
    "    }\n",
    "    if (ncol(month_betas) == sum(is.na(month_betas))) {\n",
    "        next\n",
    "    }\n",
    "\n",
    "    # Save regression coefficients and other statistics.\n",
    "    model <- lm(t(month_returns) ~ 1 + t(month_momentum) + t(month_bm_ratios) + t(month_betas) + t(month_sizes))\n",
    "    fm_results[i, 1] <- model$coefficients[[1]]\n",
    "    fm_results[i, 2] <- model$coefficients[[2]]\n",
    "    fm_results[i, 3] <- model$coefficients[[3]]\n",
    "    fm_results[i, 4] <- model$coefficients[[4]]\n",
    "    fm_results[i, 5] <- model$coefficients[[5]]\n",
    "    fm_results[i, 6] <- summary(model)$r.squared\n",
    "    fm_results[i, 7] <- summary(model)$adj.r.squared\n",
    "    fm_results[i, 8] <- nobs(model)\n",
    "}\n",
    "\n",
    "# Compute time series means, standard errors.\n",
    "final_fm_results <- as.data.frame(matrix(nrow = 2, ncol = 5))\n",
    "names(final_fm_results) <- c('Intercept', 'Momentum', 'Value', 'Beta', 'Size')\n",
    "\n",
    "for (i in 1:ncol(final_fm_results)) {\n",
    "    model <- lm(na.omit(fm_results[, i]) ~ 1)\n",
    "    final_fm_results[1, i] <- model$coefficients[[1]]\n",
    "    final_fm_results[2, i] <- model$coefficients[[1]] / sqrt(NeweyWest(model, lag = 4))[[1]]\n",
    "}\n",
    "\n",
    "final_fm_results"
   ]
  },
  {
   "cell_type": "markdown",
   "metadata": {},
   "source": [
    "# Short-term Reversal"
   ]
  },
  {
   "cell_type": "markdown",
   "metadata": {},
   "source": [
    "## Portfolio analysis using monthly univariate decile portfolios"
   ]
  },
  {
   "cell_type": "markdown",
   "metadata": {},
   "source": [
    "### Equally weighted returns"
   ]
  },
  {
   "cell_type": "code",
   "execution_count": null,
   "metadata": {
    "vscode": {
     "languageId": "r"
    }
   },
   "outputs": [],
   "source": [
    "n_portfolios <- 10\n",
    "diff_portfolio <- paste(n_portfolios, '- 1')\n",
    "\n",
    "# Initialize an xts object for storing portfolio returns.\n",
    "returns <- as.xts(\n",
    "    matrix(\n",
    "        nrow = nrow(monthly_reversal) - 1,\n",
    "        ncol = n_portfolios + 1\n",
    "    ),\n",
    "    order.by = index(monthly_reversal[2:nrow(monthly_reversal)])\n",
    ")\n",
    "names(returns) <- c(1:n_portfolios, diff_portfolio)\n",
    "\n",
    "# Iterate over rows, find breakpoints and compute monthly returns within the given reverfsal breakpoints.\n",
    "for (i in 1:nrow(returns)) {\n",
    "    current_month <- index(returns[i])\n",
    "    next_month <- as.Date(as.yearmon(current_month %m+% months(1)), frac = 1)\n",
    "\n",
    "    if (!next_month %in% index(monthly_returns)) {\n",
    "        next\n",
    "    }\n",
    "\n",
    "    # Avoid look-ahead bias by sorting the returns after the month used to compute breakpoints ends.\n",
    "    month_returns <- monthly_returns[next_month]\n",
    "    month_reversal <- monthly_reversal[current_month]\n",
    "\n",
    "    breakpoints <- quantile(month_reversal, 0:n_portfolios/n_portfolios, na.rm = TRUE)\n",
    "    not_na <- !is.na(month_reversal)\n",
    "\n",
    "    for (j in 1:n_portfolios) {\n",
    "        filter <- (breakpoints[[j]] < month_reversal) & (month_reversal < breakpoints[[j + 1]]) & not_na\n",
    "        # Compute equal-weighted average portfolio returns.\n",
    "        returns[i, j] <- mean(t(month_returns[, filter]))\n",
    "    }\n",
    "    returns[i, diff_portfolio] <- returns[i, n_portfolios] - returns[i, 1]\n",
    "}\n",
    "\n",
    "# Compute overall average returns within portfolios and their standard errors.\n",
    "results_reversal <- as.data.frame(matrix(nrow = 2, ncol = n_portfolios + 1))\n",
    "names(results_reversal) <- c(1:n_portfolios, diff_portfolio)\n",
    "\n",
    "for (i in 1:ncol(results_reversal)) {\n",
    "    model <- lm(na.omit(returns[, i]) ~ 1)\n",
    "    results_reversal[1, i] <- model$coefficients[[1]]\n",
    "    results_reversal[2, i] <- model$coefficients[[1]] / sqrt(NeweyWest(model, lag = 6))[[1]]\n",
    "}\n",
    "\n",
    "results_reversal"
   ]
  },
  {
   "cell_type": "markdown",
   "metadata": {},
   "source": [
    "### Weighted returns"
   ]
  },
  {
   "cell_type": "code",
   "execution_count": null,
   "metadata": {
    "vscode": {
     "languageId": "r"
    }
   },
   "outputs": [],
   "source": [
    "n_portfolios <- 10\n",
    "diff_portfolio <- paste(n_portfolios, '- 1')\n",
    "\n",
    "# Initialize an xts object for storing portfolio returns.\n",
    "returns <- as.xts(\n",
    "    matrix(\n",
    "        nrow = nrow(monthly_reversal) - 1,\n",
    "        ncol = n_portfolios + 1\n",
    "    ),\n",
    "    order.by = index(monthly_reversal[2:nrow(monthly_reversal)])\n",
    ")\n",
    "names(returns) <- c(1:n_portfolios, diff_portfolio)\n",
    "\n",
    "# Iterate over rows, find breakpoints and compute monthly returns within the given reverfsal breakpoints.\n",
    "for (i in 1:nrow(returns)) {\n",
    "    current_month <- index(returns[i])\n",
    "    next_month <- as.Date(as.yearmon(current_month %m+% months(1)), frac = 1)\n",
    "\n",
    "    if (!next_month %in% index(monthly_returns)) {\n",
    "        next\n",
    "    }\n",
    "\n",
    "    # Avoid look-ahead bias by sorting the returns after the month used to compute breakpoints ends.\n",
    "    month_returns <- monthly_returns[next_month]\n",
    "    month_reversal <- monthly_reversal[current_month]\n",
    "    month_market_caps <- monthly_market_caps[next_month]\n",
    "    # Replace NA market caps with 0s so that such observations have no weights.\n",
    "    month_market_caps[is.na(month_market_caps)] <- 0\n",
    "\n",
    "    breakpoints <- quantile(month_reversal, 0:n_portfolios/n_portfolios, na.rm = TRUE)\n",
    "    not_na <- !is.na(month_reversal)\n",
    "\n",
    "    for (j in 1:n_portfolios) {\n",
    "        filter <- (breakpoints[[j]] < month_reversal) & (month_reversal < breakpoints[[j + 1]]) & not_na\n",
    "        # Compute weighted average portfolio returns.\n",
    "        returns[i, j] <- weighted.mean(t(month_returns[, filter]), t(month_market_caps[, filter]))\n",
    "    }\n",
    "    returns[i, diff_portfolio] <- returns[i, n_portfolios] - returns[i, 1]\n",
    "}\n",
    "\n",
    "# Compute overall average returns within portfolios and their standard errors.\n",
    "results_reversal <- as.data.frame(matrix(nrow = 2, ncol = n_portfolios + 1))\n",
    "names(results_reversal) <- c(1:n_portfolios, diff_portfolio)\n",
    "\n",
    "for (i in 1:ncol(results_reversal)) {\n",
    "    model <- lm(na.omit(returns[, i]) ~ 1)\n",
    "    results_reversal[1, i] <- model$coefficients[[1]]\n",
    "    results_reversal[2, i] <- model$coefficients[[1]] / sqrt(NeweyWest(model, lag = 6))[[1]]\n",
    "}\n",
    "\n",
    "results_reversal"
   ]
  },
  {
   "cell_type": "markdown",
   "metadata": {},
   "source": [
    "## Fama-MacBeth regressions of returns on reversal, momentum, BM ratios, betas and sizes"
   ]
  },
  {
   "cell_type": "code",
   "execution_count": null,
   "metadata": {
    "vscode": {
     "languageId": "r"
    }
   },
   "outputs": [],
   "source": [
    "# Initialize an xts object for storing regression results.\n",
    "fm_results <- as.xts(\n",
    "    matrix(\n",
    "        nrow = nrow(monthly_betas_24m) - 1,\n",
    "        ncol = 9\n",
    "    ),\n",
    "    order.by = index(monthly_betas_24m[2:nrow(monthly_betas_24m)])\n",
    ")\n",
    "names(fm_results) <- c('Intercept', 'Reversal', 'Momentum', 'Value', 'Beta', 'Size', 'R^2', 'Adjusted R^2', 'N')\n",
    "\n",
    "# Iterate over rows and perform cross-sectional regressions.\n",
    "for (i in 1:nrow(fm_results)) {\n",
    "    current_month <- index(fm_results[i])\n",
    "    next_month <- as.Date(as.yearmon(current_month %m+% months(1)), frac = 1)\n",
    "\n",
    "    if (!next_month %in% index(monthly_returns)) {\n",
    "        next\n",
    "    }\n",
    "\n",
    "    # Avoid look-ahead bias by sorting the returns after the quarter used to compute breakpoints ends.\n",
    "    month_returns <- monthly_returns[next_month]\n",
    "    month_reversal <- monthly_reversal[current_month]\n",
    "    month_momentum <- monthly_momentum[current_month]\n",
    "    month_bm_ratios <- monthly_bm_ratios[current_month]\n",
    "    month_betas <- monthly_betas_24m[current_month]\n",
    "    month_sizes <- monthly_sizes[current_month]\n",
    "\n",
    "    if (ncol(month_bm_ratios) == sum(is.na(month_bm_ratios))) {\n",
    "        next\n",
    "    }\n",
    "    if (ncol(month_betas) == sum(is.na(month_betas))) {\n",
    "        next\n",
    "    }\n",
    "\n",
    "    # Save regression coefficients and other statistics.\n",
    "    model <- lm(t(month_returns) ~ 1 + t(month_reversal) + t(month_momentum) + t(month_bm_ratios) + t(month_betas) + t(month_sizes))\n",
    "    fm_results[i, 1] <- model$coefficients[[1]]\n",
    "    fm_results[i, 2] <- model$coefficients[[2]]\n",
    "    fm_results[i, 3] <- model$coefficients[[3]]\n",
    "    fm_results[i, 4] <- model$coefficients[[4]]\n",
    "    fm_results[i, 5] <- model$coefficients[[5]]\n",
    "    fm_results[i, 6] <- model$coefficients[[6]]\n",
    "    fm_results[i, 7] <- summary(model)$r.squared\n",
    "    fm_results[i, 8] <- summary(model)$adj.r.squared\n",
    "    fm_results[i, 9] <- nobs(model)\n",
    "}\n",
    "\n",
    "# Compute time series means, standard errors.\n",
    "final_fm_results <- as.data.frame(matrix(nrow = 2, ncol = 6))\n",
    "names(final_fm_results) <- c('Intercept', 'Reversal', 'Momentum', 'Value', 'Beta', 'Size')\n",
    "\n",
    "for (i in 1:ncol(final_fm_results)) {\n",
    "    model <- lm(na.omit(fm_results[, i]) ~ 1)\n",
    "    final_fm_results[1, i] <- model$coefficients[[1]]\n",
    "    final_fm_results[2, i] <- model$coefficients[[1]] / sqrt(NeweyWest(model, lag = 4))[[1]]\n",
    "}\n",
    "\n",
    "final_fm_results"
   ]
  },
  {
   "cell_type": "code",
   "execution_count": null,
   "metadata": {
    "vscode": {
     "languageId": "r"
    }
   },
   "outputs": [],
   "source": [
    "save(\n",
    "    daily_returns,\n",
    "    monthly_betas_24m,\n",
    "    monthly_bm_ratios,\n",
    "    monthly_ff3_factors,\n",
    "    monthly_market_caps,\n",
    "    monthly_momentum,\n",
    "    monthly_returns,\n",
    "    monthly_reversal,\n",
    "    monthly_sizes,\n",
    "    file = 'seminar_11.RData'\n",
    ")"
   ]
  },
  {
   "cell_type": "code",
   "execution_count": null,
   "metadata": {
    "vscode": {
     "languageId": "r"
    }
   },
   "outputs": [],
   "source": []
  }
 ],
 "metadata": {
  "kernelspec": {
   "display_name": "R",
   "language": "R",
   "name": "ir"
  },
  "language_info": {
   "codemirror_mode": "r",
   "file_extension": ".r",
   "mimetype": "text/x-r-source",
   "name": "R",
   "pygments_lexer": "r",
   "version": "3.6.1"
  }
 },
 "nbformat": 4,
 "nbformat_minor": 4
}
