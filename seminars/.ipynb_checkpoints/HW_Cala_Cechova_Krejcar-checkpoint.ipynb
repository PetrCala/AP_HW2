{
 "cells": [
  {
   "cell_type": "markdown",
   "metadata": {},
   "source": [
    "# JEM092 Asset Pricing - Homework 1\n",
    "### Summer Semester 2021/2022\n",
    "\n",
    "### Authors: *Petr Čala, Tereza Čechová, Vilém Krejcar*\n",
    "___\n",
    "\n",
    "## Task 1 - Downloading data\n",
    "\n",
    "First things first, we install and load the necessary packages. Then we arbitrarily set a seed for reproducibility."
   ]
  },
  {
   "cell_type": "code",
   "execution_count": 2,
   "metadata": {},
   "outputs": [],
   "source": [
    "# Required packages\n",
    "packages <- c(\"quantmod\", \"tseries\", \"dplyr\", \"stringr\", \"xml2\", \"qdapRegex\", \"rvest\", \"httr\", \"PortfolioAnalytics\",\n",
    "             \"timeSeries\")\n",
    "\n",
    "# Install packages not yet installed\n",
    "installed_packages <- packages %in% rownames(installed.packages())\n",
    "if (any(installed_packages == FALSE)) {\n",
    "  install.packages(packages[!installed_packages])\n",
    "  print(paste(\"Installing package \", packages[!installed_packages],\"...\", sep = \"\"))\n",
    "}\n",
    "\n",
    "# Packages loading\n",
    "invisible(lapply(packages, library, character.only = TRUE))\n",
    "rm(list = ls()) #Clean environment\n",
    "\n",
    "# Miscellaneous\n",
    "options(repr.plot.width = 6, repr.plot.height = 5)\n",
    "set.seed(420)"
   ]
  },
  {
   "cell_type": "markdown",
   "metadata": {},
   "source": [
    "### Groundwork\n",
    "\n",
    "A bit of groundwork and data preprocessing is in order. These steps either follow the seminar or are a way of keeping the process clean and replicable, so there is not much to comment."
   ]
  },
  {
   "cell_type": "code",
   "execution_count": 3,
   "metadata": {},
   "outputs": [],
   "source": [
    "# Static variables\n",
    "group_id <- \"61505008\"\n",
    "required_file_names <- c(\"data_download\", \"rand_download\", \"rand_seminar\")\n",
    "exp_len <- 20 #Number of stocks to be analyzed\n",
    "range_from <- '2007-01-01'\n",
    "range_to <- '2022-02-28'\n",
    "cap_base <- 'https://www.macrotrends.net/assets/php/market_cap.php?t=' #Site for market capitalization scraping\n",
    "book_value_base_1 <- 'https://www.macrotrends.net/assets/php/fundamental_iframe.php?t=' #Site for book value page scraping (p1)\n",
    "book_value_base_2 <- '&type=price-book&statement=price-ratios&freq=Q' #(p2)"
   ]
  },
  {
   "cell_type": "code",
   "execution_count": 4,
   "metadata": {},
   "outputs": [
    {
     "name": "stdout",
     "output_type": "stream",
     "text": [
      "[1] \"File 61505008_rand_download.csv is missing from the folder.\"\n"
     ]
    }
   ],
   "source": [
    "# Assert presence of necessary files\n",
    "missing = 0\n",
    "for (i in required_file_names) {\n",
    "    name <- paste(group_id, \"_\", i, \".csv\", sep = \"\")\n",
    "    if (!name %in% list.files()) {\n",
    "        print(paste(\"File \", name, \" is missing from the folder.\", sep = \"\"))\n",
    "        missing <- missing + 1\n",
    "    }\n",
    "}\n",
    "if (missing == 0) {\n",
    "    print('All required files were located successfully.')\n",
    "}"
   ]
  },
  {
   "cell_type": "code",
   "execution_count": 5,
   "metadata": {},
   "outputs": [],
   "source": [
    "# A function for loading the tickers from a file\n",
    "getTickers <- function(file_name) {\n",
    "    tickers <- as.character(read.csv(paste(group_id, \"_\", file_name, \".csv\", sep = \"\"))[,2]) # Load the tickers\n",
    "    if (length(tickers) != exp_len) {\n",
    "        print(paste(\"There seem to be some missing tickers. There should be \", exp_len, \" of them in total.\", sep = \"\"))\n",
    "    }\n",
    "    return(tickers)\n",
    "}\n",
    "tickers <- getTickers(\"rand_download\") # We of course load the tickers as so"
   ]
  },
  {
   "cell_type": "markdown",
   "metadata": {},
   "source": [
    "### Obtaining the *daily closed price* and *volume traded* data\n",
    "\n",
    "The process is straightforward - we use the *getSymbols* function from the *quantmod* package to *GET* data from yahoo for each of the stock through *lapply*. We then subset for the desired date range and extract the two columns with **closed price** and **volume traded** information."
   ]
  },
  {
   "cell_type": "code",
   "execution_count": 6,
   "metadata": {
    "scrolled": true
   },
   "outputs": [],
   "source": [
    "# A simple function for extracting the Yahoo data\n",
    "getYahooData <- function(tickers, range_from, range_to) {\n",
    "    options(\"getSymbols.warning4.0\"=FALSE)\n",
    "    # Loading and preprocessing the Yahoo data for the specified date range\n",
    "    data_yahoo <- lapply(tickers, function(y){\n",
    "        getSymbols(y, src = \"yahoo\", from = range_from, to = range_to, auto.assign = FALSE, warnings = FALSE)\n",
    "    })\n",
    "    names(data_yahoo) <- tickers\n",
    "\n",
    "    # Discard all columns but the ones including closed price and volume traded\n",
    "    data_yahoo <- lapply(names(data_yahoo), function(y){\n",
    "        data_yahoo[[y]][,c(paste0(y, '.Adjusted'), paste0(y, '.Volume'))]\n",
    "    })\n",
    "    names(data_yahoo) <- tickers\n",
    "    print('Yahoo data succesfully extracted.')\n",
    "    return(data_yahoo)\n",
    "}"
   ]
  },
  {
   "cell_type": "code",
   "execution_count": 7,
   "metadata": {
    "scrolled": true
   },
   "outputs": [
    {
     "name": "stdout",
     "output_type": "stream",
     "text": [
      "[1] \"Extracting Yahoo data...\"\n",
      "[1] \"Yahoo data succesfully extracted.\"\n"
     ]
    }
   ],
   "source": [
    "print('Extracting Yahoo data...')\n",
    "data_yahoo <- getYahooData(tickers, range_from, range_to)"
   ]
  },
  {
   "cell_type": "markdown",
   "metadata": {},
   "source": [
    "### Obtaining the *Market capitalization* data\n",
    "\n",
    "The way we decided to tackle this problem was to use the suggested site *macrotrends.net*, where we found out the pattern under which the market capitalization data is stored for each stock.\n",
    "\n",
    "From here, we found out the *chartData* variable in the source code of the page, under which the data is stored, although to the user only a visual display is shown. We then download the page, extract the string, locate its parts by means of pattern recognition, and finally transform this information into a dataframe. That we do for each stock, automatically and in a generalizable way, of course."
   ]
  },
  {
   "cell_type": "code",
   "execution_count": 8,
   "metadata": {
    "scrolled": true
   },
   "outputs": [],
   "source": [
    "# Define a ticker and the site where it should be extracted from and return a reponse in form of a HTML\n",
    "extractMarketCap <- function(cap_base, ticker) {\n",
    "    cap_path <- paste(cap_base, ticker, sep = '')\n",
    "    cap_page <- read_html(cap_path)\n",
    "    cap_raw <- cap_page %>% \n",
    "        rvest::html_nodes('body') %>% \n",
    "        rvest::html_element('script') %>%\n",
    "        rvest::html_text()\n",
    "    cap_str <- toString(ex_between(cap_raw, left = 'chartData = [', right = ']'))\n",
    "    return(cap_str)\n",
    "}\n",
    "\n",
    "# A function for transforming the raw html into a data frame\n",
    "createMarketCapDf <- function(input_str, ticker) {\n",
    "    pattern_dates <- \"([0-9]{4})[-]([0-9]{2})[-]([0-9]{2})\"\n",
    "    pattern_values <- \"\\\\d+([.]\\\\d+)?(?=\\\\})\"\n",
    "    \n",
    "    dates <- stringr::str_extract_all(input_str, pattern_dates)[[1]]\n",
    "    values_raw <- stringr::str_extract_all(input_str, pattern_values)[[1]]\n",
    "    values <- unlist(lapply(values_raw, as.numeric))\n",
    "    \n",
    "    df <- data.frame(values, row.names = dates)\n",
    "    colnames(df) <- c(ticker)\n",
    "    return(df)\n",
    "}\n",
    "\n",
    "# Run a for loop across all tickers, generating a data frame with market cap info for each stock\n",
    "getMarketCapData <- function(cap_base, tickers) {\n",
    "    df_out <- list()\n",
    "    print('Extracting market capitalization data for the desired tickers...')\n",
    "    for (ticker in tickers) {\n",
    "        raw_data <- extractMarketCap(cap_base, ticker)\n",
    "        df <- createMarketCapDf(raw_data, ticker)\n",
    "        df <- subset(df, as.Date(rownames(df)) < as.Date(range_to) &\n",
    "                         as.Date(rownames(df)) >= as.Date(range_from))\n",
    "        df_out[[ticker]] <- df\n",
    "    }\n",
    "    print('Data extracted succesfully.')\n",
    "    return(df_out)\n",
    "}"
   ]
  },
  {
   "cell_type": "markdown",
   "metadata": {},
   "source": [
    "Running the actual process..."
   ]
  },
  {
   "cell_type": "code",
   "execution_count": 9,
   "metadata": {
    "scrolled": true
   },
   "outputs": [
    {
     "name": "stdout",
     "output_type": "stream",
     "text": [
      "[1] \"Extracting market capitalization data for the desired tickers...\"\n",
      "[1] \"Data extracted succesfully.\"\n"
     ]
    }
   ],
   "source": [
    "if (!'tickers' %in% ls()) {\n",
    "    ticker <- getTickers(\"rand_download\") #Load the tickers if they are not loaded into the environment\n",
    "}\n",
    "data_market_cap <- getMarketCapData(cap_base, tickers)\n",
    "# In order to extract individual stocks:\n",
    "# data_market_cap[['AAPL']], data_market_cap[['ADBE']], ..."
   ]
  },
  {
   "cell_type": "markdown",
   "metadata": {},
   "source": [
    "### Obtaining the *Book value per Share* data\n",
    "\n",
    "The process is going to be very similar to the previous case. We use the base string (defined in the static variables section) to find out the location of the data we need. We realized that the **page structure is nearly the same**, although there are 3 graphs instead of one. We locate the one we need (marked by *v2*) using pattern recognition, extract the data, and transfrom it the same way as before, yielding the result - ***data_book_value***.\n",
    "\n",
    "*Note:* We found out, that in the aforementioned figures, the last observation for *Book value per Share*, is missing, although it is available for the other two metrics. We take this as given and write but a simple warning to let the user know that it is indeed so."
   ]
  },
  {
   "cell_type": "code",
   "execution_count": 10,
   "metadata": {},
   "outputs": [],
   "source": [
    "# Define a ticker and the site where it should be extracted from and return a reponse in form of a HTML\n",
    "extractBookValue <- function(book_value_base_1, book_value_base_2, ticker) {\n",
    "    bv_path <- paste(book_value_base_1, ticker, book_value_base_2, sep = '')\n",
    "    bv_page <- read_html(bv_path)\n",
    "    bv_raw <- bv_page %>% \n",
    "        rvest::html_nodes('body') %>% \n",
    "        rvest::html_element('script') %>%\n",
    "        rvest::html_text()\n",
    "    bv_str <- toString(ex_between(bv_raw, left = 'chartData = [', right = ']'))\n",
    "    return(bv_str)\n",
    "}\n",
    "\n",
    "# A function for transforming the raw html into a data frame\n",
    "createBookValueDf <- function(input_str, ticker) {\n",
    "    pattern_dates <- \"([0-9]{4})[-]([0-9]{2})[-]([0-9]{2})\"\n",
    "    pattern_values <- \"(?<=\\\\p{quotation mark}v2\\\\p{quotation mark}\\\\:)((-)?\\\\d+([.]\\\\d+)?(?=,))\"\n",
    "    \n",
    "    dates <- stringr::str_extract_all(input_str, pattern_dates)[[1]]\n",
    "    values_raw <- stringr::str_extract_all(input_str, pattern_values)[[1]]\n",
    "    values <- unlist(lapply(values_raw, as.numeric))\n",
    "    \n",
    "    while (length(dates) > length(values)) { #More dates than book value observations - should be no missing in between\n",
    "        print(paste('Book value data is missing for stock', ticker, \"on date\", dates[length(dates)], sep = \" \"))\n",
    "        dates <- dates[-length(dates)] #Remove the last date\n",
    "    }\n",
    "    \n",
    "    df <- data.frame(values, row.names = dates)\n",
    "    colnames(df) <- c(ticker)\n",
    "    return(df)\n",
    "}\n",
    "\n",
    "# Run a for loop across all tickers, generating a data frame with book value info for each stock\n",
    "getBookValueData <- function(book_value_base_1, book_value_base_2, tickers) {\n",
    "    df_out <- list()\n",
    "    print('Extracting book value data for the desired tickers...')\n",
    "    for (ticker in tickers) {\n",
    "        raw_data <- extractBookValue(book_value_base_1, book_value_base_2, ticker)\n",
    "        df <- createBookValueDf(raw_data, ticker)\n",
    "        df <- subset(df, as.Date(rownames(df)) < as.Date(range_to) &\n",
    "                         as.Date(rownames(df)) >= as.Date(range_from))\n",
    "        df_out[[ticker]] <- df\n",
    "    }\n",
    "    print('Data extracted succesfully.')\n",
    "    return(df_out)\n",
    "}"
   ]
  },
  {
   "cell_type": "markdown",
   "metadata": {},
   "source": [
    "Running the actual process..."
   ]
  },
  {
   "cell_type": "code",
   "execution_count": 11,
   "metadata": {
    "scrolled": false
   },
   "outputs": [
    {
     "name": "stdout",
     "output_type": "stream",
     "text": [
      "[1] \"Extracting book value data for the desired tickers...\"\n",
      "[1] \"Book value data is missing for stock FITB on date 2022-04-05\"\n",
      "[1] \"Book value data is missing for stock FFIV on date 2022-04-05\"\n",
      "[1] \"Book value data is missing for stock ADBE on date 2022-04-05\"\n",
      "[1] \"Book value data is missing for stock TMO on date 2022-04-05\"\n",
      "[1] \"Book value data is missing for stock OMC on date 2022-04-04\"\n",
      "[1] \"Book value data is missing for stock GOOGL on date 2022-04-05\"\n",
      "[1] \"Book value data is missing for stock DGX on date 2022-04-05\"\n",
      "[1] \"Book value data is missing for stock AES on date 2022-04-05\"\n",
      "[1] \"Book value data is missing for stock TRV on date 2022-04-05\"\n",
      "[1] \"Book value data is missing for stock ORCL on date 2022-04-04\"\n",
      "[1] \"Book value data is missing for stock PGR on date 2022-04-05\"\n",
      "[1] \"Book value data is missing for stock CLX on date 2022-04-05\"\n",
      "[1] \"Book value data is missing for stock DHR on date 2022-04-04\"\n",
      "[1] \"Book value data is missing for stock ORLY on date 2022-04-05\"\n",
      "[1] \"Book value data is missing for stock AIZ on date 2022-04-05\"\n",
      "[1] \"Book value data is missing for stock SPG on date 2022-04-05\"\n",
      "[1] \"Book value data is missing for stock MGM on date 2022-04-05\"\n",
      "[1] \"Book value data is missing for stock FRT on date 2022-04-05\"\n",
      "[1] \"Book value data is missing for stock RCL on date 2022-04-05\"\n",
      "[1] \"Book value data is missing for stock PAYX on date 2022-04-05\"\n",
      "[1] \"Data extracted succesfully.\"\n"
     ]
    }
   ],
   "source": [
    "if (!'tickers' %in% ls()) {\n",
    "    ticker <- getTickers(\"rand_download\") #Load the tickers if they are not loaded into the environment\n",
    "}\n",
    "data_book_value <- getBookValueData(book_value_base_1, book_value_base_2, tickers)"
   ]
  },
  {
   "cell_type": "markdown",
   "metadata": {},
   "source": [
    "___\n",
    "As so, the results of the data acquisition should be found under the following variables:\n",
    "* ***data_yahoo*** - daily closed price and volume traded data from *Yahoo Finance*\n",
    "* ***data_market_cap*** - Market capitalization data\n",
    "* ***data_book_value*** - Book value per share data\n",
    "\n",
    "## Task 2 - Markowitz portfolio\n",
    "\n",
    "As we were succesful in obtaining the desired data, we shall use them in this exercise.\n",
    "\n",
    "We **write a function to help us with data transformation**. This allows for simple replicability. This function converts the data to monthly, subsets for the desired range *(years 2015 to 2020)*, and calculates the monthly returns. Returned is an object *data_yahoo_monthly*, which is the transformed dataset.\n",
    "\n",
    "*Note: Mind that we need to keep the date format as '%Y-%m-%d' for the optimize.portfolio function to work.*"
   ]
  },
  {
   "cell_type": "code",
   "execution_count": 12,
   "metadata": {},
   "outputs": [],
   "source": [
    "# A simple function for transforming the daily dataset into one displaying monthly data\n",
    "# Also allows for range subsetting\n",
    "getYahooDataMonthly <- function(data, range_from = '2015-01-01', range_to = '2022-12-01') {\n",
    "    data_yahoo_monthly <- list()\n",
    "    for (stock in names(data)) {\n",
    "        stock_data <- to.period(data[[stock]], period = 'months')\n",
    "        new_cols <- c(paste0(stock, '.Monthly.Open'), paste0(stock, '.Monthly.High'),\n",
    "                                 paste0(stock, '.Monthly.Low'), paste0(stock, '.Monthly.Close'),\n",
    "                                 paste0(stock, '.Monthly.Volume'))\n",
    "        colnames(stock_data) <- new_cols\n",
    "        \n",
    "        # Subset for the desired date range\n",
    "        stock_data <- stock_data[index(stock_data) <= as.Date(range_to) &\n",
    "                                 index(stock_data) >= as.Date(range_from),]\n",
    "        \n",
    "        # Calculate monthly returns - we trade off a bit of redundancy for code clarity\n",
    "        # The subsetting also gets a bit tricky, as generalizing the col names leads to problems with recognition\n",
    "        returns_col <- paste0(stock,'.Monthly.Returns')\n",
    "        returns_open <- paste0(stock, '.Monthly.Open')\n",
    "        returns_close <- paste0(stock, '.Monthly.Close')\n",
    "        returns_val <- ((stock_data[,returns_close] - stock_data[,returns_open]) / stock_data[,returns_open])\n",
    "        stock_data$returns_col <- returns_val\n",
    "        colnames(stock_data) <- append(new_cols, returns_col)\n",
    "        \n",
    "        data_yahoo_monthly[[stock]] <- stock_data\n",
    "    } \n",
    "    return(data_yahoo_monthly)\n",
    "}"
   ]
  },
  {
   "cell_type": "code",
   "execution_count": 13,
   "metadata": {},
   "outputs": [],
   "source": [
    "if (!'data_yahoo' %in% ls()) {\n",
    "    data_yahoo <- getYahooData(tickers, range_from, range_to) # Load yahoo data if not in memory\n",
    "}\n",
    "data_yahoo_monthly <- getYahooDataMonthly(data_yahoo) # Defaults to range Jan 2015 - Dec 2022"
   ]
  },
  {
   "cell_type": "markdown",
   "metadata": {},
   "source": [
    "This dataset will later be used in *Task 3* as well, so for this task, we take out only the parts we need, which are the monthly returns. \n",
    "\n",
    "Now, we define 3 useful functions to help us form the desired portfolios, and plot their efficient frontier. For this, **we will make use of some parts of the code from Seminar 5**."
   ]
  },
  {
   "cell_type": "code",
   "execution_count": 14,
   "metadata": {},
   "outputs": [],
   "source": [
    "# A function for extracting the monthly returns as an data frame - input monthly data from Yahoo Finance\n",
    "getMonthlyReturns <- function(data) {\n",
    "    stocks <- names(data)\n",
    "    getCloseCol <- function(y){\n",
    "        close_col <- xts(y[,str_detect(colnames(y), \"Returns\")], order.by=index(y))\n",
    "        return(close_col)\n",
    "    }\n",
    "    returns <- lapply(data, getCloseCol)\n",
    "    out_data <- do.call(merge, returns)\n",
    "    colnames(out_data) <- stocks\n",
    "    return(out_data)\n",
    "}\n",
    "\n",
    "# A function for creating a portfolio - input an xts object containing data of monthly returns\n",
    "getPortfolio <- function(data) {\n",
    "    stocks <- names(data)\n",
    "    pspec <- portfolio.spec(assets = stocks)\n",
    "    pspec <- add.constraint(\n",
    "        portfolio = pspec,\n",
    "        type = \"leverage\",\n",
    "        min_sum = 0.99,\n",
    "        max_sum = 1.01\n",
    "    )\n",
    "    min_var_portfolio <- add.objective(portfolio = pspec, type = \"risk\", name = \"var\")\n",
    "    optimal_portfolio <- optimize.portfolio(\n",
    "        R = data,\n",
    "        portfolio = min_var_portfolio,\n",
    "        optimize_method = \"ROI\",\n",
    "        trace = TRUE\n",
    "    )\n",
    "    return(optimal_portfolio)\n",
    "}\n",
    "\n",
    "# A function for creating the efficient frontier - input an xts object containing data of monthly returns\n",
    "getEfficientFrontier <- function(data) {\n",
    "    stocks <- names(data)\n",
    "    pspec <- portfolio.spec(assets = stocks)\n",
    "    pspec <- add.constraint(\n",
    "        portfolio = pspec,\n",
    "        type = \"leverage\",\n",
    "        min_sum = 0.99,\n",
    "        max_sum = 1.01\n",
    "    )\n",
    "    optimal_portfolio <- getPortfolio(data)\n",
    "    gmvp_min <- min(optimal_portfolio$weights)\n",
    "    eff_portfolio <- add.constraint(\n",
    "        portfolio = pspec,\n",
    "        type = \"box\",\n",
    "        min = gmvp_min,\n",
    "        max = 1\n",
    "    )\n",
    "    eff <- create.EfficientFrontier(R = data, portfolio = eff_portfolio, type = 'mean-var')\n",
    "    chart.EfficientFrontier(eff, match.col = 'StdDev', type = 'l', RAR.text = 'Sharpe Ratio', pch = 4)\n",
    "    return(eff)\n",
    "}"
   ]
  },
  {
   "cell_type": "markdown",
   "metadata": {},
   "source": [
    "Using these functions, we **create two portfolios, both containing 10 stocks**. Both attain the global minimum variance, which is our goal. The weights under which this is attained can be seen below, along with the fact that **our portfolio is the left-most point** on the plot displaying variance to returns. This is true for both portfolios and serves as a sanity check, as the left-most point represents, by definition of the plot, the portfolio/stock combination with the lowest variance/risk, which is our aim."
   ]
  },
  {
   "cell_type": "code",
   "execution_count": 15,
   "metadata": {
    "scrolled": false
   },
   "outputs": [
    {
     "name": "stderr",
     "output_type": "stream",
     "text": [
      "Registered S3 method overwritten by 'ROI':\n",
      "  method           from              \n",
      "  print.constraint PortfolioAnalytics\n"
     ]
    }
   ],
   "source": [
    "# Split the stocks into two portfolios\n",
    "returnsA <- getMonthlyReturns(data_yahoo_monthly[1:10])\n",
    "returnsB <- getMonthlyReturns(data_yahoo_monthly[11:20])\n",
    "\n",
    "portfolioA <- getPortfolio(returnsA)\n",
    "portfolioB <- getPortfolio(returnsB)"
   ]
  },
  {
   "cell_type": "code",
   "execution_count": 16,
   "metadata": {
    "scrolled": false
   },
   "outputs": [
    {
     "data": {
      "text/plain": [
       "***********************************\n",
       "PortfolioAnalytics Optimization\n",
       "***********************************\n",
       "\n",
       "Call:\n",
       "optimize.portfolio(R = data, portfolio = min_var_portfolio, optimize_method = \"ROI\", \n",
       "    trace = TRUE)\n",
       "\n",
       "Optimal Weights:\n",
       "   FITB    FFIV    ADBE     TMO     OMC   GOOGL     DGX     AES     TRV    ORCL \n",
       "-0.1310  0.0452  0.0501  0.2286  0.2992  0.0317 -0.0271 -0.0285  0.1940  0.3278 \n",
       "\n",
       "Objective Measure:\n",
       " StdDev \n",
       "0.03974 \n",
       "\n",
       "\n"
      ]
     },
     "metadata": {},
     "output_type": "display_data"
    },
    {
     "data": {
      "text/plain": [
       "***********************************\n",
       "PortfolioAnalytics Optimization\n",
       "***********************************\n",
       "\n",
       "Call:\n",
       "optimize.portfolio(R = data, portfolio = min_var_portfolio, optimize_method = \"ROI\", \n",
       "    trace = TRUE)\n",
       "\n",
       "Optimal Weights:\n",
       "    PGR     CLX     DHR    ORLY     AIZ     SPG     MGM     FRT     RCL    PAYX \n",
       " 0.2150  0.3073  0.1689 -0.0070  0.1307 -0.1257  0.1025  0.2639 -0.1069  0.0413 \n",
       "\n",
       "Objective Measure:\n",
       " StdDev \n",
       "0.03475 \n",
       "\n",
       "\n"
      ]
     },
     "metadata": {},
     "output_type": "display_data"
    }
   ],
   "source": [
    "portfolioA\n",
    "portfolioB"
   ]
  },
  {
   "cell_type": "code",
   "execution_count": 17,
   "metadata": {},
   "outputs": [
    {
     "data": {
      "image/png": "[encoded data removed]",
      "text/plain": [
       "Plot with title \"\""
      ]
     },
     "metadata": {},
     "output_type": "display_data"
    },
    {
     "data": {
      "image/png": "[encoded data removed]",
      "text/plain": [
       "Plot with title \"\""
      ]
     },
     "metadata": {},
     "output_type": "display_data"
    }
   ],
   "source": [
    "# We can plot the variance-to-return and weights for both of these portfolios\n",
    "plot(\n",
    "    portfolioA,\n",
    "    risk.col = \"StdDev\",\n",
    "    return.col = \"mean\",\n",
    "    main = \"Minimum Variance Optimization\",\n",
    "    chart.assets = TRUE,\n",
    "    xlim = c(0.035, 0.1),\n",
    "    ylim = c(0, 0.025)\n",
    ")\n",
    "\n",
    "plot(\n",
    "    portfolioB,\n",
    "    risk.col = \"StdDev\",\n",
    "    return.col = \"mean\",\n",
    "    main = \"Minimum Variance Optimization\",\n",
    "    chart.assets = TRUE,\n",
    "    xlim = c(0.035, 0.18),\n",
    "    ylim = c(0, 0.025)\n",
    ")"
   ]
  },
  {
   "cell_type": "markdown",
   "metadata": {},
   "source": [
    "We can see that **portfolio B is a bit less volatile, and yields higher returns**, so this would be the portfolio of our choice. Needless to say, the performance of both of these portfolios is overall quite similar, if we consider the scale.\n",
    "\n",
    "Below we include **plots of the efficient frontier for both portfolios**. In **portfolio A**, stocks of **Google, Amazon, TMO, TRV or ORCL** could be considered the ones that drive the shape, as they perform better than the other 6 (either yield higher returns for given a certain level of volatility of and less risky/volatile than the other stocks). In **portfolio B**, stocks of **Danaher, PGR or Clorox** seem to be performing the best, for the reasons mentioned above."
   ]
  },
  {
   "cell_type": "code",
   "execution_count": 18,
   "metadata": {
    "scrolled": false
   },
   "outputs": [
    {
     "name": "stderr",
     "output_type": "stream",
     "text": [
      "Warning message:\n",
      "\"executing %dopar% sequentially: no parallel backend registered\""
     ]
    },
    {
     "data": {
      "text/plain": [
       "**************************************************\n",
       "PortfolioAnalytics Efficient Frontier \n",
       "**************************************************\n",
       "\n",
       "Call:\n",
       "create.EfficientFrontier(R = data, portfolio = eff_portfolio, \n",
       "    type = \"mean-var\")\n",
       "\n",
       "Efficient Frontier Points: 25 \n",
       "\n",
       "**************************************************\n",
       "PortfolioAnalytics Portfolio Specification \n",
       "**************************************************\n",
       "\n",
       "Call:\n",
       "portfolio.spec(assets = stocks)\n",
       "\n",
       "Number of assets: 10 \n",
       "Asset Names\n",
       " [1] \"FITB\"  \"FFIV\"  \"ADBE\"  \"TMO\"   \"OMC\"   \"GOOGL\" \"DGX\"   \"AES\"   \"TRV\"  \n",
       "[10] \"ORCL\" \n",
       "\n",
       "Constraints\n",
       "Enabled constraint types\n",
       "\t\t- leverage \n",
       "\t\t- box (with shorting) \n"
      ]
     },
     "metadata": {},
     "output_type": "display_data"
    },
    {
     "data": {
      "image/png": "[encoded data removed]",
      "text/plain": [
       "Plot with title \"Efficient Frontier\""
      ]
     },
     "metadata": {},
     "output_type": "display_data"
    },
    {
     "data": {
      "text/plain": [
       "**************************************************\n",
       "PortfolioAnalytics Efficient Frontier \n",
       "**************************************************\n",
       "\n",
       "Call:\n",
       "create.EfficientFrontier(R = data, portfolio = eff_portfolio, \n",
       "    type = \"mean-var\")\n",
       "\n",
       "Efficient Frontier Points: 25 \n",
       "\n",
       "**************************************************\n",
       "PortfolioAnalytics Portfolio Specification \n",
       "**************************************************\n",
       "\n",
       "Call:\n",
       "portfolio.spec(assets = stocks)\n",
       "\n",
       "Number of assets: 10 \n",
       "Asset Names\n",
       " [1] \"PGR\"  \"CLX\"  \"DHR\"  \"ORLY\" \"AIZ\"  \"SPG\"  \"MGM\"  \"FRT\"  \"RCL\"  \"PAYX\"\n",
       "\n",
       "Constraints\n",
       "Enabled constraint types\n",
       "\t\t- leverage \n",
       "\t\t- box (with shorting) \n"
      ]
     },
     "metadata": {},
     "output_type": "display_data"
    },
    {
     "data": {
      "image/png": "[encoded data removed]",
      "text/plain": [
       "Plot with title \"Efficient Frontier\""
      ]
     },
     "metadata": {},
     "output_type": "display_data"
    }
   ],
   "source": [
    "getEfficientFrontier(returnsA)\n",
    "getEfficientFrontier(returnsB)"
   ]
  },
  {
   "cell_type": "markdown",
   "metadata": {},
   "source": [
    "## Task 3 - Stock index\n",
    "\n",
    "We will use the data we obtained during the previous task (*data_yahoo_monthly*) for this. Importantly, **the price that these data display is already the adjusted price**, so stock splits are inherently taken into account. We thus do not need to worry about them when calculating the indices. Considering that Yahoo Finance offers this information automatically, it would seem folly to duplicate work here and adjust the price ourselves.\n",
    "\n",
    "*Note: It is unclear, whether we should work only with the period 2015-22, or the whole one. Considering the fact that we have the data available, we decided to compute the index for the period 2009-22.*"
   ]
  },
  {
   "cell_type": "code",
   "execution_count": 19,
   "metadata": {},
   "outputs": [],
   "source": [
    "# Input monthly price data as an xts file and return a simple price weighted index as a data frame\n",
    "getSimplePriceIndex <- function(data) {\n",
    "    tickers <- names(data)\n",
    "    dates <- index(data[[1]])\n",
    "    getIndex <- function(date) {\n",
    "        prices <- sapply(data, function(y){\n",
    "            cols <- str_detect(colnames(y), \"Close\") # Get .Close columns\n",
    "            return(y[date,cols])\n",
    "        })\n",
    "        prices_sum <- sum(prices)\n",
    "        weights <- prices/prices_sum\n",
    "        index <- sum(weights*prices)\n",
    "        return(index)\n",
    "    }\n",
    "    indices <- as.data.frame(sapply(dates, getIndex))\n",
    "    colnames(indices) <- 'Price weighted index'\n",
    "    rownames(indices) <- dates\n",
    "    return(indices)\n",
    "}\n",
    "\n",
    "# Input monthly price data and market-capitalization data and\n",
    "# return a market-capitalization weighted index as a data frame\n",
    "getMarketCapIndex <- function(data_monthly, data_market_cap) {\n",
    "    dates <- index(data_monthly[[1]])\n",
    "    mcapToMonths <- function(mcap_data) {\n",
    "        stock <- colnames(mcap_data)\n",
    "        mcap_data <- to.period(mcap_data, period = 'months')\n",
    "        mcap_data <- mcap_data[,str_detect(colnames(mcap_data), \"Close\"), drop=FALSE]\n",
    "        colnames(mcap_data) <- stock\n",
    "        while (nrow(mcap_data) > length(dates)) { # Redundant rows\n",
    "            mcap_data <- slice(mcap_data, 2:(n()))\n",
    "        }\n",
    "        rownames <- dates\n",
    "        return(mcap_data)\n",
    "    }\n",
    "    mcap_data <- lapply(data_market_cap, mcapToMonths)\n",
    "    for (data in mcap_data) { # Check that indices match - some datasets get 'monthlified' differently\n",
    "        check <- sum(index(data) == index(mcap_data[[1]]))\n",
    "        if (!check) {\n",
    "            print('Mismatching indices')\n",
    "            break\n",
    "        }\n",
    "    }\n",
    "\n",
    "    getIndex <- function(date) {\n",
    "        prices <- sapply(data_monthly, function(y) { # Prices for a given date\n",
    "            price <- y[as.character(date),str_detect(colnames(y), \"Close\")]\n",
    "            return(price) # Price on that day\n",
    "            })\n",
    "        total_mkt_cap <- sum(sapply(mcap_data, function(y) { # Total market cap\n",
    "            mkt_cap <- y[as.character(date),]\n",
    "        }))\n",
    "        weights <- sapply(mcap_data, function(y) { # Weights for a given date\n",
    "            mkt_cap <- y[as.character(date),]\n",
    "            weight <- mkt_cap/total_mkt_cap\n",
    "        })\n",
    "        index <- sum(weights*prices)\n",
    "        return(index) # Index for a given day\n",
    "    }\n",
    "    indices <- as.data.frame(sapply(dates, getIndex)) # Get all indices\n",
    "    colnames(indices) <- 'MarketCap index'\n",
    "    rownames(indices) <- dates\n",
    "    return(indices)\n",
    "}\n",
    "\n",
    "# Input monthly price data as an xts file and return an equally weighted index as a data frame\n",
    "getEqualWeightIndex <- function(data) {\n",
    "    dates <- index(data[[1]])\n",
    "    getIndex <- function(date) {\n",
    "        prices <- sapply(data, function(y){\n",
    "            cols <- str_detect(colnames(y), \"Close\") # Get .Close columns\n",
    "            return(y[date,cols])\n",
    "        })\n",
    "        weights <- 1/length(names(data))\n",
    "        prices_weighted <- prices * weights\n",
    "        index <- sum(prices_weighted)\n",
    "        return(index)\n",
    "    }\n",
    "    indices <- as.data.frame(sapply(dates, getIndex))\n",
    "    colnames(indices) <- 'Equally weighted index'\n",
    "    rownames(indices) <- dates\n",
    "    return(indices)\n",
    "}"
   ]
  },
  {
   "cell_type": "code",
   "execution_count": 20,
   "metadata": {
    "scrolled": false
   },
   "outputs": [],
   "source": [
    "# Calculate the monthly data for the same range as the MktCap\n",
    "data_yahoo_monthly_idx <- getYahooDataMonthly(data_yahoo, range_from = '2009-04-30', range_to = '2022-02-25')\n",
    "\n",
    "# And get the actual indices\n",
    "price_weighted_index <- getSimplePriceIndex(data_yahoo_monthly_idx)\n",
    "market_cap_index <- getMarketCapIndex(data_yahoo_monthly_idx, data_market_cap)\n",
    "equal_weight_index <- getEqualWeightIndex(data_yahoo_monthly_idx)"
   ]
  },
  {
   "cell_type": "markdown",
   "metadata": {},
   "source": [
    "Once we obtain all 3 indices, we can plot them simultaneously into one plot, which allows us to observe their behavior.\n",
    "\n",
    "Before going further, **we noticed a discrepancy between the definition of a price weighted index in the setup and in practice**. The way that the setup defines this index involves no actual price weighting, as the divisor is never defined. In practice, the **prices get weighted by a proportion each stock has on the sum of all stock prices for a given period**. This is, then, the definition we use to calculate the index.\n",
    "\n",
    "As for the actual results, the first two indices behave quite similarly, both indicating a market price that increases over time, which is something we should expect with inflation and market growth. A similar trend can be seen in the equally weighted index, although it displays prices much smaller than its counterpart. A simple explanation for this comes from the definition of the indices, as **larger firms get higher weights in the first two of them (Price weighted \\& MktCap)**. Needless to say, larger firms have both higher market capitalization and more expensive stocks."
   ]
  },
  {
   "cell_type": "code",
   "execution_count": 21,
   "metadata": {},
   "outputs": [
    {
     "data": {
      "image/png": "[encoded data removed]",
      "text/plain": [
       "Plot with title \"\""
      ]
     },
     "metadata": {},
     "output_type": "display_data"
    }
   ],
   "source": [
    "# Plot the indices in a single plot\n",
    "options(repr.plot.width = 8, repr.plot.height = 6)\n",
    "               \n",
    "plot.ts(price_weighted_index, main = \"\", ylab = \"Price\", ylim = c(0,2000), xaxt=\"n\")\n",
    "lines(market_cap_index, col = 'royalblue2')\n",
    "lines(equal_weight_index, col = 'yellowgreen')\n",
    "legend(\"topleft\", ncol = 1,\n",
    "       legend = c(colnames(price_weighted_index), colnames(market_cap_index), colnames(equal_weight_index)),\n",
    "      col = c('black', 'royalblue2', 'yellowgreen'), lty = 1, lwd = 2, box.col = 'white')\n",
    "# Axis ticks\n",
    "getTicks <- function(ticks, idx) { # Number of ticks, index df\n",
    "    obs <- length(rownames(idx)) / ticks\n",
    "    iter <- ticks - 1\n",
    "    ticks <- c()\n",
    "    for (i in 1:iter) {\n",
    "        ticks <- append(ticks, obs*i)\n",
    "    }\n",
    "    return(ticks)\n",
    "}\n",
    "ticks <- getTicks(6, price_weighted_index)\n",
    "date_axis <- as.Date(rownames(price_weighted_index)[ticks])\n",
    "axis(side=1, at=ticks, labels=date_axis)"
   ]
  }
 ],
 "metadata": {
  "kernelspec": {
   "display_name": "R",
   "language": "R",
   "name": "ir"
  },
  "language_info": {
   "codemirror_mode": "r",
   "file_extension": ".r",
   "mimetype": "text/x-r-source",
   "name": "R",
   "pygments_lexer": "r",
   "version": "3.6.1"
  }
 },
 "nbformat": 4,
 "nbformat_minor": 4
}
