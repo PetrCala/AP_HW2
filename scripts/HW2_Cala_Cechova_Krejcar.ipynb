{
 "cells": [
  {
   "cell_type": "markdown",
   "metadata": {},
   "source": [
    "# JEM092 Asset Pricing - Homework 2\n",
    "### Summer Semester 2021/2022\n",
    "\n",
    "### Authors: *Petr Čala, Tereza Čechová, Vilém Krejcar*\n",
    "___\n",
    "\n",
    "First things first, we install and load the necessary packages. Then we arbitrarily set a seed for reproducibility."
   ]
  },
  {
   "cell_type": "code",
   "execution_count": 2,
   "metadata": {
    "vscode": {
     "languageId": "r"
    }
   },
   "outputs": [
    {
     "name": "stdout",
     "output_type": "stream",
     "text": [
      "[1] \"All packages loaded successfully...\"\n"
     ]
    }
   ],
   "source": [
    "# Required packages\n",
    "packages <- c(\"stringr\", \"quantmod\", \"tseries\", \"dplyr\", \"xml2\", \"httr\", \"PortfolioAnalytics\",\n",
    "              \"lubridate\")\n",
    "\n",
    "# Install packages not yet installed\n",
    "installed_packages <- packages %in% rownames(installed.packages())\n",
    "if (any(installed_packages == FALSE)) {\n",
    "  install.packages(packages[!installed_packages])\n",
    "  print(paste(\"Installing package \", packages[!installed_packages],\"...\", sep = \"\"))\n",
    "}\n",
    "\n",
    "# Packages loading\n",
    "invisible(lapply(packages, library, character.only = TRUE))\n",
    "rm(list = ls()) #Clean environment\n",
    "print('All packages loaded successfully...')\n",
    "\n",
    "# Miscellaneous\n",
    "options(repr.plot.width = 6, repr.plot.height = 5)\n",
    "set.seed(420)"
   ]
  },
  {
   "cell_type": "markdown",
   "metadata": {},
   "source": [
    "### Groundwork\n",
    "\n",
    "Although we were able to obtain the data in the first homework, **we choose to use the provided dataset**, as this allows for easier and **more reliable reproducibility**. First we load the data, subset the necessary stocks, save these as new variables, and then discard the source data in order to alleviate some memory."
   ]
  },
  {
   "cell_type": "code",
   "execution_count": 3,
   "metadata": {
    "vscode": {
     "languageId": "r"
    }
   },
   "outputs": [],
   "source": [
    "# Static variables\n",
    "group_number <- 61505008\n",
    "ticker_file <- \"data/61505008_data_download.csv\"\n",
    "data_file <- \"data/Asset_Pricing_HW_2_data.RData\"\n",
    "group_factor <- \"data/third_factor_rand.csv\"\n",
    "data_files <- list(ticker_file, data_file, group_factor)"
   ]
  },
  {
   "cell_type": "code",
   "execution_count": 4,
   "metadata": {
    "vscode": {
     "languageId": "r"
    }
   },
   "outputs": [
    {
     "name": "stdout",
     "output_type": "stream",
     "text": [
      "[1] \"The factor assigned to this group is VOL.\"\n"
     ]
    }
   ],
   "source": [
    " # Set wd to project root\n",
    "if (str_detect(getwd(), 'scripts')) {\n",
    "    setwd('..')\n",
    "}\n",
    "\n",
    "# Assert presence of all required files\n",
    "for (file in data_files) {\n",
    "    if (!file.exists(file)) {\n",
    "        print(paste0('File ', file, ' does not exist or has been misplaced.'))\n",
    "    }\n",
    "}\n",
    "\n",
    "# Load tickers of required stocks\n",
    "tickers <- as.character(unlist(read.csv(ticker_file)[2]))\n",
    "\n",
    "# Check the assigned group factor\n",
    "getFactor <- function(factor){\n",
    "    data <- read.csv(factor)\n",
    "    matching_row <- which(data[2] == group_number)\n",
    "    assigned_factor <- as.character(data[matching_row, 3])\n",
    "    print(paste0('The factor assigned to this group is ', assigned_factor, '.'))\n",
    "}\n",
    "getFactor(group_factor)"
   ]
  },
  {
   "cell_type": "markdown",
   "metadata": {},
   "source": [
    "While selecting only the desired tickers, we found that **a ticker that was assigned to our group was missing from the provided data**. We decided to remedy for this by writing a simple fix which replaces all of these missing assigned data by random data of a stock, that is provided in the source data set. As this was the case for only one stock, no trend bias should be introduced into the data."
   ]
  },
  {
   "cell_type": "code",
   "execution_count": 5,
   "metadata": {
    "scrolled": true,
    "vscode": {
     "languageId": "r"
    }
   },
   "outputs": [
    {
     "name": "stdout",
     "output_type": "stream",
     "text": [
      "[1] \"MOH is missing from the source data...\"\n",
      "[1] \"Data for MOH replaced successfully with data from ABT\"\n"
     ]
    }
   ],
   "source": [
    "# Load source data into the working directory\n",
    "source_data <- load(data_file)\n",
    "\n",
    "# Subset only for the stocks we will need\n",
    "# Note - use these as BV$AAPL, not BV['AAPL']\n",
    "BV <- book_value_sap500[tickers]\n",
    "MKT <- MktCap_sap500[tickers]\n",
    "OHLCV <- OHLCV_sap500[tickers]\n",
    "\n",
    "# Assert presence of all assigned tickers in the source data - replace data of those that are missing\n",
    "data_replacement_counter <- 1\n",
    "for (ticker in tickers) {\n",
    "    all_stock_names <- names(OHLCV)\n",
    "    if (!ticker %in% all_stock_names) { # Missing file found\n",
    "        print(paste0(ticker, ' is missing from the source data...'))\n",
    "        missing_ticker_idx <- which(tickers == ticker) # Index of the missing file\n",
    "        \n",
    "        # Get replacement data\n",
    "        while (names(book_value_sap500[data_replacement_counter]) %in% tickers) {\n",
    "            data_replacement_counter <- data_replacement_counter + 1 # Search for a stock not from the assigned set\n",
    "        }\n",
    "\n",
    "        # Replace the data\n",
    "        replacement_stock <- names(book_value_sap500)[data_replacement_counter] # Stock which shall serve as a replacement\n",
    "        BV[missing_ticker_idx] <- book_value_sap500[replacement_stock]\n",
    "        MKT[missing_ticker_idx] <- MktCap_sap500[replacement_stock]\n",
    "        OHLCV[missing_ticker_idx] <- OHLCV_sap500[replacement_stock]\n",
    "        print(paste0('Data for ', ticker, ' replaced successfully with data from ', replacement_stock))\n",
    "\n",
    "        data_replacement_counter <- data_replacement_counter + 1\n",
    "    }\n",
    "}\n",
    "\n",
    "# Remove source data from working directory for better memory management\n",
    "rm(list = source_data)"
   ]
  },
  {
   "cell_type": "markdown",
   "metadata": {},
   "source": [
    "### Data preprocessing\n",
    "\n",
    "We define several functions to help us preprocess data."
   ]
  },
  {
   "cell_type": "code",
   "execution_count": 12,
   "metadata": {
    "vscode": {
     "languageId": "r"
    }
   },
   "outputs": [],
   "source": [
    "# Input a list of OHLCV datasets and return a similar object, only subsetted for adjusted prices. Discard the rest of the columns\n",
    "getAdjustedPrices <- function(OHLCV_data) {\n",
    "    if (!class(OHLCV_data) == 'list') {\n",
    "        print('The input data must be a list')\n",
    "        break\n",
    "    }\n",
    "    yankPrices <- function(data) {\n",
    "        adj_col_idx <- which(str_detect(colnames(data), 'Adjusted')) # Get index of column containing adjusted prices\n",
    "        prices <- data[, adj_col_idx]\n",
    "        return(prices)\n",
    "    }\n",
    "    data_out <- lapply(OHLCV_data, yankPrices)\n",
    "    data_out <- do.call('cbind', data_out)\n",
    "    return(data_out)\n",
    "}\n",
    "\n",
    "# Input an xts data frame containing raw adjusted prices and convert these to daily or monthly returns\n",
    "getReturns <- function(adjusted_prices_data, type = 'monthly') {\n",
    "    if (!type %in% c('daily', 'monthly')) {\n",
    "        print('Can only handle daily or monthly returns calculation...')\n",
    "        break\n",
    "    }\n",
    "    getReturn <- function(data) {\n",
    "        if (type == 'monthly') {\n",
    "            return(suppressWarnings(monthlyReturn(data)))\n",
    "        } else {\n",
    "            return(suppressWarnings(dailyReturn(data)))\n",
    "        }\n",
    "    }    \n",
    "    returns <- lapply(adjusted_prices_data, getReturn) # Calculate returns for all stocks\n",
    "    returns <- do.call('cbind', returns)\n",
    "    colnames(returns) <- gsub('Adjusted', 'returns', names(adjusted_prices_data)) # Rename columns\n",
    "    return(returns)\n",
    "}\n",
    "\n",
    "# Input a list of xts objects containing market capitalization info and convert these to monthly sizes\n",
    "getMonthlySizes <- function(mkt_cap_data) {\n",
    "    monthly_sizes <- lapply(mkt_cap_data, log) # Calculate monthly sizes\n",
    "    monthly_sizes <- do.call('cbind', monthly_sizes)\n",
    "    monthly_sizes <- as.xts(apply(monthly_sizes, 2, function(x) ifelse(is.finite(x), x, NA))) # inf to NA\n",
    "    colnames(monthly_sizes) <- paste0(colnames(monthly_sizes), '.Sizes') # Rename columns\n",
    "    return(monthly_sizes)\n",
    "}\n",
    "\n",
    "# Input two data frames (containing daily and monthly returns data) and return a data frame with monthly volatility\n",
    "getMonthlyVolatilities <- function(daily_returns_data, monthly_returns_data) {\n",
    "    names(monthly_returns_data) <- gsub('returns', 'volatility', names(monthly_returns_data))\n",
    "    stocks <- names(monthly_returns_data) # Stock names - AAPL.returns\n",
    "    monthly_dates <- index(monthly_returns_data) # Dates by months\n",
    "\n",
    "    monthly_volatilities <- lapply(monthly_dates, function(end_date) { # Volatilities for all time frames, all stocks\n",
    "        start_date <- end_date %m-% months(1)\n",
    "        date_range <- paste0(start_date, '/', end_date)\n",
    "        daily_returns <- daily_returns_data[date_range]\n",
    "        stocks_volatilities <- lapply(daily_returns, function(stock) {\n",
    "            average_stock_return <- mean(stock)\n",
    "            nominator <- sum((stock - average_stock_return) ^ 2)\n",
    "            denominator <- length(stock) - 1\n",
    "            monthly_volatility <- 100 * sqrt(nominator/denominator) * sqrt(12)\n",
    "            return(monthly_volatility) # Volatility for a given time frame, one stock\n",
    "        })\n",
    "        return(unlist(stocks_volatilities)) # Volatility for a given time frame, all stocks\n",
    "    })\n",
    "    monthly_volatilities <- do.call('rbind', monthly_volatilities) # Data frame of volatilities\n",
    "    monthly_volatilities <- as.xts(monthly_volatilities, order.by = monthly_dates) # To xts\n",
    "    colnames(monthly_volatilities) <- stocks\n",
    "    return(monthly_volatilities)\n",
    "}"
   ]
  },
  {
   "cell_type": "code",
   "execution_count": 14,
   "metadata": {
    "vscode": {
     "languageId": "r"
    }
   },
   "outputs": [],
   "source": [
    "# Compute the various metrics using previously defined functions\n",
    "adjusted_prices <- getAdjustedPrices(OHLCV)\n",
    "daily_returns <- getReturns(adjusted_prices, type = 'daily')\n",
    "monthly_returns <- getReturns(adjusted_prices, type = 'monthly')\n",
    "monthly_sizes <- getMonthlySizes(MKT)"
   ]
  },
  {
   "cell_type": "code",
   "execution_count": 15,
   "metadata": {
    "vscode": {
     "languageId": "r"
    }
   },
   "outputs": [],
   "source": [
    "# Calculate monthly volatilities (vectors go brrrrrrr) \n",
    "monthly_volatilities <- getMonthlyVolatilities(daily_returns, monthly_returns)"
   ]
  },
  {
   "cell_type": "markdown",
   "metadata": {},
   "source": [
    "### Portfolio analysis"
   ]
  },
  {
   "cell_type": "code",
   "execution_count": 135,
   "metadata": {
    "vscode": {
     "languageId": "r"
    }
   },
   "outputs": [
    {
     "data": {
      "text/plain": [
       "           Stock Price Book Value per Share Price/Book Ratio\n",
       "2006-01-31       25.97                29.93             0.87\n",
       "2006-04-30       23.59                30.34             0.78\n",
       "2006-07-31       27.00                30.49             0.89\n",
       "2006-10-31       29.83                30.90             0.97\n",
       "2007-01-31       29.08                31.04             0.94\n",
       "2007-04-30       34.38                31.62             1.09"
      ]
     },
     "metadata": {},
     "output_type": "display_data"
    }
   ],
   "source": [
    "# 3 sort variables (beta, size, volatility) - for each, make 5 portfolios, sorted by that variable (each of those portfolios should have equally weighted and value weighted part)\n",
    "# Monthly rebalancing\n",
    "\n",
    "head(BV$SJM)"
   ]
  },
  {
   "cell_type": "code",
   "execution_count": 1,
   "metadata": {
    "vscode": {
     "languageId": "r"
    }
   },
   "outputs": [],
   "source": [
    "# Beta - portfolio analysis - seminar 10 - equal-weighted average returns\n",
    "# Get monthly returns, use these returns to sort the portfolios by beta"
   ]
  },
  {
   "cell_type": "code",
   "execution_count": null,
   "metadata": {
    "vscode": {
     "languageId": "r"
    }
   },
   "outputs": [],
   "source": [
    "# Beta - portfolio analysis - seminar 10 - value-weighted average returns\n"
   ]
  }
 ],
 "metadata": {
  "kernelspec": {
   "display_name": "R",
   "language": "R",
   "name": "ir"
  },
  "language_info": {
   "codemirror_mode": "r",
   "file_extension": ".r",
   "mimetype": "text/x-r-source",
   "name": "R",
   "pygments_lexer": "r",
   "version": "3.6.1"
  }
 },
 "nbformat": 4,
 "nbformat_minor": 4
}
