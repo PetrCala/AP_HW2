{
 "cells": [
  {
   "cell_type": "markdown",
   "metadata": {},
   "source": [
    "# JEM092 Asset Pricing - Homework 2\n",
    "### Summer Semester 2021/2022\n",
    "\n",
    "### Authors: *Petr Čala, Tereza Čechová, Vilém Krejcar*\n",
    "___\n",
    "\n",
    "First things first, we install and load the necessary packages. Then we arbitrarily set a seed for reproducibility."
   ]
  },
  {
   "cell_type": "code",
   "execution_count": 12,
   "metadata": {
    "vscode": {
     "languageId": "r"
    }
   },
   "outputs": [],
   "source": [
    "# Required packages\n",
    "packages <- c(\"stringr\", \"quantmod\", \"tseries\", \"dplyr\", \"xml2\", \"httr\", \"PortfolioAnalytics\")\n",
    "\n",
    "# Install packages not yet installed\n",
    "installed_packages <- packages %in% rownames(installed.packages())\n",
    "if (any(installed_packages == FALSE)) {\n",
    "  install.packages(packages[!installed_packages])\n",
    "  print(paste(\"Installing package \", packages[!installed_packages],\"...\", sep = \"\"))\n",
    "}\n",
    "\n",
    "# Packages loading\n",
    "invisible(lapply(packages, library, character.only = TRUE))\n",
    "rm(list = ls()) #Clean environment\n",
    "\n",
    "# Miscellaneous\n",
    "options(repr.plot.width = 6, repr.plot.height = 5)\n",
    "set.seed(420)"
   ]
  },
  {
   "cell_type": "markdown",
   "metadata": {},
   "source": [
    "### Groundwork\n",
    "\n",
    "Although we were able to obtain the data in the first homework, **we choose to use the provided dataset**, as this allows for easier and **more reliable reproducibility**. First we load the data, subset the necessary stocks, save these as new variables, and then discard the source data in order to alleviate some memory."
   ]
  },
  {
   "cell_type": "code",
   "execution_count": 94,
   "metadata": {
    "vscode": {
     "languageId": "r"
    }
   },
   "outputs": [],
   "source": [
    "# Static variables\n",
    "ticker_file <- \"data/61505008_data_download.csv\"\n",
    "data_file <- \"data/Asset_Pricing_HW_2_data.RData\"\n",
    "data_files <- list(ticker_file, data_file)"
   ]
  },
  {
   "cell_type": "code",
   "execution_count": 114,
   "metadata": {
    "vscode": {
     "languageId": "r"
    }
   },
   "outputs": [],
   "source": [
    " # Set wd to project root\n",
    "if (str_detect(getwd(), 'scripts')) {\n",
    "    setwd('..')\n",
    "}\n",
    "\n",
    "# Assert presence of all required files\n",
    "for (file in data_files) {\n",
    "    if (!file.exists(file)) {\n",
    "        print(paste0('File ', file, ' does not exist or has been misplaced.'))\n",
    "    }\n",
    "}\n",
    "\n",
    "# Load tickers of required stocks\n",
    "tickers <- as.character(unlist(read.csv(ticker_file)[2]))"
   ]
  },
  {
   "cell_type": "code",
   "execution_count": 116,
   "metadata": {
    "vscode": {
     "languageId": "r"
    }
   },
   "outputs": [],
   "source": [
    "source_data <- load(data_file)"
   ]
  },
  {
   "cell_type": "code",
   "execution_count": 97,
   "metadata": {
    "scrolled": true,
    "vscode": {
     "languageId": "r"
    }
   },
   "outputs": [],
   "source": [
    "# Load source data into the working directory\n",
    "source_data <- load(data_file)\n",
    "\n",
    "# Subset only for the stocks we will need\n",
    "# Note - use these as BV$AAPL, not BV['AAPL']\n",
    "BV <- book_value_sap500[tickers]\n",
    "MKT <- MktCap_sap500[tickers]\n",
    "OHLCV <- OHLCV_sap500[tickers]\n",
    "\n",
    "# Remove source data from working directory for better memory management\n",
    "rm(list = source_data)"
   ]
  },
  {
   "cell_type": "markdown",
   "metadata": {},
   "source": [
    "### Portfolio analysis"
   ]
  },
  {
   "cell_type": "code",
   "execution_count": 107,
   "metadata": {
    "vscode": {
     "languageId": "r"
    }
   },
   "outputs": [
    {
     "data": {
      "text/html": [
       "1"
      ],
      "text/latex": [
       "1"
      ],
      "text/markdown": [
       "1"
      ],
      "text/plain": [
       "[1] 1"
      ]
     },
     "metadata": {},
     "output_type": "display_data"
    }
   ],
   "source": [
    "head(index(BV['SJM'][1]))"
   ]
  }
 ],
 "metadata": {
  "kernelspec": {
   "display_name": "R",
   "language": "R",
   "name": "ir"
  },
  "language_info": {
   "codemirror_mode": "r",
   "file_extension": ".r",
   "mimetype": "text/x-r-source",
   "name": "R",
   "pygments_lexer": "r",
   "version": "3.6.1"
  }
 },
 "nbformat": 4,
 "nbformat_minor": 4
}
