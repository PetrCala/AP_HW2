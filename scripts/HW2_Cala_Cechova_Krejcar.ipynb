{
 "cells": [
  {
   "cell_type": "markdown",
   "metadata": {},
   "source": [
    "# JEM092 Asset Pricing - Homework 2\n",
    "### Summer Semester 2021/2022\n",
    "\n",
    "### Authors: *Petr Čala, Tereza Čechová, Vilém Krejcar*\n",
    "___\n",
    "\n",
    "First things first, we install and load the necessary packages. Then we arbitrarily set a seed for reproducibility."
   ]
  },
  {
   "cell_type": "code",
   "execution_count": 2,
   "metadata": {
    "vscode": {
     "languageId": "r"
    }
   },
   "outputs": [
    {
     "name": "stdout",
     "output_type": "stream",
     "text": [
      "[1] \"All packages loaded successfully...\"\n"
     ]
    }
   ],
   "source": [
    "# Required packages\n",
    "packages <- c(\"stringr\", \"quantmod\", \"tseries\", \"dplyr\", \"xml2\", \"httr\", \"PortfolioAnalytics\",\n",
    "              \"lubridate\", \"sandwich\")\n",
    "\n",
    "# Install packages not yet installed\n",
    "installed_packages <- packages %in% rownames(installed.packages())\n",
    "if (any(installed_packages == FALSE)) {\n",
    "  install.packages(packages[!installed_packages])\n",
    "  print(paste(\"Installing package \", packages[!installed_packages],\"...\", sep = \"\"))\n",
    "}\n",
    "\n",
    "# Packages loading\n",
    "invisible(lapply(packages, library, character.only = TRUE))\n",
    "rm(list = ls()) #Clean environment\n",
    "print('All packages loaded successfully...')\n",
    "\n",
    "# Miscellaneous\n",
    "options(repr.plot.width = 6, repr.plot.height = 5)\n",
    "set.seed(420)"
   ]
  },
  {
   "cell_type": "markdown",
   "metadata": {},
   "source": [
    "### Groundwork\n",
    "\n",
    "Although we were able to obtain the data in the first homework, **we choose to use the provided dataset**, as this allows for easier and **more reliable reproducibility**. First we load the data, subset the necessary stocks, save these as new variables, and then discard the source data in order to alleviate some memory."
   ]
  },
  {
   "cell_type": "code",
   "execution_count": 3,
   "metadata": {
    "vscode": {
     "languageId": "r"
    }
   },
   "outputs": [],
   "source": [
    "# Static variables\n",
    "group_number <- 61505008\n",
    "ticker_file <- \"data/61505008_data_download.csv\"\n",
    "data_file <- \"data/Asset_Pricing_HW_2_data.RData\"\n",
    "group_factor <- \"data/third_factor_rand.csv\"\n",
    "data_files <- list(ticker_file, data_file, group_factor)"
   ]
  },
  {
   "cell_type": "code",
   "execution_count": 4,
   "metadata": {
    "vscode": {
     "languageId": "r"
    }
   },
   "outputs": [
    {
     "name": "stdout",
     "output_type": "stream",
     "text": [
      "[1] \"The factor assigned to this group is VOL.\"\n"
     ]
    }
   ],
   "source": [
    " # Set wd to project root\n",
    "if (str_detect(getwd(), 'scripts')) {\n",
    "    setwd('..')\n",
    "}\n",
    "\n",
    "# Assert presence of all required files\n",
    "for (file in data_files) {\n",
    "    if (!file.exists(file)) {\n",
    "        print(paste0('File ', file, ' does not exist or has been misplaced.'))\n",
    "    }\n",
    "}\n",
    "\n",
    "# Load tickers of required stocks\n",
    "tickers <- as.character(unlist(read.csv(ticker_file)[2]))\n",
    "\n",
    "# Check the assigned group factor\n",
    "getFactor <- function(factor){\n",
    "    data <- read.csv(factor)\n",
    "    matching_row <- which(data[2] == group_number)\n",
    "    assigned_factor <- as.character(data[matching_row, 3])\n",
    "    print(paste0('The factor assigned to this group is ', assigned_factor, '.'))\n",
    "}\n",
    "getFactor(group_factor)"
   ]
  },
  {
   "cell_type": "markdown",
   "metadata": {},
   "source": [
    "While selecting only the desired tickers, we found that **a ticker that was assigned to our group was missing from the provided data**. We decided to remedy for this by writing a simple fix which replaces all of these missing assigned data by random data of a stock, that is provided in the source data set. As this was the case for only one stock, no trend bias should be introduced into the data."
   ]
  },
  {
   "cell_type": "code",
   "execution_count": 5,
   "metadata": {
    "scrolled": true,
    "vscode": {
     "languageId": "r"
    }
   },
   "outputs": [
    {
     "name": "stdout",
     "output_type": "stream",
     "text": [
      "[1] \"MOH is missing from the source data...\"\n",
      "[1] \"Data for MOH replaced successfully with data from ABT\"\n"
     ]
    }
   ],
   "source": [
    "# Load source data into the working directory\n",
    "source_data <- load(data_file)\n",
    "\n",
    "# Subset only for the stocks we will need\n",
    "# Note - use these as BV$AAPL, not BV['AAPL']\n",
    "BV <- book_value_sap500[tickers]\n",
    "MKT <- MktCap_sap500[tickers]\n",
    "OHLCV <- OHLCV_sap500[tickers]\n",
    "\n",
    "# Assert presence of all assigned tickers in the source data - replace data of those that are missing\n",
    "data_replacement_counter <- 1\n",
    "for (ticker in tickers) {\n",
    "    all_stock_names <- names(OHLCV)\n",
    "    if (!ticker %in% all_stock_names) { # Missing file found\n",
    "        print(paste0(ticker, ' is missing from the source data...'))\n",
    "        missing_ticker_idx <- which(tickers == ticker) # Index of the missing file\n",
    "        \n",
    "        # Get replacement data\n",
    "        while (names(book_value_sap500[data_replacement_counter]) %in% tickers) {\n",
    "            data_replacement_counter <- data_replacement_counter + 1 # Search for a stock not from the assigned set\n",
    "        }\n",
    "\n",
    "        # Replace the data\n",
    "        replacement_stock <- names(book_value_sap500)[data_replacement_counter] # Stock which shall serve as a replacement\n",
    "        all_stock_names[missing_ticker_idx] <- replacement_stock # Fix names\n",
    "\n",
    "        BV[missing_ticker_idx] <- book_value_sap500[replacement_stock]\n",
    "        MKT[missing_ticker_idx] <- MktCap_sap500[replacement_stock]\n",
    "        OHLCV[missing_ticker_idx] <- OHLCV_sap500[replacement_stock]\n",
    "\n",
    "        names(BV) <- all_stock_names\n",
    "        names(MKT) <- all_stock_names\n",
    "        names(OHLCV) <- all_stock_names\n",
    "        print(paste0('Data for ', ticker, ' replaced successfully with data from ', replacement_stock))\n",
    "\n",
    "        data_replacement_counter <- data_replacement_counter + 1\n",
    "    }\n",
    "}\n",
    "\n",
    "# Remove source data from working directory for better memory management\n",
    "rm(list = source_data)"
   ]
  },
  {
   "cell_type": "markdown",
   "metadata": {},
   "source": [
    "### Data preprocessing\n",
    "\n",
    "We define several functions to help us preprocess data."
   ]
  },
  {
   "cell_type": "code",
   "execution_count": null,
   "metadata": {
    "vscode": {
     "languageId": "r"
    }
   },
   "outputs": [],
   "source": [
    "######################################\n",
    "### Data loading and preprocessing ###\n",
    "######################################\n",
    "\n",
    "# Download FF3 factors and return them as a single xts object\n",
    "#   type(str) - can be set to 'daily' or 'monthly'\n",
    "getFF3 <- function(type = 'daily') {\n",
    "    if (!type %in% c('daily', 'monthly')){\n",
    "        stop('The FF3 data type must be set to either \\'daily\\' or \\'monthly\\'.')\n",
    "    }\n",
    "    str_ <- ifelse(type == 'daily', '_daily', '') # Download link part - static\n",
    "\n",
    "    # Load daily FF3 factors\n",
    "    zip_path = paste0(\"data/F-F_Research_Data_Factors\",str_,\".zip\")\n",
    "    txt_path = paste0(\"data/F-F_Research_Data_Factors\",str_,\".txt\")\n",
    "    download_path = paste0(\"http://mba.tuck.dartmouth.edu/pages/faculty/ken.french/ftp/F-F_Research_Data_Factors\",str_,\"_TXT.zip\")\n",
    "    file_rows = ifelse(type == 'daily', 24957, 1137)\n",
    "\n",
    "    if (!file.exists(zip_path)) { # Download the file if not downloaded yet\n",
    "    download.file(download_path, destfile = zip_path)\n",
    "    }\n",
    "    unzip(zip_path, exdir = \"data\")\n",
    "\n",
    "    ff3_factors <- read.delim(\n",
    "        txt_path,\n",
    "        col.names = c('t', 'mkt_rf', 'smb', 'hml', 'rf'),\n",
    "        sep = '',\n",
    "        nrows = file_rows,\n",
    "        header = FALSE,\n",
    "        skip = 5,\n",
    "        stringsAsFactors = FALSE\n",
    "    )\n",
    "    date_chars <- as.character(ff3_factors[['t']])\n",
    "    if (type == 'monthly'){\n",
    "        date_chars <- paste0(date_chars, '01')\n",
    "    }\n",
    "    ff3_factors[['t']] <- as.Date(date_chars, '%Y%m%d')\n",
    "    ff3_factors <- as.xts(ff3_factors[, 2:5], order.by = ff3_factors[['t']])\n",
    "    ff3_factors <- ff3_factors / 100\n",
    "    if (type == 'monthly'){\n",
    "        index(ff3_factors) <- as.Date(as.yearmon(index(ff3_factors)), frac = 1)\n",
    "    }\n",
    "    return(ff3_factors)\n",
    "}\n",
    "\n",
    "# Input an xts object with daily data of market capitalization and return this as an xts data frame\n",
    "#   with monthly market capitalization.\n",
    "getMonthlyMarketCap <- function(daily_market_cap_data) {\n",
    "    stock_names <- names(daily_market_cap_data)\n",
    "    daily_market_caps <- do.call('cbind', daily_market_cap_data)\n",
    "    monthly_market_caps <- apply.monthly(daily_market_caps, tail, 1)\n",
    "    colnames(monthly_market_caps) <- stock_names\n",
    "    index(monthly_market_caps) <- as.Date(as.yearmon(index(monthly_market_caps)), frac = 1)\n",
    "    return(monthly_market_caps)\n",
    "}\n",
    "\n",
    "# Input a list of OHLCV datasets and return a similar object, only subsetted for adjusted prices. Discard the rest of the columns\n",
    "getAdjustedPrices <- function(OHLCV_data) {\n",
    "    if (!class(OHLCV_data) == 'list') {\n",
    "        print('The input data must be a list')\n",
    "        break\n",
    "    }\n",
    "    yankPrices <- function(data) {\n",
    "        adj_col_idx <- which(str_detect(colnames(data), 'Adjusted')) # Get index of column containing adjusted prices\n",
    "        prices <- data[, adj_col_idx]\n",
    "        return(prices)\n",
    "    }\n",
    "    data_out <- lapply(OHLCV_data, yankPrices)\n",
    "    data_out <- do.call('cbind', data_out)\n",
    "    return(data_out)\n",
    "}\n",
    "\n",
    "# Input an xts data frame containing raw adjusted prices and convert these to daily or monthly returns\n",
    "getReturns <- function(adjusted_prices_data, type = 'monthly') {\n",
    "    if (!type %in% c('daily', 'monthly')) {\n",
    "        stop('Can only handle daily or monthly returns calculation...')\n",
    "    }\n",
    "    getReturn <- function(data) {\n",
    "        if (type == 'monthly') {\n",
    "            return(suppressWarnings(monthlyReturn(data)))\n",
    "        } else {\n",
    "            return(suppressWarnings(dailyReturn(data)))\n",
    "        }\n",
    "    }    \n",
    "    returns <- lapply(adjusted_prices_data, getReturn) # Calculate returns for all stocks\n",
    "    returns <- do.call('cbind', returns)\n",
    "    colnames(returns) <- gsub('Adjusted', 'returns', names(adjusted_prices_data)) # Rename columns\n",
    "    return(returns)\n",
    "}\n",
    "\n",
    "#########################################\n",
    "### Performance indicator calculation ###\n",
    "#########################################\n",
    "\n",
    "# Input daily and monthly returns data, along with daily ff3 factors, all as an xts object.\n",
    "#   Return an xts object containing monthly betas for the input, calculated using last 12 months of data.\n",
    "getMonthlyBetas <- function(daily_returns_data, monthly_returns_data, daily_ff3_data) {\n",
    "    names(monthly_returns_data) <- gsub('returns', 'betas', names(monthly_returns_data))\n",
    "    stocks <- names(monthly_returns_data) # Stock names - AAPL.betas\n",
    "    monthly_dates <- index(monthly_returns_data) # Dates by months\n",
    "\n",
    "    monthly_betas <- lapply(monthly_dates, function(end_date) { #Betas for all\n",
    "        start_date <- end_date %m-% months(12) # Last 12 months of data\n",
    "        date_range <- paste0(start_date, '/', end_date)\n",
    "        daily_returns <- daily_returns_data[date_range]\n",
    "        market_returns <- daily_ff3_data$mkt_rf[date_range]\n",
    "        stocks_betas <- lapply(daily_returns, function(stock_returns) {\n",
    "            model_data <- na.omit(cbind(stock_returns, market_returns))\n",
    "            if (nrow(model_data) < 12 * 15) {\n",
    "                return(NA)\n",
    "            }\n",
    "            model_betas <- lm(model_data[,1] ~ model_data[,2])\n",
    "            return(model_betas$coefficients[[2]]) # Beta for given stock\n",
    "        })\n",
    "        return(unlist(stocks_betas)) # Betas for all stocks, given time frame\n",
    "    })\n",
    "    monthly_betas <- do.call('rbind', monthly_betas)\n",
    "    monthly_betas <- as.xts(monthly_betas, order.by = monthly_dates)\n",
    "    colnames(monthly_betas) <- stocks\n",
    "    return(monthly_betas)\n",
    "}\n",
    "\n",
    "# Input a list of xts objects containing market capitalization info and convert these to monthly sizes\n",
    "getMonthlySizes <- function(mkt_cap_data) {\n",
    "    monthly_sizes <- lapply(mkt_cap_data, log) # Calculate monthly sizes\n",
    "    monthly_sizes <- do.call('cbind', monthly_sizes)\n",
    "    monthly_sizes <- as.xts(apply(monthly_sizes, 2, function(x) ifelse(is.finite(x), x, NA))) # inf to NA\n",
    "    colnames(monthly_sizes) <- paste0(colnames(monthly_sizes), '.sizes') # Rename columns\n",
    "    return(monthly_sizes)\n",
    "}\n",
    "\n",
    "# Input two data frames (containing daily and monthly returns data) and return a data frame with monthly volatility\n",
    "getMonthlyVolatilities <- function(daily_returns_data, monthly_returns_data) {\n",
    "    names(monthly_returns_data) <- gsub('returns', 'volatility', names(monthly_returns_data))\n",
    "    stocks <- names(monthly_returns_data) # Stock names - AAPL.returns\n",
    "    monthly_dates <- index(monthly_returns_data) # Dates by months\n",
    "\n",
    "    monthly_volatilities <- lapply(monthly_dates, function(end_date) { # Volatilities for all time frames, all stocks\n",
    "        start_date <- end_date %m-% months(12) # Use last 12 months of data as suggested in the setup\n",
    "        date_range <- paste0(start_date, '/', end_date)\n",
    "        daily_returns <- daily_returns_data[date_range]\n",
    "        stocks_volatilities <- lapply(daily_returns, function(stock) {\n",
    "            average_stock_return <- mean(stock)\n",
    "            nominator <- sum((stock - average_stock_return) ^ 2)\n",
    "            denominator <- length(stock) - 1\n",
    "            monthly_volatility <- 100 * sqrt(nominator/denominator) * sqrt(12)\n",
    "            return(monthly_volatility) # Volatility for a given time frame, one stock\n",
    "        })\n",
    "        return(unlist(stocks_volatilities)) # Volatility for a given time frame, all stocks\n",
    "    })\n",
    "    monthly_volatilities <- do.call('rbind', monthly_volatilities) # Data frame of volatilities\n",
    "    monthly_volatilities <- as.xts(monthly_volatilities, order.by = monthly_dates) # To xts\n",
    "    colnames(monthly_volatilities) <- stocks\n",
    "    return(monthly_volatilities)\n",
    "}"
   ]
  },
  {
   "cell_type": "code",
   "execution_count": 68,
   "metadata": {
    "vscode": {
     "languageId": "r"
    }
   },
   "outputs": [],
   "source": [
    "# Compute the various metrics using previously defined functions\n",
    "adjusted_prices <- getAdjustedPrices(OHLCV)\n",
    "daily_returns <- getReturns(adjusted_prices, type = 'daily')\n",
    "monthly_returns <- getReturns(adjusted_prices, type = 'monthly')\n",
    "monthly_market_caps <- getMonthlyMarketCap(MKT)\n",
    "daily_ff3 <- getFF3(type = 'daily')\n",
    "monthly_ff3 <- getFF3(type = 'monthly')"
   ]
  },
  {
   "cell_type": "code",
   "execution_count": 8,
   "metadata": {
    "vscode": {
     "languageId": "r"
    }
   },
   "outputs": [],
   "source": [
    "# Compute the three desired factors (monthly)\n",
    "monthly_sizes <- getMonthlySizes(monthly_market_caps) # 5s\n",
    "monthly_betas <- getMonthlyBetas(daily_returns, monthly_returns, daily_ff3) # 2 mins\n",
    "monthly_volatilities <- getMonthlyVolatilities(daily_returns, monthly_returns) # Monthly volatilities (vectors go brrrrrrr) - 9s"
   ]
  },
  {
   "cell_type": "markdown",
   "metadata": {},
   "source": [
    "### Univariate portfolio analysis"
   ]
  },
  {
   "cell_type": "code",
   "execution_count": 76,
   "metadata": {
    "vscode": {
     "languageId": "r"
    }
   },
   "outputs": [],
   "source": [
    "# Input monthly data to sort by, factor name, monthly returns data, and monthly market capital data.\n",
    "#   Furthermore specify the number of quantiles and the method by which to compute the returns.\n",
    "#   For this, two options are available - 'equal' (as in equally weighted) and 'value' (as in\n",
    "#       value weighted).\n",
    "#   Return overall average returns within portfolios and the corresponding standard errors\n",
    "#       as a simple data frame.\n",
    "#   If 'get_quintile_values' == TRUE, return quintile values for this factor instead.\n",
    "getUnivariateSort <- function(sort_variable_data, factor_name, monthly_returns_data,\n",
    "                                monthly_market_caps, monthly_ff3_data, n = 5, method = 'equal',\n",
    "                                get_quintile_values = FALSE){\n",
    "    # Static\n",
    "    diff_portfolio <- paste0(n, ' - 1')\n",
    "    portfolio_colnames <- c(1:n, diff_portfolio)\n",
    "    portfolio_returns_index <- index(sort_variable_data)[-1] # All but first element\n",
    "\n",
    "    # Iterate over the months in the portfolio returns index and return return for each of them\n",
    "    portfolio_returns <- lapply(portfolio_returns_index, function(current_month) {\n",
    "        this_month_sort_variable <- sort_variable_data[current_month]\n",
    "        not_na <- !is.na(this_month_sort_variable)\n",
    "        next_month <- as.Date(as.yearmon(current_month %m+% months(1)), frac = 1)\n",
    "        \n",
    "        # Check for data validity, return a vector of NAs in case of invalid data\n",
    "        skip_conditions <- c(\n",
    "            sum(not_na) < 4*n, # Not enough observations for this month\n",
    "            !next_month %in% index(monthly_returns_data) # No returns data in the next month\n",
    "            \n",
    "        )\n",
    "        if (method == 'value') { # Skip conditions that apply only for the value weighted method\n",
    "            # No market capitalization data for the next month - nothing to weigh by\n",
    "            skip_conditions <- append(skip_conditions, !next_month %in% index(monthly_market_caps)) \n",
    "        }\n",
    "        if (any(skip_conditions)) {\n",
    "            vec_length <- ifelse (get_quintile_values, n, n+1) # No diff in getting quintile values\n",
    "            return(c(rep(NA, vec_length))) # Return vector of NAs\n",
    "        }\n",
    "\n",
    "        next_month_returns <- monthly_returns_data[next_month] # A vector for all stocks\n",
    "        next_month_market_caps <- monthly_market_caps[next_month]\n",
    "        next_month_market_caps[is.na(next_month_market_caps)] <- 0 # No weights for missing obs\n",
    "\n",
    "        breakpoints <- quantile(this_month_sort_variable, prob = 0:n/n, na.rm = TRUE) # Quintiles\n",
    "\n",
    "        # Compute portfolio returns\n",
    "        this_period_returns <- c()\n",
    "        this_period_quintile_averages <- c() # For storing quintile values\n",
    "        for (i in breakpoints) { # Find all quintile breakpoints\n",
    "            next_breakpoint_idx <- match(i, breakpoints) + 1\n",
    "            next_breakpoint <- breakpoints[next_breakpoint_idx]\n",
    "            if (!is.na(next_breakpoint)) { # While not out of quntiles\n",
    "                filter <- (i < this_month_sort_variable) &\n",
    "                          (this_month_sort_variable < next_breakpoint) &\n",
    "                          (not_na)\n",
    "                if (method == 'equal') {# Equally weighted portfolio\n",
    "                    quintile_return <- mean(next_month_returns[,filter])\n",
    "                } else if (method == 'value') {\n",
    "                    quintile_return <- weighted.mean(t(next_month_returns[,filter]),\n",
    "                                                    t(next_month_market_caps[,filter])) # Actual return\n",
    "                } else {\n",
    "                    stop('Incorrectly defined method. Select one of - equal, value.')\n",
    "                }\n",
    "                if (get_quintile_values) { # Store average factor value in this quintile\n",
    "                    this_period_quintile_averages <- append(this_period_quintile_averages,\n",
    "                        mean(this_month_sort_variable[,filter]))\n",
    "                }\n",
    "                this_period_returns <- append(this_period_returns, quintile_return) # Store value \n",
    "            } else {\n",
    "                break # Last iteration\n",
    "            } \n",
    "        }\n",
    "        if (get_quintile_values) {\n",
    "            return(this_period_quintile_averages) # Return quintile averages instead\n",
    "        }\n",
    "        diff_returns <- this_period_returns[[n]] - this_period_returns[[1]]\n",
    "        this_period_returns <- append(this_period_returns, diff_returns) # Append returns of diff\n",
    "        return(this_period_returns) # Returns for all quintiles for this period\n",
    "    })\n",
    "    portfolio_returns <- as.xts(do.call('rbind', portfolio_returns), # To xts\n",
    "        order.by = as.Date(as.yearmon(portfolio_returns_index), frac = 1))\n",
    "    \n",
    "    if (get_quintile_values){ # Calculate quintile values instead\n",
    "        quintile_values <- lapply(portfolio_returns, function(quintile) {\n",
    "            return(mean(quintile, na.rm = TRUE))\n",
    "        })\n",
    "        quintile_values <- as.data.frame(do.call('cbind', quintile_values))\n",
    "        data_out <- cbind(factor_name, quintile_values)\n",
    "        colnames(data_out) <- c('Factor', 1:n)\n",
    "        return(data_out) # Actually quintile averages\n",
    "    }\n",
    "\n",
    "    # Use the monthly portfolio returns to calculate avg returns and their standard errors\n",
    "    average_returns <- lapply(portfolio_returns, function(col) {\n",
    "        model_data <- cbind(na.omit(col), 1)\n",
    "        colnames(model_data) <- c('returns', 'one')\n",
    "        model <- lm(formula = returns ~ one, data = model_data) # Explicit to avoid package error\n",
    "        avg_ret <- model$coefficients[[1]]\n",
    "        std_err <- model$coefficients[[1]] / sqrt(NeweyWest(model, lag = 6))[[1]]\n",
    "        return(c(avg_ret, std_err))\n",
    "    })\n",
    "\n",
    "    # Calculate FF alpha and the corresponding NeweyWest t-statistic\n",
    "    diff_returns <- portfolio_returns[,n + 1] # Returns of the diff portfolio\n",
    "    diff_returns <- diff_returns[!is.na(diff_returns)] # Remove NAs\n",
    "    diff_idx <- index(diff_returns)\n",
    "    ff_data <- monthly_ff3_data[diff_idx, c('mkt_rf', 'smb', 'hml')]\n",
    "    ff_lm_data <- cbind(diff_returns, ff_data)\n",
    "    ff_model <- lm(diff_returns ~ mkt_rf + smb + hml, data = ff_lm_data) # FF3 regression\n",
    "    ff_alpha <- ff_model$coefficients[[1]]\n",
    "    ff_alpha_t <- suppressWarnings(ff_model$coefficients[[1]] / sqrt(NeweyWest(ff_model,\n",
    "                    lag = 6))[[1]])\n",
    "    ff <- c(ff_alpha, ff_alpha_t)\n",
    "\n",
    "    # Output data frame construction\n",
    "    metrics <- c('Average Returns', 'NeweyWest t-stat')\n",
    "    average_returns <- as.data.frame(do.call('cbind', average_returns)) # To data frame\n",
    "    data_out <- cbind(factor_name, metrics, average_returns, ff)\n",
    "    colnames(data_out) <- c('Factor', 'Metric', portfolio_colnames, 'FF alpha')\n",
    "    return(data_out)\n",
    "}\n",
    "\n",
    "# Specify the input data and return a prettified output as a data frame, in a fashion similar to the\n",
    "#   table from lecture 10\n",
    "#   input_data(list) - A list of the input data to be sorted by\n",
    "#   factor_names(list) - A list of names of the factors to be used\n",
    "#   Note: The rest of the arguments are similar as in the previous functions\n",
    "getVariateSortOutput <- function(input_data, factor_names, monthly_returns_data,\n",
    "        monthly_market_caps_data, monthly_ff3_data, n = 5, method = 'equal',\n",
    "        get_quintile_values = FALSE) {\n",
    "    input_length <- length(input_data)\n",
    "    if (!input_length == length(factor_names)) {\n",
    "        stop('The input data length must be the same as their names.')\n",
    "    }\n",
    "    data_out <- list()\n",
    "    for (i in 1:input_length) { # Generate the portfolio sort for all factors\n",
    "        input_sort <- input_data[[i]]\n",
    "        input_factor <- factor_names[[i]]\n",
    "        sort_results <- getUnivariateSort(input_sort, input_factor, monthly_returns_data,\n",
    "            monthly_market_caps_data, monthly_ff3_data, n = n, method = method,\n",
    "            get_quintile_values = get_quintile_values)\n",
    "        data_out <- rbind(data_out, sort_results)\n",
    "    }\n",
    "    return(data_out)\n",
    "}"
   ]
  },
  {
   "cell_type": "code",
   "execution_count": 79,
   "metadata": {
    "vscode": {
     "languageId": "r"
    }
   },
   "outputs": [],
   "source": [
    "# Univariate sort calculation\n",
    "\n",
    "# Static variables\n",
    "sort_output_input_data <- list(monthly_betas, monthly_sizes, monthly_volatilities)\n",
    "sort_output_factor_names <- list('Beta', 'Size', 'Volatility')\n",
    "\n",
    "# Quintile values\n",
    "quintile_values <- getVariateSortOutput(sort_output_input_data, sort_output_factor_names,\n",
    "    monthly_returns, monthly_market_caps, monthly_ff3, get_quintile_values = TRUE)\n",
    "\n",
    "# Equally weighted univariate sort\n",
    "equal_weighted_uni_sort <- getVariateSortOutput(sort_output_input_data, sort_output_factor_names,\n",
    "    monthly_returns, monthly_market_caps, monthly_ff3, method = 'equal')\n",
    "\n",
    "# Value weighted univariate sort\n",
    "value_weighted_uni_sort <- getVariateSortOutput(sort_output_input_data, sort_output_factor_names,\n",
    "    monthly_returns, monthly_market_caps, monthly_ff3, method = 'value')"
   ]
  },
  {
   "cell_type": "code",
   "execution_count": 80,
   "metadata": {
    "vscode": {
     "languageId": "r"
    }
   },
   "outputs": [
    {
     "name": "stdout",
     "output_type": "stream",
     "text": [
      "[1] \"Quintile average values:\"\n"
     ]
    },
    {
     "data": {
      "text/html": [
       "<table>\n",
       "<thead><tr><th scope=col>Factor</th><th scope=col>1</th><th scope=col>2</th><th scope=col>3</th><th scope=col>4</th><th scope=col>5</th></tr></thead>\n",
       "<tbody>\n",
       "\t<tr><td>Beta      </td><td>0.4905917 </td><td>0.7596982 </td><td>0.9443506 </td><td>1.149926  </td><td> 1.600434 </td></tr>\n",
       "\t<tr><td>Size      </td><td>1.4118709 </td><td>2.1240081 </td><td>2.6941050 </td><td>3.345308  </td><td> 4.575747 </td></tr>\n",
       "\t<tr><td>Volatility</td><td>4.3399710 </td><td>5.5260423 </td><td>6.4991150 </td><td>7.838226  </td><td>11.284661 </td></tr>\n",
       "</tbody>\n",
       "</table>\n"
      ],
      "text/latex": [
       "\\begin{tabular}{r|llllll}\n",
       " Factor & 1 & 2 & 3 & 4 & 5\\\\\n",
       "\\hline\n",
       "\t Beta       & 0.4905917  & 0.7596982  & 0.9443506  & 1.149926   &  1.600434 \\\\\n",
       "\t Size       & 1.4118709  & 2.1240081  & 2.6941050  & 3.345308   &  4.575747 \\\\\n",
       "\t Volatility & 4.3399710  & 5.5260423  & 6.4991150  & 7.838226   & 11.284661 \\\\\n",
       "\\end{tabular}\n"
      ],
      "text/markdown": [
       "\n",
       "| Factor | 1 | 2 | 3 | 4 | 5 |\n",
       "|---|---|---|---|---|---|\n",
       "| Beta       | 0.4905917  | 0.7596982  | 0.9443506  | 1.149926   |  1.600434  |\n",
       "| Size       | 1.4118709  | 2.1240081  | 2.6941050  | 3.345308   |  4.575747  |\n",
       "| Volatility | 4.3399710  | 5.5260423  | 6.4991150  | 7.838226   | 11.284661  |\n",
       "\n"
      ],
      "text/plain": [
       "  Factor     1         2         3         4        5        \n",
       "1 Beta       0.4905917 0.7596982 0.9443506 1.149926  1.600434\n",
       "2 Size       1.4118709 2.1240081 2.6941050 3.345308  4.575747\n",
       "3 Volatility 4.3399710 5.5260423 6.4991150 7.838226 11.284661"
      ]
     },
     "metadata": {},
     "output_type": "display_data"
    },
    {
     "name": "stdout",
     "output_type": "stream",
     "text": [
      "[1] \"Equally weighted univariate sort:\"\n"
     ]
    },
    {
     "data": {
      "text/html": [
       "<table>\n",
       "<thead><tr><th scope=col>Factor</th><th scope=col>Metric</th><th scope=col>1</th><th scope=col>2</th><th scope=col>3</th><th scope=col>4</th><th scope=col>5</th><th scope=col>5 - 1</th><th scope=col>FF alpha</th></tr></thead>\n",
       "<tbody>\n",
       "\t<tr><td>Beta            </td><td>Average Returns </td><td>0.01019706      </td><td>0.01296348      </td><td>0.01387961      </td><td>0.01743733      </td><td>0.01791254      </td><td> 0.007715479    </td><td> 0.00804043     </td></tr>\n",
       "\t<tr><td>Beta            </td><td>NeweyWest t-stat</td><td>4.42983265      </td><td>3.94260980      </td><td>3.61452439      </td><td>3.66966071      </td><td>2.98504686      </td><td> 1.622798147    </td><td> 1.72160716     </td></tr>\n",
       "\t<tr><td>Size            </td><td>Average Returns </td><td>0.02584814      </td><td>0.01440903      </td><td>0.01285798      </td><td>0.01088162      </td><td>0.00989257      </td><td>-0.015955574    </td><td>-0.01617407     </td></tr>\n",
       "\t<tr><td>Size            </td><td>NeweyWest t-stat</td><td>4.80979881      </td><td>3.28719327      </td><td>2.74355440      </td><td>3.17806714      </td><td>2.78383631      </td><td>-5.137289356    </td><td>-5.32696900     </td></tr>\n",
       "\t<tr><td>Volatility      </td><td>Average Returns </td><td>0.01039198      </td><td>0.01260482      </td><td>0.01367753      </td><td>0.01630864      </td><td>0.02046135      </td><td> 0.010069366    </td><td> 0.01124279     </td></tr>\n",
       "\t<tr><td>Volatility      </td><td>NeweyWest t-stat</td><td>4.77743614      </td><td>4.22110934      </td><td>3.77197038      </td><td>3.80774676      </td><td>3.50895309      </td><td> 2.247916514    </td><td> 2.47839152     </td></tr>\n",
       "</tbody>\n",
       "</table>\n"
      ],
      "text/latex": [
       "\\begin{tabular}{r|lllllllll}\n",
       " Factor & Metric & 1 & 2 & 3 & 4 & 5 & 5 - 1 & FF alpha\\\\\n",
       "\\hline\n",
       "\t Beta             & Average Returns  & 0.01019706       & 0.01296348       & 0.01387961       & 0.01743733       & 0.01791254       &  0.007715479     &  0.00804043     \\\\\n",
       "\t Beta             & NeweyWest t-stat & 4.42983265       & 3.94260980       & 3.61452439       & 3.66966071       & 2.98504686       &  1.622798147     &  1.72160716     \\\\\n",
       "\t Size             & Average Returns  & 0.02584814       & 0.01440903       & 0.01285798       & 0.01088162       & 0.00989257       & -0.015955574     & -0.01617407     \\\\\n",
       "\t Size             & NeweyWest t-stat & 4.80979881       & 3.28719327       & 2.74355440       & 3.17806714       & 2.78383631       & -5.137289356     & -5.32696900     \\\\\n",
       "\t Volatility       & Average Returns  & 0.01039198       & 0.01260482       & 0.01367753       & 0.01630864       & 0.02046135       &  0.010069366     &  0.01124279     \\\\\n",
       "\t Volatility       & NeweyWest t-stat & 4.77743614       & 4.22110934       & 3.77197038       & 3.80774676       & 3.50895309       &  2.247916514     &  2.47839152     \\\\\n",
       "\\end{tabular}\n"
      ],
      "text/markdown": [
       "\n",
       "| Factor | Metric | 1 | 2 | 3 | 4 | 5 | 5 - 1 | FF alpha |\n",
       "|---|---|---|---|---|---|---|---|---|\n",
       "| Beta             | Average Returns  | 0.01019706       | 0.01296348       | 0.01387961       | 0.01743733       | 0.01791254       |  0.007715479     |  0.00804043      |\n",
       "| Beta             | NeweyWest t-stat | 4.42983265       | 3.94260980       | 3.61452439       | 3.66966071       | 2.98504686       |  1.622798147     |  1.72160716      |\n",
       "| Size             | Average Returns  | 0.02584814       | 0.01440903       | 0.01285798       | 0.01088162       | 0.00989257       | -0.015955574     | -0.01617407      |\n",
       "| Size             | NeweyWest t-stat | 4.80979881       | 3.28719327       | 2.74355440       | 3.17806714       | 2.78383631       | -5.137289356     | -5.32696900      |\n",
       "| Volatility       | Average Returns  | 0.01039198       | 0.01260482       | 0.01367753       | 0.01630864       | 0.02046135       |  0.010069366     |  0.01124279      |\n",
       "| Volatility       | NeweyWest t-stat | 4.77743614       | 4.22110934       | 3.77197038       | 3.80774676       | 3.50895309       |  2.247916514     |  2.47839152      |\n",
       "\n"
      ],
      "text/plain": [
       "  Factor     Metric           1          2          3          4         \n",
       "1 Beta       Average Returns  0.01019706 0.01296348 0.01387961 0.01743733\n",
       "2 Beta       NeweyWest t-stat 4.42983265 3.94260980 3.61452439 3.66966071\n",
       "3 Size       Average Returns  0.02584814 0.01440903 0.01285798 0.01088162\n",
       "4 Size       NeweyWest t-stat 4.80979881 3.28719327 2.74355440 3.17806714\n",
       "5 Volatility Average Returns  0.01039198 0.01260482 0.01367753 0.01630864\n",
       "6 Volatility NeweyWest t-stat 4.77743614 4.22110934 3.77197038 3.80774676\n",
       "  5          5 - 1        FF alpha   \n",
       "1 0.01791254  0.007715479  0.00804043\n",
       "2 2.98504686  1.622798147  1.72160716\n",
       "3 0.00989257 -0.015955574 -0.01617407\n",
       "4 2.78383631 -5.137289356 -5.32696900\n",
       "5 0.02046135  0.010069366  0.01124279\n",
       "6 3.50895309  2.247916514  2.47839152"
      ]
     },
     "metadata": {},
     "output_type": "display_data"
    },
    {
     "name": "stdout",
     "output_type": "stream",
     "text": [
      "[1] \"Value weighted univariate sort:\"\n"
     ]
    },
    {
     "data": {
      "text/html": [
       "<table>\n",
       "<thead><tr><th scope=col>Factor</th><th scope=col>Metric</th><th scope=col>1</th><th scope=col>2</th><th scope=col>3</th><th scope=col>4</th><th scope=col>5</th><th scope=col>5 - 1</th><th scope=col>FF alpha</th></tr></thead>\n",
       "<tbody>\n",
       "\t<tr><td>Beta            </td><td>Average Returns </td><td>0.011026175     </td><td>0.01185709      </td><td>0.01145078      </td><td>0.01686160      </td><td>0.02205218      </td><td> 0.01102600     </td><td> 0.01112093     </td></tr>\n",
       "\t<tr><td>Beta            </td><td>NeweyWest t-stat</td><td>4.220911457     </td><td>3.92946715      </td><td>3.01254043      </td><td>3.61487738      </td><td>3.83270736      </td><td> 2.08846080     </td><td> 2.02934033     </td></tr>\n",
       "\t<tr><td>Size            </td><td>Average Returns </td><td>0.031111269     </td><td>0.01991171      </td><td>0.01764821      </td><td>0.01455486      </td><td>0.01256208      </td><td>-0.01854919     </td><td>-0.01899525     </td></tr>\n",
       "\t<tr><td>Size            </td><td>NeweyWest t-stat</td><td>5.160448981     </td><td>4.45021609      </td><td>3.84043153      </td><td>4.31465765      </td><td>3.93842395      </td><td>-4.63052819     </td><td>-5.15018358     </td></tr>\n",
       "\t<tr><td>Volatility      </td><td>Average Returns </td><td>0.008998466     </td><td>0.01106133      </td><td>0.01507795      </td><td>0.01589592      </td><td>0.02491289      </td><td> 0.01591442     </td><td> 0.01647312     </td></tr>\n",
       "\t<tr><td>Volatility      </td><td>NeweyWest t-stat</td><td>3.726076218     </td><td>3.21370874      </td><td>4.26418601      </td><td>3.60268696      </td><td>4.41874067      </td><td> 3.28093947     </td><td> 3.29045266     </td></tr>\n",
       "</tbody>\n",
       "</table>\n"
      ],
      "text/latex": [
       "\\begin{tabular}{r|lllllllll}\n",
       " Factor & Metric & 1 & 2 & 3 & 4 & 5 & 5 - 1 & FF alpha\\\\\n",
       "\\hline\n",
       "\t Beta             & Average Returns  & 0.011026175      & 0.01185709       & 0.01145078       & 0.01686160       & 0.02205218       &  0.01102600      &  0.01112093     \\\\\n",
       "\t Beta             & NeweyWest t-stat & 4.220911457      & 3.92946715       & 3.01254043       & 3.61487738       & 3.83270736       &  2.08846080      &  2.02934033     \\\\\n",
       "\t Size             & Average Returns  & 0.031111269      & 0.01991171       & 0.01764821       & 0.01455486       & 0.01256208       & -0.01854919      & -0.01899525     \\\\\n",
       "\t Size             & NeweyWest t-stat & 5.160448981      & 4.45021609       & 3.84043153       & 4.31465765       & 3.93842395       & -4.63052819      & -5.15018358     \\\\\n",
       "\t Volatility       & Average Returns  & 0.008998466      & 0.01106133       & 0.01507795       & 0.01589592       & 0.02491289       &  0.01591442      &  0.01647312     \\\\\n",
       "\t Volatility       & NeweyWest t-stat & 3.726076218      & 3.21370874       & 4.26418601       & 3.60268696       & 4.41874067       &  3.28093947      &  3.29045266     \\\\\n",
       "\\end{tabular}\n"
      ],
      "text/markdown": [
       "\n",
       "| Factor | Metric | 1 | 2 | 3 | 4 | 5 | 5 - 1 | FF alpha |\n",
       "|---|---|---|---|---|---|---|---|---|\n",
       "| Beta             | Average Returns  | 0.011026175      | 0.01185709       | 0.01145078       | 0.01686160       | 0.02205218       |  0.01102600      |  0.01112093      |\n",
       "| Beta             | NeweyWest t-stat | 4.220911457      | 3.92946715       | 3.01254043       | 3.61487738       | 3.83270736       |  2.08846080      |  2.02934033      |\n",
       "| Size             | Average Returns  | 0.031111269      | 0.01991171       | 0.01764821       | 0.01455486       | 0.01256208       | -0.01854919      | -0.01899525      |\n",
       "| Size             | NeweyWest t-stat | 5.160448981      | 4.45021609       | 3.84043153       | 4.31465765       | 3.93842395       | -4.63052819      | -5.15018358      |\n",
       "| Volatility       | Average Returns  | 0.008998466      | 0.01106133       | 0.01507795       | 0.01589592       | 0.02491289       |  0.01591442      |  0.01647312      |\n",
       "| Volatility       | NeweyWest t-stat | 3.726076218      | 3.21370874       | 4.26418601       | 3.60268696       | 4.41874067       |  3.28093947      |  3.29045266      |\n",
       "\n"
      ],
      "text/plain": [
       "  Factor     Metric           1           2          3          4         \n",
       "1 Beta       Average Returns  0.011026175 0.01185709 0.01145078 0.01686160\n",
       "2 Beta       NeweyWest t-stat 4.220911457 3.92946715 3.01254043 3.61487738\n",
       "3 Size       Average Returns  0.031111269 0.01991171 0.01764821 0.01455486\n",
       "4 Size       NeweyWest t-stat 5.160448981 4.45021609 3.84043153 4.31465765\n",
       "5 Volatility Average Returns  0.008998466 0.01106133 0.01507795 0.01589592\n",
       "6 Volatility NeweyWest t-stat 3.726076218 3.21370874 4.26418601 3.60268696\n",
       "  5          5 - 1       FF alpha   \n",
       "1 0.02205218  0.01102600  0.01112093\n",
       "2 3.83270736  2.08846080  2.02934033\n",
       "3 0.01256208 -0.01854919 -0.01899525\n",
       "4 3.93842395 -4.63052819 -5.15018358\n",
       "5 0.02491289  0.01591442  0.01647312\n",
       "6 4.41874067  3.28093947  3.29045266"
      ]
     },
     "metadata": {},
     "output_type": "display_data"
    }
   ],
   "source": [
    "print('Quintile average values:')\n",
    "quintile_values\n",
    "\n",
    "print('Equally weighted univariate sort:')\n",
    "equal_weighted_uni_sort\n",
    "\n",
    "print('Value weighted univariate sort:')\n",
    "value_weighted_uni_sort"
   ]
  },
  {
   "cell_type": "markdown",
   "metadata": {},
   "source": [
    "### Bivariate portfolio analysis"
   ]
  },
  {
   "cell_type": "code",
   "execution_count": null,
   "metadata": {
    "vscode": {
     "languageId": "r"
    }
   },
   "outputs": [],
   "source": [
    "# Similar to lecture_10_value, Table 10.6 + 10.7 - Panel B (Value-weighted, independent sort)\n",
    "# FF3 alpha instead of CAPM alpha\n",
    "# Size x axis, beta/vol y axis, 3X3, all with neweywest t-stats\n",
    "# Run all twice, once for 1-month ahead returns, and once for quarter-ahead returns"
   ]
  },
  {
   "cell_type": "code",
   "execution_count": 230,
   "metadata": {
    "vscode": {
     "languageId": "r"
    }
   },
   "outputs": [],
   "source": [
    "# Specify the characteristics and perform an independent bivariate portfolio sort\n",
    "#   on two factors. Supports only value-weighted sort.\n",
    "# Return a table with average returns with a corresponding Newey-West t-stat for all\n",
    "#   quantiles, a difference portfolio, and lastly a FF-alpha with its t-stat.\n",
    "# The arguments are similar to the univariate sort, only two factors are provided\n",
    "#   instead of one. 'months_ahead' then specifies the #months to look-ahead for returns.\n",
    "getBivariateSort <- function(first_sort_data, first_factor_name, second_sort_data,\n",
    "                second_factor_name, monthly_returns_data, monthly_market_caps_data,\n",
    "                monthly_ff3_data, n = 3, months_ahead = 1){\n",
    "    # Static\n",
    "    diff_portfolio <- paste0(n, ' - 1')\n",
    "\n",
    "    # Match indexes\n",
    "    index(first_sort_data) <- as.Date(as.yearmon(index(first_sort_data)), frac = 1)\n",
    "    index(second_sort_data) <- as.Date(as.yearmon(index(second_sort_data)), frac = 1)\n",
    "    factor_indexes_match <- index(first_sort_data) %in% index(second_sort_data)\n",
    "    main_idx <- index(first_sort_data[factor_indexes_match])\n",
    "    #Subset the sort data only to the observations where both values are available\n",
    "    first_sort_data <- first_sort_data[main_idx]\n",
    "    second_sort_data <- second_sort_data[main_idx]\n",
    "\n",
    "    # Get portfolio returns for all portfolios\n",
    "    portfolio_returns <- lapply(main_idx, function(current_month) {\n",
    "        next_month <- as.Date(as.yearmon(current_month %m+% months(months_ahead)), frac = 1)\n",
    "        if (!next_month %in% index(monthly_returns)){ \n",
    "            return(NA) # No monthly returns in this period\n",
    "        }\n",
    "        \n",
    "        # Current month variables\n",
    "        month_first_factor <- first_sort_data[current_month]\n",
    "        month_second_factor <- second_sort_data[current_month]\n",
    "        first_not_na <- !is.na(month_first_factor)\n",
    "        second_not_na <- !is.na(month_second_factor)\n",
    "        \n",
    "        #Next month variables\n",
    "        month_returns <- monthly_returns_data[next_month]\n",
    "        month_market_caps <- monthly_market_caps_data[next_month]\n",
    "        month_market_caps[is.na(month_market_caps)] <- 0\n",
    "        \n",
    "        # Skip in case of invalid data\n",
    "        skip_conditions <- c(\n",
    "            !any(first_not_na), # No data on first factor\n",
    "            !any(second_not_na), # No data on second factor\n",
    "            sum(month_market_caps) == 0 # No data on market capitalization\n",
    "        )\n",
    "        if (any(skip_conditions)) {\n",
    "            # vec_length <- ifelse (get_quintile_values, n, n+1) # No diff in getting quintile values\n",
    "            return(NA) # Change later depending on the structure of the outpu\n",
    "        }\n",
    "\n",
    "        # Find breakpoints\n",
    "        bps <- c(0,0.3,0.7,1)    \n",
    "        first_breakpoints <- quantile(month_first_factor, bps, na.rm = TRUE)\n",
    "        second_breakpoints <- quantile(month_second_factor, bps, na.rm = TRUE)\n",
    "\n",
    "        # Create all combinations of the two breakpoints for the independent sort - nested list\n",
    "        tuple_list <- apply(expand.grid(first_breakpoints, second_breakpoints), 1, list)\n",
    "        current_month_out <- lapply(tuple_list, function(y) { # Iterate over all tuples\n",
    "            first_bp_1 <- y[[1]][[1]] # 1st factor starting breakpoint\n",
    "            second_bp_1 <- y[[1]][[2]] # 2nd factor staring breakpoint\n",
    "\n",
    "            next_bp_idx_1 <- match(first_bp_1, first_breakpoints) + 1\n",
    "            next_bp_idx_2 <- match(second_bp_1, second_breakpoints) + 1\n",
    "\n",
    "            first_bp_2 <- first_breakpoints[next_bp_idx_1] # 1st factor ending breakpoint\n",
    "            second_bp_2 <- second_breakpoints[next_bp_idx_2] # 2nd factor ending breakpoint\n",
    "\n",
    "            if (is.na(first_bp_2) | is.na(second_bp_2)) { # Out of quantiles\n",
    "                return('ooq')\n",
    "            }\n",
    "\n",
    "            #Construct the filters\n",
    "            first_filter <- (month_first_factor < first_bp_2) &\n",
    "                            (month_first_factor > first_bp_1) &\n",
    "                            first_not_na\n",
    "            second_filter <- (month_second_factor < second_bp_2) &\n",
    "                             (month_second_factor > second_bp_1) &\n",
    "                             second_not_na\n",
    "            merged_filter <- (first_filter) & (second_filter)\n",
    "\n",
    "            # Get returns for current month's weighted portfolio\n",
    "            filtered_returns <- month_returns[, merged_filter]\n",
    "            filtered_caps <- month_market_caps[,merged_filter]\n",
    "            current_returns <- weighted.mean(t(filtered_returns), t(filtered_caps))\n",
    "            return(current_returns)\n",
    "        })\n",
    "        current_month_out <- current_month_out[!current_month_out == 'ooq'] # Remove out of index quantiles\n",
    "        current_month_out <- do.call('cbind', current_month_out)\n",
    "        return(current_month_out)\n",
    "    })\n",
    "    portfolio_returns <- as.data.frame(do.call('rbind', portfolio_returns))\n",
    "    rownames(portfolio_returns) <- main_idx\n",
    "    tuple_grid <- expand.grid(c(1:3), c(1:3)) # Grid of all combinations of portfolio name tuples\n",
    "    tuple_colnames <- sprintf('(%s,%s)', tuple_grid[,1], tuple_grid[,2])\n",
    "    colnames(portfolio_returns) <- tuple_colnames \n",
    "    return(portfolio_returns)\n",
    "    }"
   ]
  },
  {
   "cell_type": "code",
   "execution_count": 231,
   "metadata": {
    "vscode": {
     "languageId": "r"
    }
   },
   "outputs": [],
   "source": [
    "test_biv_sort <- getBivariateSort(monthly_sizes, 'Size', monthly_betas, 'Beta',\n",
    "    monthly_returns, monthly_market_caps, monthly_ff3)"
   ]
  },
  {
   "cell_type": "code",
   "execution_count": 233,
   "metadata": {
    "vscode": {
     "languageId": "r"
    }
   },
   "outputs": [
    {
     "data": {
      "text/html": [
       "<table>\n",
       "<thead><tr><th></th><th scope=col>(1,1)</th><th scope=col>(2,1)</th><th scope=col>(3,1)</th><th scope=col>(1,2)</th><th scope=col>(2,2)</th><th scope=col>(3,2)</th><th scope=col>(1,3)</th><th scope=col>(2,3)</th><th scope=col>(3,3)</th></tr></thead>\n",
       "<tbody>\n",
       "\t<tr><th scope=row>2005-02-28</th><td> 0.02318986 </td><td> 0.04765336 </td><td>-0.020854173</td><td>         NaN</td><td>-0.04557108 </td><td>-0.002297466</td><td>0.042638135 </td><td>-0.04249442 </td><td>        NaN </td></tr>\n",
       "\t<tr><th scope=row>2005-03-31</th><td>         NA </td><td>         NA </td><td>          NA</td><td>          NA</td><td>         NA </td><td>          NA</td><td>         NA </td><td>         NA </td><td>         NA </td></tr>\n",
       "\t<tr><th scope=row>2005-04-30</th><td> 0.04768155 </td><td> 0.01530586 </td><td> 0.013245194</td><td> 0.047566206</td><td> 0.03791041 </td><td> 0.034640491</td><td>0.105402391 </td><td> 0.07891222 </td><td> 0.12430265 </td></tr>\n",
       "\t<tr><th scope=row>2005-05-31</th><td> 0.03272650 </td><td> 0.01732409 </td><td>-0.004546266</td><td> 0.038513898</td><td> 0.02575584 </td><td>-0.000889288</td><td>0.005447380 </td><td> 0.01832732 </td><td>-0.02155231 </td></tr>\n",
       "\t<tr><th scope=row>2005-06-30</th><td>         NA </td><td>         NA </td><td>          NA</td><td>          NA</td><td>         NA </td><td>          NA</td><td>         NA </td><td>         NA </td><td>         NA </td></tr>\n",
       "\t<tr><th scope=row>2005-07-31</th><td>-0.01213184 </td><td>-0.01153447 </td><td>-0.002850716</td><td>-0.007401479</td><td>-0.02143631 </td><td> 0.010519426</td><td>0.005787353 </td><td>-0.03447523 </td><td>-0.02530210 </td></tr>\n",
       "</tbody>\n",
       "</table>\n"
      ],
      "text/latex": [
       "\\begin{tabular}{r|lllllllll}\n",
       "  & (1,1) & (2,1) & (3,1) & (1,2) & (2,2) & (3,2) & (1,3) & (2,3) & (3,3)\\\\\n",
       "\\hline\n",
       "\t2005-02-28 &  0.02318986  &  0.04765336  & -0.020854173 &          NaN & -0.04557108  & -0.002297466 & 0.042638135  & -0.04249442  &         NaN \\\\\n",
       "\t2005-03-31 &          NA  &          NA  &           NA &           NA &          NA  &           NA &          NA  &          NA  &          NA \\\\\n",
       "\t2005-04-30 &  0.04768155  &  0.01530586  &  0.013245194 &  0.047566206 &  0.03791041  &  0.034640491 & 0.105402391  &  0.07891222  &  0.12430265 \\\\\n",
       "\t2005-05-31 &  0.03272650  &  0.01732409  & -0.004546266 &  0.038513898 &  0.02575584  & -0.000889288 & 0.005447380  &  0.01832732  & -0.02155231 \\\\\n",
       "\t2005-06-30 &          NA  &          NA  &           NA &           NA &          NA  &           NA &          NA  &          NA  &          NA \\\\\n",
       "\t2005-07-31 & -0.01213184  & -0.01153447  & -0.002850716 & -0.007401479 & -0.02143631  &  0.010519426 & 0.005787353  & -0.03447523  & -0.02530210 \\\\\n",
       "\\end{tabular}\n"
      ],
      "text/markdown": [
       "\n",
       "| <!--/--> | (1,1) | (2,1) | (3,1) | (1,2) | (2,2) | (3,2) | (1,3) | (2,3) | (3,3) |\n",
       "|---|---|---|---|---|---|---|---|---|---|\n",
       "| 2005-02-28 |  0.02318986  |  0.04765336  | -0.020854173 |          NaN | -0.04557108  | -0.002297466 | 0.042638135  | -0.04249442  |         NaN  |\n",
       "| 2005-03-31 |          NA  |          NA  |           NA |           NA |          NA  |           NA |          NA  |          NA  |          NA  |\n",
       "| 2005-04-30 |  0.04768155  |  0.01530586  |  0.013245194 |  0.047566206 |  0.03791041  |  0.034640491 | 0.105402391  |  0.07891222  |  0.12430265  |\n",
       "| 2005-05-31 |  0.03272650  |  0.01732409  | -0.004546266 |  0.038513898 |  0.02575584  | -0.000889288 | 0.005447380  |  0.01832732  | -0.02155231  |\n",
       "| 2005-06-30 |          NA  |          NA  |           NA |           NA |          NA  |           NA |          NA  |          NA  |          NA  |\n",
       "| 2005-07-31 | -0.01213184  | -0.01153447  | -0.002850716 | -0.007401479 | -0.02143631  |  0.010519426 | 0.005787353  | -0.03447523  | -0.02530210  |\n",
       "\n"
      ],
      "text/plain": [
       "           (1,1)       (2,1)       (3,1)        (1,2)        (2,2)      \n",
       "2005-02-28  0.02318986  0.04765336 -0.020854173          NaN -0.04557108\n",
       "2005-03-31          NA          NA           NA           NA          NA\n",
       "2005-04-30  0.04768155  0.01530586  0.013245194  0.047566206  0.03791041\n",
       "2005-05-31  0.03272650  0.01732409 -0.004546266  0.038513898  0.02575584\n",
       "2005-06-30          NA          NA           NA           NA          NA\n",
       "2005-07-31 -0.01213184 -0.01153447 -0.002850716 -0.007401479 -0.02143631\n",
       "           (3,2)        (1,3)       (2,3)       (3,3)      \n",
       "2005-02-28 -0.002297466 0.042638135 -0.04249442         NaN\n",
       "2005-03-31           NA          NA          NA          NA\n",
       "2005-04-30  0.034640491 0.105402391  0.07891222  0.12430265\n",
       "2005-05-31 -0.000889288 0.005447380  0.01832732 -0.02155231\n",
       "2005-06-30           NA          NA          NA          NA\n",
       "2005-07-31  0.010519426 0.005787353 -0.03447523 -0.02530210"
      ]
     },
     "metadata": {},
     "output_type": "display_data"
    }
   ],
   "source": [
    "head(test_biv_sort)"
   ]
  },
  {
   "cell_type": "code",
   "execution_count": null,
   "metadata": {
    "vscode": {
     "languageId": "r"
    }
   },
   "outputs": [],
   "source": [
    "# Input monthly data to sort by, factor name, monthly returns data, and monthly market capital data.\n",
    "#   Furthermore specify the number of quantiles and the method by which to compute the returns.\n",
    "#   For this, two options are available - 'equal' (as in equally weighted) and 'value' (as in\n",
    "#       value weighted).\n",
    "#   Return overall average returns within portfolios and the corresponding standard errors\n",
    "#       as a simple data frame.\n",
    "#   If 'get_quintile_values' == TRUE, return quintile values for this factor instead.\n",
    "getUnivariateSort <- function(sort_variable_data, factor_name, monthly_returns_data,\n",
    "                                monthly_market_caps, monthly_ff3_data, n = 5, method = 'equal',\n",
    "                                get_quintile_values = FALSE){\n",
    "    # Static\n",
    "    diff_portfolio <- paste0(n, ' - 1')\n",
    "    portfolio_colnames <- c(1:n, diff_portfolio)\n",
    "    portfolio_returns_index <- index(sort_variable_data)[-1] # All but first element\n",
    "\n",
    "    # Iterate over the months in the portfolio returns index and return return for each of them\n",
    "    portfolio_returns <- lapply(portfolio_returns_index, function(current_month) {\n",
    "        this_month_sort_variable <- sort_variable_data[current_month]\n",
    "        not_na <- !is.na(this_month_sort_variable)\n",
    "        next_month <- as.Date(as.yearmon(current_month %m+% months(1)), frac = 1)\n",
    "        \n",
    "        # Check for data validity, return a vector of NAs in case of invalid data\n",
    "        skip_conditions <- c(\n",
    "            sum(not_na) < 4*n, # Not enough observations for this month\n",
    "            !next_month %in% index(monthly_returns_data) # No returns data in the next month\n",
    "            \n",
    "        )\n",
    "        if (method == 'value') { # Skip conditions that apply only for the value weighted method\n",
    "            # No market capitalization data for the next month - nothing to weigh by\n",
    "            skip_conditions <- append(skip_conditions, !next_month %in% index(monthly_market_caps)) \n",
    "        }\n",
    "        if (any(skip_conditions)) {\n",
    "            vec_length <- ifelse (get_quintile_values, n, n+1) # No diff in getting quintile values\n",
    "            return(c(rep(NA, vec_length))) # Return vector of NAs\n",
    "        }\n",
    "\n",
    "        next_month_returns <- monthly_returns_data[next_month] # A vector for all stocks\n",
    "        next_month_market_caps <- monthly_market_caps[next_month]\n",
    "        next_month_market_caps[is.na(next_month_market_caps)] <- 0 # No weights for missing obs\n",
    "\n",
    "        breakpoints <- quantile(this_month_sort_variable, prob = 0:n/n, na.rm = TRUE) # Quintiles\n",
    "\n",
    "        # Compute portfolio returns\n",
    "        this_period_returns <- c()\n",
    "        this_period_quintile_averages <- c() # For storing quintile values\n",
    "        for (i in breakpoints) { # Find all quintile breakpoints\n",
    "            next_breakpoint_idx <- match(i, breakpoints) + 1\n",
    "            next_breakpoint <- breakpoints[next_breakpoint_idx]\n",
    "            if (!is.na(next_breakpoint)) { # While not out of quntiles\n",
    "                filter <- (i < this_month_sort_variable) &\n",
    "                          (this_month_sort_variable < next_breakpoint) &\n",
    "                          (not_na)\n",
    "                if (method == 'equal') {# Equally weighted portfolio\n",
    "                    quintile_return <- mean(next_month_returns[,filter])\n",
    "                } else if (method == 'value') {\n",
    "                    quintile_return <- weighted.mean(t(next_month_returns[,filter]),\n",
    "                                                    t(next_month_market_caps[,filter])) # Actual return\n",
    "                } else {\n",
    "                    stop('Incorrectly defined method. Select one of - equal, value.')\n",
    "                }\n",
    "                if (get_quintile_values) { # Store average factor value in this quintile\n",
    "                    this_period_quintile_averages <- append(this_period_quintile_averages,\n",
    "                        mean(this_month_sort_variable[,filter]))\n",
    "                }\n",
    "                this_period_returns <- append(this_period_returns, quintile_return) # Store value \n",
    "            } else {\n",
    "                break # Last iteration\n",
    "            } \n",
    "        }\n",
    "        if (get_quintile_values) {\n",
    "            return(this_period_quintile_averages) # Return quintile averages instead\n",
    "        }\n",
    "        diff_returns <- this_period_returns[[n]] - this_period_returns[[1]]\n",
    "        this_period_returns <- append(this_period_returns, diff_returns) # Append returns of diff\n",
    "        return(this_period_returns) # Returns for all quintiles for this period\n",
    "    })\n",
    "    portfolio_returns <- as.xts(do.call('rbind', portfolio_returns), # To xts\n",
    "        order.by = as.Date(as.yearmon(portfolio_returns_index), frac = 1))\n",
    "    \n",
    "    if (get_quintile_values){ # Calculate quintile values instead\n",
    "        quintile_values <- lapply(portfolio_returns, function(quintile) {\n",
    "            return(mean(quintile, na.rm = TRUE))\n",
    "        })\n",
    "        quintile_values <- as.data.frame(do.call('cbind', quintile_values))\n",
    "        data_out <- cbind(factor_name, quintile_values)\n",
    "        colnames(data_out) <- c('Factor', 1:n)\n",
    "        return(data_out) # Actually quintile averages\n",
    "    }\n",
    "\n",
    "    # Use the monthly portfolio returns to calculate avg returns and their standard errors\n",
    "    average_returns <- lapply(portfolio_returns, function(col) {\n",
    "        model_data <- cbind(na.omit(col), 1)\n",
    "        colnames(model_data) <- c('returns', 'one')\n",
    "        model <- lm(formula = returns ~ one, data = model_data) # Explicit to avoid package error\n",
    "        avg_ret <- model$coefficients[[1]]\n",
    "        std_err <- model$coefficients[[1]] / sqrt(NeweyWest(model, lag = 6))[[1]]\n",
    "        return(c(avg_ret, std_err))\n",
    "    })\n",
    "\n",
    "    # Calculate FF alpha and the corresponding NeweyWest t-statistic\n",
    "    diff_returns <- portfolio_returns[,n + 1] # Returns of the diff portfolio\n",
    "    diff_returns <- diff_returns[!is.na(diff_returns)] # Remove NAs\n",
    "    diff_idx <- index(diff_returns)\n",
    "    ff_data <- monthly_ff3_data[diff_idx, c('mkt_rf', 'smb', 'hml')]\n",
    "    ff_lm_data <- cbind(diff_returns, ff_data)\n",
    "    ff_model <- lm(diff_returns ~ mkt_rf + smb + hml, data = ff_lm_data) # FF3 regression\n",
    "    ff_alpha <- ff_model$coefficients[[1]]\n",
    "    ff_alpha_t <- suppressWarnings(ff_model$coefficients[[1]] / sqrt(NeweyWest(ff_model,\n",
    "                    lag = 6))[[1]])\n",
    "    ff <- c(ff_alpha, ff_alpha_t)\n",
    "\n",
    "    # Output data frame construction\n",
    "    metrics <- c('Average Returns', 'NeweyWest t-stat')\n",
    "    average_returns <- as.data.frame(do.call('cbind', average_returns)) # To data frame\n",
    "    data_out <- cbind(factor_name, metrics, average_returns, ff)\n",
    "    colnames(data_out) <- c('Factor', 'Metric', portfolio_colnames, 'FF alpha')\n",
    "    return(data_out)\n",
    "}\n",
    "\n",
    "# Specify the input data and return a prettified output as a data frame, in a fashion similar to the\n",
    "#   table from lecture 10\n",
    "#   input_data(list) - A list of the input data to be sorted by\n",
    "#   factor_names(list) - A list of names of the factors to be used\n",
    "#   Note: The rest of the arguments are similar as in the previous functions\n",
    "getVariateSortOutput <- function(input_data, factor_names, monthly_returns_data,\n",
    "        monthly_market_caps_data, monthly_ff3_data, n = 5, method = 'equal',\n",
    "        get_quintile_values = FALSE) {\n",
    "    input_length <- length(input_data)\n",
    "    if (!input_length == length(factor_names)) {\n",
    "        stop('The input data length must be the same as their names.')\n",
    "    }\n",
    "    data_out <- list()\n",
    "    for (i in 1:input_length) { # Generate the portfolio sort for all factors\n",
    "        input_sort <- input_data[[i]]\n",
    "        input_factor <- factor_names[[i]]\n",
    "        sort_results <- getUnivariateSort(input_sort, input_factor, monthly_returns_data,\n",
    "            monthly_market_caps_data, monthly_ff3_data, n = n, method = method,\n",
    "            get_quintile_values = get_quintile_values)\n",
    "        data_out <- rbind(data_out, sort_results)\n",
    "    }\n",
    "    return(data_out)\n",
    "}"
   ]
  }
 ],
 "metadata": {
  "kernelspec": {
   "display_name": "R",
   "language": "R",
   "name": "ir"
  },
  "language_info": {
   "codemirror_mode": "r",
   "file_extension": ".r",
   "mimetype": "text/x-r-source",
   "name": "R",
   "pygments_lexer": "r",
   "version": "3.6.1"
  }
 },
 "nbformat": 4,
 "nbformat_minor": 4
}
