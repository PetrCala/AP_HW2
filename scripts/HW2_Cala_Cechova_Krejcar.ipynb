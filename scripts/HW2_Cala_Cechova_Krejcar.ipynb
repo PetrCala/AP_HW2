{
 "cells": [
  {
   "cell_type": "code",
   "execution_count": 6,
   "metadata": {
    "vscode": {
     "languageId": "r"
    }
   },
   "outputs": [
    {
     "data": {
      "text/html": [
       "'c:/Users/hso20/OneDrive/Plocha/IES/Asset pricing'"
      ],
      "text/latex": [
       "'c:/Users/hso20/OneDrive/Plocha/IES/Asset pricing'"
      ],
      "text/markdown": [
       "'c:/Users/hso20/OneDrive/Plocha/IES/Asset pricing'"
      ],
      "text/plain": [
       "[1] \"c:/Users/hso20/OneDrive/Plocha/IES/Asset pricing\""
      ]
     },
     "metadata": {},
     "output_type": "display_data"
    }
   ],
   "source": [
    "setwd('..')\n",
    "getwd()\n"
   ]
  },
  {
   "cell_type": "code",
   "execution_count": 1,
   "metadata": {
    "vscode": {
     "languageId": "r"
    }
   },
   "outputs": [
    {
     "data": {
      "text/html": [
       "<table>\n",
       "<thead><tr><th scope=col>ï..Group.Name</th></tr></thead>\n",
       "<tbody>\n",
       "\t<tr><td>22138943</td></tr>\n",
       "\t<tr><td>43512365</td></tr>\n",
       "\t<tr><td>93419523</td></tr>\n",
       "\t<tr><td>88952997</td></tr>\n",
       "\t<tr><td>61505008</td></tr>\n",
       "\t<tr><td>96640370</td></tr>\n",
       "\t<tr><td>18186923</td></tr>\n",
       "\t<tr><td>12870482</td></tr>\n",
       "\t<tr><td>20107894</td></tr>\n",
       "\t<tr><td>24766912</td></tr>\n",
       "\t<tr><td>82823587</td></tr>\n",
       "\t<tr><td>37116416</td></tr>\n",
       "\t<tr><td>16703499</td></tr>\n",
       "\t<tr><td>10026254</td></tr>\n",
       "\t<tr><td>82780095</td></tr>\n",
       "\t<tr><td>63605275</td></tr>\n",
       "\t<tr><td>86851220</td></tr>\n",
       "\t<tr><td>53359547</td></tr>\n",
       "\t<tr><td>35884389</td></tr>\n",
       "\t<tr><td>57932993</td></tr>\n",
       "\t<tr><td>32102755</td></tr>\n",
       "\t<tr><td>96640371</td></tr>\n",
       "\t<tr><td>86560810</td></tr>\n",
       "\t<tr><td>32690744</td></tr>\n",
       "\t<tr><td>46688267</td></tr>\n",
       "\t<tr><td>70644571</td></tr>\n",
       "</tbody>\n",
       "</table>\n"
      ],
      "text/latex": [
       "\\begin{tabular}{r|l}\n",
       " ï..Group.Name\\\\\n",
       "\\hline\n",
       "\t 22138943\\\\\n",
       "\t 43512365\\\\\n",
       "\t 93419523\\\\\n",
       "\t 88952997\\\\\n",
       "\t 61505008\\\\\n",
       "\t 96640370\\\\\n",
       "\t 18186923\\\\\n",
       "\t 12870482\\\\\n",
       "\t 20107894\\\\\n",
       "\t 24766912\\\\\n",
       "\t 82823587\\\\\n",
       "\t 37116416\\\\\n",
       "\t 16703499\\\\\n",
       "\t 10026254\\\\\n",
       "\t 82780095\\\\\n",
       "\t 63605275\\\\\n",
       "\t 86851220\\\\\n",
       "\t 53359547\\\\\n",
       "\t 35884389\\\\\n",
       "\t 57932993\\\\\n",
       "\t 32102755\\\\\n",
       "\t 96640371\\\\\n",
       "\t 86560810\\\\\n",
       "\t 32690744\\\\\n",
       "\t 46688267\\\\\n",
       "\t 70644571\\\\\n",
       "\\end{tabular}\n"
      ],
      "text/markdown": [
       "\n",
       "| ï..Group.Name |\n",
       "|---|\n",
       "| 22138943 |\n",
       "| 43512365 |\n",
       "| 93419523 |\n",
       "| 88952997 |\n",
       "| 61505008 |\n",
       "| 96640370 |\n",
       "| 18186923 |\n",
       "| 12870482 |\n",
       "| 20107894 |\n",
       "| 24766912 |\n",
       "| 82823587 |\n",
       "| 37116416 |\n",
       "| 16703499 |\n",
       "| 10026254 |\n",
       "| 82780095 |\n",
       "| 63605275 |\n",
       "| 86851220 |\n",
       "| 53359547 |\n",
       "| 35884389 |\n",
       "| 57932993 |\n",
       "| 32102755 |\n",
       "| 96640371 |\n",
       "| 86560810 |\n",
       "| 32690744 |\n",
       "| 46688267 |\n",
       "| 70644571 |\n",
       "\n"
      ],
      "text/plain": [
       "   ï..Group.Name\n",
       "1  22138943     \n",
       "2  43512365     \n",
       "3  93419523     \n",
       "4  88952997     \n",
       "5  61505008     \n",
       "6  96640370     \n",
       "7  18186923     \n",
       "8  12870482     \n",
       "9  20107894     \n",
       "10 24766912     \n",
       "11 82823587     \n",
       "12 37116416     \n",
       "13 16703499     \n",
       "14 10026254     \n",
       "15 82780095     \n",
       "16 63605275     \n",
       "17 86851220     \n",
       "18 53359547     \n",
       "19 35884389     \n",
       "20 57932993     \n",
       "21 32102755     \n",
       "22 96640371     \n",
       "23 86560810     \n",
       "24 32690744     \n",
       "25 46688267     \n",
       "26 70644571     "
      ]
     },
     "metadata": {},
     "output_type": "display_data"
    }
   ],
   "source": [
    "read.csv('data/group_names.csv')"
   ]
  },
  {
   "cell_type": "markdown",
   "metadata": {},
   "source": [
    "# JEM092 Asset Pricing - Homework 2\n",
    "### Summer Semester 2021/2022\n",
    "\n",
    "### Authors: *Petr Čala, Tereza Čechová, Vilém Krejcar*\n",
    "___\n",
    "\n",
    "First things first, we install and load the necessary packages. Then we arbitrarily set a seed for reproducibility."
   ]
  },
  {
   "cell_type": "code",
   "execution_count": 2,
   "metadata": {
    "vscode": {
     "languageId": "r"
    }
   },
   "outputs": [],
   "source": [
    "# Required packages\n",
    "packages <- c(\"quantmod\", \"tseries\", \"dplyr\", \"xml2\", \"httr\", \"PortfolioAnalytics\")\n",
    "\n",
    "# Install packages not yet installed\n",
    "installed_packages <- packages %in% rownames(installed.packages())\n",
    "if (any(installed_packages == FALSE)) {\n",
    "  install.packages(packages[!installed_packages])\n",
    "  print(paste(\"Installing package \", packages[!installed_packages],\"...\", sep = \"\"))\n",
    "}\n",
    "\n",
    "# Packages loading\n",
    "invisible(lapply(packages, library, character.only = TRUE))\n",
    "rm(list = ls()) #Clean environment\n",
    "\n",
    "# Miscellaneous\n",
    "options(repr.plot.width = 6, repr.plot.height = 5)\n",
    "set.seed(420)"
   ]
  },
  {
   "cell_type": "markdown",
   "metadata": {},
   "source": [
    "### Groundwork\n",
    "\n",
    "Although we were able to obtain the data in the first homework, **we choose to use the provided dataset**, as this allows for easier and **more reliable reproducibility**. First we load the data, subset the necessary stocks, save these as new variables, and then discard the source data in order to alleviate some memory."
   ]
  },
  {
   "cell_type": "code",
   "execution_count": 3,
   "metadata": {
    "vscode": {
     "languageId": "r"
    }
   },
   "outputs": [],
   "source": [
    "# Static variables\n",
    "group_id <- \"61505008\"\n",
    "required_file_names <- c(\"rand_download\")\n",
    "exp_len <- 20 #Number of stocks to be analyzed"
   ]
  },
  {
   "cell_type": "code",
   "execution_count": 4,
   "metadata": {
    "vscode": {
     "languageId": "r"
    }
   },
   "outputs": [
    {
     "name": "stdout",
     "output_type": "stream",
     "text": [
      "[1] \"All required files were located successfully.\"\n"
     ]
    }
   ],
   "source": [
    "# Assert presence of necessary files\n",
    "missing = 0\n",
    "for (i in required_file_names) {\n",
    "    name <- paste(group_id, \"_\", i, \".csv\", sep = \"\")\n",
    "    if (!name %in% list.files()) {\n",
    "        print(paste(\"File \", name, \" is missing from the folder.\", sep = \"\"))\n",
    "        missing <- missing + 1\n",
    "    }\n",
    "}\n",
    "if (missing == 0) {\n",
    "    print('All required files were located successfully.')\n",
    "}"
   ]
  },
  {
   "cell_type": "code",
   "execution_count": 5,
   "metadata": {
    "vscode": {
     "languageId": "r"
    }
   },
   "outputs": [],
   "source": [
    "# A function for loading the tickers from a file\n",
    "getTickers <- function(file_name) {\n",
    "    tickers <- as.character(read.csv(paste(group_id, \"_\", file_name, \".csv\", sep = \"\"))[,2]) # Load the tickers\n",
    "    if (length(tickers) != exp_len) {\n",
    "        print(paste(\"There seem to be some missing tickers. There should be \", exp_len, \" of them in total.\", sep = \"\"))\n",
    "    }\n",
    "    return(tickers)\n",
    "}\n",
    "tickers <- getTickers(\"rand_download\") # We of course load the tickers as so"
   ]
  },
  {
   "cell_type": "code",
   "execution_count": 22,
   "metadata": {
    "scrolled": true,
    "vscode": {
     "languageId": "r"
    }
   },
   "outputs": [],
   "source": [
    "# Load source data into the working directory\n",
    "source_data <- load('Asset_Pricing_HW_2_data.RData')\n",
    "\n",
    "# Subset only for the stocks we will need\n",
    "BV <- book_value_sap500[tickers]\n",
    "MKT <- MktCap_sap500[tickers]\n",
    "OHLCV <- OHLCV_sap500[tickers]\n",
    "\n",
    "# Remove source data from working directory for better memory management\n",
    "rm(list = source)"
   ]
  },
  {
   "cell_type": "markdown",
   "metadata": {},
   "source": [
    "### Portfolio analysis"
   ]
  }
 ],
 "metadata": {
  "kernelspec": {
   "display_name": "R",
   "language": "R",
   "name": "ir"
  },
  "language_info": {
   "codemirror_mode": "r",
   "file_extension": ".r",
   "mimetype": "text/x-r-source",
   "name": "R",
   "pygments_lexer": "r",
   "version": "3.6.1"
  }
 },
 "nbformat": 4,
 "nbformat_minor": 4
}
