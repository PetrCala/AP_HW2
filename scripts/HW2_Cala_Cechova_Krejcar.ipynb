{
 "cells": [
  {
   "cell_type": "markdown",
   "metadata": {},
   "source": [
    "# JEM092 Asset Pricing - Homework 2\n",
    "### Summer Semester 2021/2022\n",
    "\n",
    "### Authors: *Petr Čala, Tereza Čechová, Vilém Krejcar*\n",
    "___\n",
    "\n",
    "First things first, we install and load the necessary packages. Then we arbitrarily set a seed for reproducibility."
   ]
  },
  {
   "cell_type": "code",
   "execution_count": 12,
   "metadata": {
    "vscode": {
     "languageId": "r"
    }
   },
   "outputs": [
    {
     "name": "stdout",
     "output_type": "stream",
     "text": [
      "[1] \"All packages loaded successfully...\"\n"
     ]
    }
   ],
   "source": [
    "# Required packages\n",
    "packages <- c(\"stringr\", \"quantmod\", \"tseries\", \"dplyr\", \"xml2\", \"httr\", \"PortfolioAnalytics\",\n",
    "              \"lubridate\")\n",
    "\n",
    "# Install packages not yet installed\n",
    "installed_packages <- packages %in% rownames(installed.packages())\n",
    "if (any(installed_packages == FALSE)) {\n",
    "  install.packages(packages[!installed_packages])\n",
    "  print(paste(\"Installing package \", packages[!installed_packages],\"...\", sep = \"\"))\n",
    "}\n",
    "\n",
    "# Packages loading\n",
    "invisible(lapply(packages, library, character.only = TRUE))\n",
    "rm(list = ls()) #Clean environment\n",
    "print('All packages loaded successfully...')\n",
    "\n",
    "# Miscellaneous\n",
    "options(repr.plot.width = 6, repr.plot.height = 5)\n",
    "set.seed(420)"
   ]
  },
  {
   "cell_type": "markdown",
   "metadata": {},
   "source": [
    "### Groundwork\n",
    "\n",
    "Although we were able to obtain the data in the first homework, **we choose to use the provided dataset**, as this allows for easier and **more reliable reproducibility**. First we load the data, subset the necessary stocks, save these as new variables, and then discard the source data in order to alleviate some memory."
   ]
  },
  {
   "cell_type": "code",
   "execution_count": 13,
   "metadata": {
    "vscode": {
     "languageId": "r"
    }
   },
   "outputs": [],
   "source": [
    "# Static variables\n",
    "group_number <- 61505008\n",
    "ticker_file <- \"data/61505008_data_download.csv\"\n",
    "data_file <- \"data/Asset_Pricing_HW_2_data.RData\"\n",
    "group_factor <- \"data/third_factor_rand.csv\"\n",
    "data_files <- list(ticker_file, data_file, group_factor)"
   ]
  },
  {
   "cell_type": "code",
   "execution_count": 14,
   "metadata": {
    "vscode": {
     "languageId": "r"
    }
   },
   "outputs": [
    {
     "name": "stdout",
     "output_type": "stream",
     "text": [
      "[1] \"The factor assigned to this group is VOL.\"\n"
     ]
    }
   ],
   "source": [
    " # Set wd to project root\n",
    "if (str_detect(getwd(), 'scripts')) {\n",
    "    setwd('..')\n",
    "}\n",
    "\n",
    "# Assert presence of all required files\n",
    "for (file in data_files) {\n",
    "    if (!file.exists(file)) {\n",
    "        print(paste0('File ', file, ' does not exist or has been misplaced.'))\n",
    "    }\n",
    "}\n",
    "\n",
    "# Load tickers of required stocks\n",
    "tickers <- as.character(unlist(read.csv(ticker_file)[2]))\n",
    "\n",
    "# Check the assigned group factor\n",
    "getFactor <- function(factor){\n",
    "    data <- read.csv(factor)\n",
    "    matching_row <- which(data[2] == group_number)\n",
    "    assigned_factor <- as.character(data[matching_row, 3])\n",
    "    print(paste0('The factor assigned to this group is ', assigned_factor, '.'))\n",
    "}\n",
    "getFactor(group_factor)"
   ]
  },
  {
   "cell_type": "markdown",
   "metadata": {},
   "source": [
    "While selecting only the desired tickers, we found that **a ticker that was assigned to our group was missing from the provided data**. We decided to remedy for this by writing a simple fix which replaces all of these missing assigned data by random data of a stock, that is provided in the source data set. As this was the case for only one stock, no trend bias should be introduced into the data."
   ]
  },
  {
   "cell_type": "code",
   "execution_count": 83,
   "metadata": {
    "scrolled": true,
    "vscode": {
     "languageId": "r"
    }
   },
   "outputs": [
    {
     "name": "stdout",
     "output_type": "stream",
     "text": [
      "[1] \"MOH is missing from the source data...\"\n",
      "[1] \"Data for MOH replaced successfully with data from ABT\"\n"
     ]
    }
   ],
   "source": [
    "# Load source data into the working directory\n",
    "source_data <- load(data_file)\n",
    "\n",
    "# Subset only for the stocks we will need\n",
    "# Note - use these as BV$AAPL, not BV['AAPL']\n",
    "BV <- book_value_sap500[tickers]\n",
    "MKT <- MktCap_sap500[tickers]\n",
    "OHLCV <- OHLCV_sap500[tickers]\n",
    "\n",
    "# Assert presence of all assigned tickers in the source data - replace data of those that are missing\n",
    "data_replacement_counter <- 1\n",
    "for (ticker in tickers) {\n",
    "    all_stock_names <- names(OHLCV)\n",
    "    if (!ticker %in% all_stock_names) { # Missing file found\n",
    "        print(paste0(ticker, ' is missing from the source data...'))\n",
    "        missing_ticker_idx <- which(tickers == ticker) # Index of the missing file\n",
    "        \n",
    "        # Get replacement data\n",
    "        while (names(book_value_sap500[data_replacement_counter]) %in% tickers) {\n",
    "            data_replacement_counter <- data_replacement_counter + 1 # Search for a stock not from the assigned set\n",
    "        }\n",
    "\n",
    "        # Replace the data\n",
    "        replacement_stock <- names(book_value_sap500)[data_replacement_counter] # Stock which shall serve as a replacement\n",
    "        all_stock_names[missing_ticker_idx] <- replacement_stock # Fix names\n",
    "\n",
    "        BV[missing_ticker_idx] <- book_value_sap500[replacement_stock]\n",
    "        MKT[missing_ticker_idx] <- MktCap_sap500[replacement_stock]\n",
    "        OHLCV[missing_ticker_idx] <- OHLCV_sap500[replacement_stock]\n",
    "\n",
    "        names(BV) <- all_stock_names\n",
    "        names(MKT) <- all_stock_names\n",
    "        names(OHLCV) <- all_stock_names\n",
    "        print(paste0('Data for ', ticker, ' replaced successfully with data from ', replacement_stock))\n",
    "\n",
    "        data_replacement_counter <- data_replacement_counter + 1\n",
    "    }\n",
    "}\n",
    "\n",
    "# Remove source data from working directory for better memory management\n",
    "rm(list = source_data)"
   ]
  },
  {
   "cell_type": "markdown",
   "metadata": {},
   "source": [
    "### Data preprocessing\n",
    "\n",
    "We define several functions to help us preprocess data."
   ]
  },
  {
   "cell_type": "code",
   "execution_count": 84,
   "metadata": {
    "vscode": {
     "languageId": "r"
    }
   },
   "outputs": [],
   "source": [
    "######################################\n",
    "### Data loading and preprocessing ###\n",
    "######################################\n",
    "\n",
    "# Download daily FF3 factors and return them as a single xts object\n",
    "getDailyFF3 <- function() {\n",
    "    # Load daily FF3 factors\n",
    "    file_path = \"data/F-F_Research_Data_Factors_daily.zip\"\n",
    "\n",
    "    if (!file.exists(file_path)) { # Download the file if not downloaded yet\n",
    "    download.file(\n",
    "        \"http://mba.tuck.dartmouth.edu/pages/faculty/ken.french/ftp/F-F_Research_Data_Factors_daily_TXT.zip\",\n",
    "        destfile = file_path \n",
    "    )\n",
    "    }\n",
    "    unzip(\"data/F-F_Research_Data_Factors_daily.zip\", exdir = \"data\")\n",
    "\n",
    "    ff3_factors <- read.delim(\n",
    "        'data/F-F_Research_Data_Factors_daily.txt',\n",
    "        col.names = c('t', 'mkt_rf', 'smb', 'hml', 'rf'),\n",
    "        sep = '',\n",
    "        nrows = 24957,\n",
    "        header = FALSE,\n",
    "        skip = 5,\n",
    "        stringsAsFactors = FALSE\n",
    "    )\n",
    "    ff3_factors[['t']] <- as.Date(as.character(ff3_factors[['t']]), '%Y%m%d')\n",
    "    ff3_factors <- as.xts(ff3_factors[, 2:5], order.by = ff3_factors[['t']])\n",
    "    ff3_factors <- ff3_factors / 100\n",
    "    return(ff3_factors)\n",
    "}\n",
    "\n",
    "# Input an xts object with daily data of market capitalization and return this as an xts data frame\n",
    "#   with monthly market capitalization.\n",
    "getMonthlyMarketCap <- function(daily_market_cap_data) {\n",
    "    stock_names <- names(daily_market_cap_data)\n",
    "    daily_market_caps <- do.call('cbind', daily_market_cap_data)\n",
    "    monthly_market_caps <- apply.monthly(daily_market_caps, tail, 1)\n",
    "    colnames(monthly_market_caps) <- stock_names\n",
    "    index(monthly_market_caps) <- as.Date(as.yearmon(index(monthly_market_caps)), frac = 1)\n",
    "    return(monthly_market_caps)\n",
    "}\n",
    "\n",
    "# Input a list of OHLCV datasets and return a similar object, only subsetted for adjusted prices. Discard the rest of the columns\n",
    "getAdjustedPrices <- function(OHLCV_data) {\n",
    "    if (!class(OHLCV_data) == 'list') {\n",
    "        print('The input data must be a list')\n",
    "        break\n",
    "    }\n",
    "    yankPrices <- function(data) {\n",
    "        adj_col_idx <- which(str_detect(colnames(data), 'Adjusted')) # Get index of column containing adjusted prices\n",
    "        prices <- data[, adj_col_idx]\n",
    "        return(prices)\n",
    "    }\n",
    "    data_out <- lapply(OHLCV_data, yankPrices)\n",
    "    data_out <- do.call('cbind', data_out)\n",
    "    return(data_out)\n",
    "}\n",
    "\n",
    "# Input an xts data frame containing raw adjusted prices and convert these to daily or monthly returns\n",
    "getReturns <- function(adjusted_prices_data, type = 'monthly') {\n",
    "    if (!type %in% c('daily', 'monthly')) {\n",
    "        stop('Can only handle daily or monthly returns calculation...')\n",
    "    }\n",
    "    getReturn <- function(data) {\n",
    "        if (type == 'monthly') {\n",
    "            return(suppressWarnings(monthlyReturn(data)))\n",
    "        } else {\n",
    "            return(suppressWarnings(dailyReturn(data)))\n",
    "        }\n",
    "    }    \n",
    "    returns <- lapply(adjusted_prices_data, getReturn) # Calculate returns for all stocks\n",
    "    returns <- do.call('cbind', returns)\n",
    "    colnames(returns) <- gsub('Adjusted', 'returns', names(adjusted_prices_data)) # Rename columns\n",
    "    return(returns)\n",
    "}\n",
    "\n",
    "#########################################\n",
    "### Performance indicator calculation ###\n",
    "#########################################\n",
    "\n",
    "# Input daily and monthly returns data, along with daily ff3 factors, all as an xts object.\n",
    "#   Return an xts object containing monthly betas for the input, calculated using last 12 months of data.\n",
    "getMonthlyBetas <- function(daily_returns_data, monthly_returns_data, daily_ff3_data) {\n",
    "    names(monthly_returns_data) <- gsub('returns', 'betas', names(monthly_returns_data))\n",
    "    stocks <- names(monthly_returns_data) # Stock names - AAPL.betas\n",
    "    monthly_dates <- index(monthly_returns_data) # Dates by months\n",
    "\n",
    "    monthly_betas <- lapply(monthly_dates, function(end_date) { #Betas for all\n",
    "        start_date <- end_date %m-% months(12) # Last 12 months of data\n",
    "        date_range <- paste0(start_date, '/', end_date)\n",
    "        daily_returns <- daily_returns_data[date_range]\n",
    "        market_returns <- daily_ff3_data$mkt_rf[date_range]\n",
    "        stocks_betas <- lapply(daily_returns, function(stock_returns) {\n",
    "            model_data <- na.omit(cbind(stock_returns, market_returns))\n",
    "            if (nrow(model_data) < 12 * 15) {\n",
    "                return(NA)\n",
    "            }\n",
    "            model_betas <- lm(model_data[,1] ~ model_data[,2])\n",
    "            return(model_betas$coefficients[[2]]) # Beta for given stock\n",
    "        })\n",
    "        return(unlist(stocks_betas)) # Betas for all stocks, given time frame\n",
    "    })\n",
    "    monthly_betas <- do.call('rbind', monthly_betas)\n",
    "    monthly_betas <- as.xts(monthly_betas, order.by = monthly_dates)\n",
    "    colnames(monthly_betas) <- stocks\n",
    "    return(monthly_betas)\n",
    "}\n",
    "\n",
    "# Input a list of xts objects containing market capitalization info and convert these to monthly sizes\n",
    "getMonthlySizes <- function(mkt_cap_data) {\n",
    "    monthly_sizes <- lapply(mkt_cap_data, log) # Calculate monthly sizes\n",
    "    monthly_sizes <- do.call('cbind', monthly_sizes)\n",
    "    monthly_sizes <- as.xts(apply(monthly_sizes, 2, function(x) ifelse(is.finite(x), x, NA))) # inf to NA\n",
    "    colnames(monthly_sizes) <- paste0(colnames(monthly_sizes), '.sizes') # Rename columns\n",
    "    return(monthly_sizes)\n",
    "}\n",
    "\n",
    "# Input two data frames (containing daily and monthly returns data) and return a data frame with monthly volatility\n",
    "getMonthlyVolatilities <- function(daily_returns_data, monthly_returns_data) {\n",
    "    names(monthly_returns_data) <- gsub('returns', 'volatility', names(monthly_returns_data))\n",
    "    stocks <- names(monthly_returns_data) # Stock names - AAPL.returns\n",
    "    monthly_dates <- index(monthly_returns_data) # Dates by months\n",
    "\n",
    "    monthly_volatilities <- lapply(monthly_dates, function(end_date) { # Volatilities for all time frames, all stocks\n",
    "        start_date <- end_date %m-% months(12) # Use last 12 months of data as suggested in the setup\n",
    "        date_range <- paste0(start_date, '/', end_date)\n",
    "        daily_returns <- daily_returns_data[date_range]\n",
    "        stocks_volatilities <- lapply(daily_returns, function(stock) {\n",
    "            average_stock_return <- mean(stock)\n",
    "            nominator <- sum((stock - average_stock_return) ^ 2)\n",
    "            denominator <- length(stock) - 1\n",
    "            monthly_volatility <- 100 * sqrt(nominator/denominator) * sqrt(12)\n",
    "            return(monthly_volatility) # Volatility for a given time frame, one stock\n",
    "        })\n",
    "        return(unlist(stocks_volatilities)) # Volatility for a given time frame, all stocks\n",
    "    })\n",
    "    monthly_volatilities <- do.call('rbind', monthly_volatilities) # Data frame of volatilities\n",
    "    monthly_volatilities <- as.xts(monthly_volatilities, order.by = monthly_dates) # To xts\n",
    "    colnames(monthly_volatilities) <- stocks\n",
    "    return(monthly_volatilities)\n",
    "}"
   ]
  },
  {
   "cell_type": "code",
   "execution_count": 85,
   "metadata": {
    "vscode": {
     "languageId": "r"
    }
   },
   "outputs": [],
   "source": [
    "# Compute the various metrics using previously defined functions\n",
    "adjusted_prices <- getAdjustedPrices(OHLCV)\n",
    "daily_returns <- getReturns(adjusted_prices, type = 'daily')\n",
    "monthly_returns <- getReturns(adjusted_prices, type = 'monthly')\n",
    "monthly_market_caps <- getMonthlyMarketCap(MKT)\n",
    "daily_ff3 <- getDailyFF3()"
   ]
  },
  {
   "cell_type": "code",
   "execution_count": 211,
   "metadata": {
    "vscode": {
     "languageId": "r"
    }
   },
   "outputs": [],
   "source": [
    "# Compute the three desired factors (monthly)\n",
    "monthly_sizes <- getMonthlySizes(monthly_market_caps) # 5s\n",
    "monthly_betas <- getMonthlyBetas(daily_returns, monthly_returns, daily_ff3) # 2 mins\n",
    "monthly_volatilities <- getMonthlyVolatilities(daily_returns, monthly_returns) # Monthly volatilities (vectors go brrrrrrr) - 9s"
   ]
  },
  {
   "cell_type": "markdown",
   "metadata": {},
   "source": [
    "### Portfolio analysis"
   ]
  },
  {
   "cell_type": "code",
   "execution_count": 212,
   "metadata": {
    "vscode": {
     "languageId": "r"
    }
   },
   "outputs": [],
   "source": [
    "# Input monthly data to sort by, monthly returns data, and monthly market capital data.\n",
    "#   Furthermore specify the number of quantiles and the method by which to compute the returns.\n",
    "#   For this, two options are available - 'equal' (as in equally weighted) and 'value' (as in\n",
    "#       value weighted).\n",
    "getPortfolioReturns <- function(sort_variable_data, monthly_returns_data,\n",
    "                                monthly_market_caps, n = 5, method = 'equal'){\n",
    "    # Static\n",
    "    diff_portfolio <- paste0(n, ' - 1')\n",
    "    portfolio_colnames <- c(1:n, diff_portfolio)\n",
    "    portfolio_returns_index <- index(sort_variable_data)[-1] # All but first element\n",
    "    \n",
    "    # Iterate over the months in the portfolio returns index and return return for each of them\n",
    "    portfolio_returns <- lapply(portfolio_returns_index, function(current_month) {\n",
    "        this_month_sort_variable <- sort_variable_data[current_month]\n",
    "        not_na <- !is.na(this_month_sort_variable)\n",
    "        if (sum(not_na) < 4*n) { # Not enough observations for this period\n",
    "            return(c(rep(NA, n+1)))\n",
    "        }\n",
    "\n",
    "        next_month <- as.Date(as.yearmon(current_month %m+% months(1)), frac = 1)\n",
    "        if (!next_month %in% index(monthly_returns_data)) {\n",
    "            return(c(rep(NA, n+1))) # Skip if no returns data in the next months\n",
    "        }\n",
    "\n",
    "        next_month_returns <- monthly_returns_data[next_month] # A vector for all stocks\n",
    "        if (method == 'value') { # For value weighting\n",
    "            next_month_market_caps <- monthly_market_caps[next_month]\n",
    "            next_month_market_caps[is.na(next_month_market_caps)] <- 0 # No weights for missing obs\n",
    "        }\n",
    "\n",
    "        breakpoints <- quantile(this_month_sort_variable, prob = 0:n/n, na.rm = TRUE) # Quintiles\n",
    "\n",
    "        # Compute portfolio returns\n",
    "        this_period_returns <- c()\n",
    "        for (i in breakpoints) { # Find all quintile breakpoints\n",
    "            next_breakpoint_idx <- match(i, breakpoints) + 1\n",
    "            next_breakpoint <- breakpoints[next_breakpoint_idx]\n",
    "            if (!is.na(next_breakpoint)) { # While not out of quntiles\n",
    "                filter <- (i < this_month_sort_variable) &\n",
    "                          (this_month_sort_variable < next_breakpoint) &\n",
    "                          (not_na)\n",
    "                if (method == 'equal') {# Equally weighted portfolio\n",
    "                    quintile_return <- mean(next_month_returns[,filter])\n",
    "                } else if (method == 'value') {\n",
    "                    quintile_return <- weighted.mean(t(next_month_returns[,filter]),\n",
    "                                                    t(next_month_market_caps[,filter])) # Actual return\n",
    "                } else {\n",
    "                    stop('Incorrectly defined method. Select one of - equal, value.')\n",
    "                }\n",
    "                this_period_returns <- append(this_period_returns, quintile_return) # Store value \n",
    "            } else {\n",
    "                break # Last iteration\n",
    "            } \n",
    "        }\n",
    "        diff_returns <- this_period_returns[[n]] - this_period_returns[[1]]\n",
    "        this_period_returns <- append(this_period_returns, diff_returns) # Append returns of diff\n",
    "        return(this_period_returns) # Returns for all quintiles for this period\n",
    "    })\n",
    "    portfolio_returns <- as.xts(do.call('rbind', portfolio_returns), # To xts\n",
    "        order.by = as.Date(as.yearmon(portfolio_returns_index)))\n",
    "    colnames(portfolio_returns) <- portfolio_colnames\n",
    "    return(portfolio_returns)\n",
    "}\n"
   ]
  },
  {
   "cell_type": "code",
   "execution_count": 213,
   "metadata": {
    "vscode": {
     "languageId": "r"
    }
   },
   "outputs": [],
   "source": [
    "portfolio_returns <- getPortfolioReturns(monthly_betas, monthly_returns, monthly_market_caps)"
   ]
  },
  {
   "cell_type": "code",
   "execution_count": 214,
   "metadata": {
    "vscode": {
     "languageId": "r"
    }
   },
   "outputs": [
    {
     "data": {
      "text/plain": [
       "                      1             2            3            4            5\n",
       "2015-01-01           NA            NA           NA           NA           NA\n",
       "2015-02-01  0.001974576  0.0030944735 -0.003114615 -0.008495491 -0.005803315\n",
       "2015-03-01 -0.023752946 -0.0174280088 -0.006363546  0.002870140  0.021002123\n",
       "2015-04-01           NA            NA           NA           NA           NA\n",
       "2015-05-01 -0.035702142  0.0008197254 -0.009586905 -0.009241202 -0.024830853\n",
       "2015-06-01  0.058954005  0.0330786286  0.033031995  0.005158851 -0.008878617\n",
       "                  5 - 1\n",
       "2015-01-01           NA\n",
       "2015-02-01 -0.007777892\n",
       "2015-03-01  0.044755069\n",
       "2015-04-01           NA\n",
       "2015-05-01  0.010871289\n",
       "2015-06-01 -0.067832622"
      ]
     },
     "metadata": {},
     "output_type": "display_data"
    }
   ],
   "source": [
    "head(portfolio_returns['2015'])"
   ]
  }
 ],
 "metadata": {
  "kernelspec": {
   "display_name": "R",
   "language": "R",
   "name": "ir"
  },
  "language_info": {
   "codemirror_mode": "r",
   "file_extension": ".r",
   "mimetype": "text/x-r-source",
   "name": "R",
   "pygments_lexer": "r",
   "version": "3.6.1"
  }
 },
 "nbformat": 4,
 "nbformat_minor": 4
}
